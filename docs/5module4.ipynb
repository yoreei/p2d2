{
 "cells": [
  {
   "cell_type": "code",
   "execution_count": 334,
   "id": "cd839679-32ef-41e1-8200-4367218af581",
   "metadata": {
    "tags": []
   },
   "outputs": [
    {
     "data": {
      "text/plain": [
       "Index(['index', 'bytes_memory', 'cpu_percent', 'bytes_sent', 'bytes_recv',\n",
       "       'wall_time', 'exitcode', 'db_time', 'rep', 'net', 'scale', 'wflow',\n",
       "       'optimizer'],\n",
       "      dtype='object')"
      ]
     },
     "execution_count": 334,
     "metadata": {},
     "output_type": "execute_result"
    }
   ],
   "source": [
    "from plotnine import *\n",
    "import pandas\n",
    "from sklearn import preprocessing\n",
    "import itertools\n",
    "from statistics import mean\n",
    "from solarized import *\n",
    "pandas.options.display.max_rows=10"
   ]
  },
  {
   "cell_type": "code",
   "execution_count": null,
   "id": "a512fcc7-3f1b-4959-9f50-ee0ef98065ab",
   "metadata": {},
   "outputs": [],
   "source": [
    "# 1.{5end_to_end} tpch 1,2,3,4,5 with scale 1, 10\n",
    "# 2 {5module4} and 3. module4 | also {5module4mem} and {5module4net}\n",
    "# 3.{5tpchmodin} tpch 1, 4, 5 with modin on scale 10\n",
    "# 4.{5micro_scales} micros with scale 1, 10 | also {5micro_traffic}\n",
    "# 5.{5micro_net} micro join, selection with net=wan and scale 1"
   ]
  },
  {
   "cell_type": "code",
   "execution_count": null,
   "id": "18187e38-7205-45f4-a77e-796d9dffca0d",
   "metadata": {},
   "outputs": [],
   "source": [
    "df=pandas.read_feather('special-reports/5module4.feather')\n",
    "df.columns"
   ]
  },
  {
   "cell_type": "markdown",
   "id": "45169b47-cd90-426c-91c4-77e5a8fe8c21",
   "metadata": {},
   "source": [
    "# CHECK"
   ]
  },
  {
   "cell_type": "code",
   "execution_count": 335,
   "id": "fa93131e-558c-4a47-9c39-47705fb28ecf",
   "metadata": {},
   "outputs": [
    {
     "data": {
      "text/plain": [
       "0    186285\n",
       "1     21940\n",
       "Name: exitcode, dtype: int64"
      ]
     },
     "execution_count": 335,
     "metadata": {},
     "output_type": "execute_result"
    }
   ],
   "source": [
    "df['exitcode'].value_counts()"
   ]
  },
  {
   "cell_type": "code",
   "execution_count": 336,
   "id": "4cec32a3-f9c9-4805-adae-97dfa8bfadd9",
   "metadata": {},
   "outputs": [
    {
     "data": {
      "text/plain": [
       "array(['tpch1.py', 'q07.sql', 'q08.sql', 'q09.sql'], dtype=object)"
      ]
     },
     "execution_count": 336,
     "metadata": {},
     "output_type": "execute_result"
    }
   ],
   "source": [
    "df.query(\"exitcode == 1\")['wflow'].unique()"
   ]
  },
  {
   "cell_type": "markdown",
   "id": "84b22d74-8322-4ddd-b7d2-bd89cb446b07",
   "metadata": {},
   "source": [
    "# PREPROCESS"
   ]
  },
  {
   "cell_type": "code",
   "execution_count": 399,
   "id": "203c3520-f38f-4f7b-9971-933e1c132dd4",
   "metadata": {},
   "outputs": [
    {
     "data": {
      "text/plain": [
       "Index(['wflow', 'optimizer', 'net', 'scale', 'index', 'bytes_sent',\n",
       "       'wall_time', 'db_time', 'gb_memory', 'cpu', 'gb_net',\n",
       "       'procedural_time'],\n",
       "      dtype='object')"
      ]
     },
     "execution_count": 399,
     "metadata": {},
     "output_type": "execute_result"
    }
   ],
   "source": [
    "overview = df.groupby(by=factors).first().reset_index()\n",
    "overview.columns"
   ]
  },
  {
   "cell_type": "code",
   "execution_count": null,
   "id": "644ad9bf-5388-42e7-9c3a-7edbf127be79",
   "metadata": {},
   "outputs": [],
   "source": [
    "overview.rename(columns={\"db_time\":\"transfer_time\"}, inplace=True)\n",
    "overview[\"py_time\"] = overview[\"shared_wall_time\"] - overview[\"transfer_time\"]"
   ]
  },
  {
   "cell_type": "code",
   "execution_count": null,
   "id": "d1633171-4044-4907-a8ef-831008464972",
   "metadata": {},
   "outputs": [],
   "source": [
    "module4 = overview[[\"wflow\", \"optimizer\", \"py_time\", \"transfer_time\"]]"
   ]
  },
  {
   "cell_type": "markdown",
   "id": "16cf6420-6e0f-4c89-99e1-1b3ea8ef4a32",
   "metadata": {},
   "source": [
    "# {5module4}"
   ]
  },
  {
   "cell_type": "code",
   "execution_count": 402,
   "id": "02e3de4c-3210-4c3a-8c4d-6d657e4aa12e",
   "metadata": {},
   "outputs": [],
   "source": [
    "plot_df = module4.melt(id_vars=[\"wflow\", \"optimizer\"], value_vars=[\"py_time\", \"transfer_time\"],\n",
    "                    value_name='measurement', var_name='var')\n"
   ]
  },
  {
   "cell_type": "code",
   "execution_count": null,
   "id": "e63db4ff-1b22-4520-b0ae-1b6c780e2330",
   "metadata": {},
   "outputs": [],
   "source": [
    "plot = (\n",
    "        ggplot(plot_df, aes('optimizer', y='measurement', fill='var'))\n",
    "        + geom_col(width=0.3)\n",
    "        #+ scale_fill_manual(values=cdict) \n",
    "        + facet_wrap('wflow', scales='free')\n",
    "        + xlab(\"Optimization Method\")\n",
    "        + ylab(\"Time (in sec.)\")\n",
    "        + theme(figure_size=(5, 2.5),\n",
    "               subplots_adjust={'hspace': 1, 'wspace': 0.25})\n",
    "    )"
   ]
  },
  {
   "cell_type": "code",
   "execution_count": null,
   "id": "511abb7b-e859-4624-baa2-eada8bf3f23f",
   "metadata": {},
   "outputs": [],
   "source": [
    "plot.save(\"specific-plots/5module4.png\")\n",
    "tikzplotlib.save('specific-plots/5module4.tikz', figure=plot)\n",
    "display(plot)"
   ]
  },
  {
   "cell_type": "markdown",
   "id": "0ec342af-4d44-4093-8a56-0f3fd7d0aeda",
   "metadata": {},
   "source": [
    "\n",
    "# {5module4net}"
   ]
  },
  {
   "cell_type": "code",
   "execution_count": null,
   "id": "e131a1b2-15e3-4063-83c9-da2400b20cc2",
   "metadata": {},
   "outputs": [],
   "source": [
    "overview['gb_net'] = overview['bytes_recv']/10**9"
   ]
  },
  {
   "cell_type": "code",
   "execution_count": null,
   "id": "397b1f36-e215-4e32-bfee-ee40fbd0afee",
   "metadata": {},
   "outputs": [],
   "source": [
    "plot_df = overview[[\"wflow\", \"optimizer\", \"gb_net\"]]"
   ]
  },
  {
   "cell_type": "code",
   "execution_count": null,
   "id": "e0e6b4f9-7223-42c5-a689-8161e27dec45",
   "metadata": {},
   "outputs": [],
   "source": [
    "plot = (\n",
    "    ggplot(plot_df, aes('optimizer', y='gb_net'))\n",
    "    + geom_col(width=0.3)\n",
    "    #+ scale_fill_manual(values=cdict)\n",
    "    + xlab(\"Optimization Method\")\n",
    "    + ylab(\"Time (in sec.)\")\n",
    "    + facet_wrap('wflow', scales='free')\n",
    "    + theme(figure_size=(5, 2.5),\n",
    "           subplots_adjust={'hspace': 1, 'wspace': 0.25})\n",
    ")"
   ]
  },
  {
   "cell_type": "code",
   "execution_count": null,
   "id": "cac80f0f-1b2b-403e-81d5-36ace6d04269",
   "metadata": {},
   "outputs": [],
   "source": [
    "plot.save(\"specific-plots/5module4net.png\")\n",
    "tikzplotlib.save('specific-plots/5module4net.tikz', figure=plot)\n",
    "display(plot)"
   ]
  },
  {
   "cell_type": "markdown",
   "id": "9915bcfe-9bf2-4b78-bab1-8264dabc756b",
   "metadata": {},
   "source": [
    "# {5module4mem}"
   ]
  },
  {
   "cell_type": "code",
   "execution_count": null,
   "id": "6ffbff28-a80a-431e-a18d-869e1135d7c9",
   "metadata": {},
   "outputs": [],
   "source": [
    "df[\"db_ratio\"] = overview[\"transfer_time\"] / overview[\"shared_wall_time\"]"
   ]
  },
  {
   "cell_type": "code",
   "execution_count": null,
   "id": "384bbea5-beba-48da-912e-5ce16196ca57",
   "metadata": {},
   "outputs": [],
   "source": [
    "df['gb_memory'] = df['bytes_memory']/10**9"
   ]
  },
  {
   "cell_type": "code",
   "execution_count": null,
   "id": "40b5fdd8-95d7-4bc2-9d53-265eded2e928",
   "metadata": {},
   "outputs": [],
   "source": [
    "plot_df = df[[\"wflow\", \"optimizer\", \"gb_memory\", \"snapshot_idx\"]]"
   ]
  },
  {
   "cell_type": "code",
   "execution_count": null,
   "id": "b870cf9b-9877-40d2-ac54-c36eff87b41e",
   "metadata": {},
   "outputs": [],
   "source": [
    "plot_df['color']=C_BLUE\n",
    "dummy_df=plot_df.copy()\n",
    "dummy_df['color'] = C_GREEN\n",
    "plot = (\n",
    "ggplot(plot_df, aes('snapshot_idx', y='Memory usage in %'))\n",
    "+ geom_area(aes(fill='color'))\n",
    "+ geom_rect(aes(xmax='db_ratio', fill='color'), dummy_df, xmin=0,ymin=0,ymax=100,\n",
    "           alpha=0.2)\n",
    "+ facet_grid('optimizer ~ wflow')\n",
    "+ theme(figure_size=(8, 2.5))\n",
    "+ labs(y=None)\n",
    "+ scale_fill_identity(name = 'Area colors', guide = 'legend',labels = ('Global Memory Consumption in %', 'Execution inside the RDBMS')) \n",
    "# + scale_colour_manual(name = 'the colour', \n",
    "#     values ={'black':'white','red':'blue'}, labels = ('c2','c1'))\n",
    ")"
   ]
  },
  {
   "cell_type": "code",
   "execution_count": null,
   "id": "4d3fb883-bc72-4011-bba6-0a36e151d265",
   "metadata": {},
   "outputs": [],
   "source": [
    "plot.save(\"specific-plots/5module4mem.png\")\n",
    "tikzplotlib.save('specific-plots/5module4mem.tikz', figure=plot)\n",
    "display(plot)"
   ]
  }
 ],
 "metadata": {
  "kernelspec": {
   "display_name": "Python 3",
   "language": "python",
   "name": "python3"
  },
  "language_info": {
   "codemirror_mode": {
    "name": "ipython",
    "version": 3
   },
   "file_extension": ".py",
   "mimetype": "text/x-python",
   "name": "python",
   "nbconvert_exporter": "python",
   "pygments_lexer": "ipython3",
   "version": "3.8.10"
  }
 },
 "nbformat": 4,
 "nbformat_minor": 5
}
