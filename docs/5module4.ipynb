{
 "cells": [
  {
   "cell_type": "code",
   "execution_count": 54,
   "id": "cd839679-32ef-41e1-8200-4367218af581",
   "metadata": {
    "tags": []
   },
   "outputs": [],
   "source": [
    "from plotnine import *\n",
    "import pandas\n",
    "from solarized import *\n",
    "import tikzplotlib\n",
    "pandas.options.display.max_rows=10"
   ]
  },
  {
   "cell_type": "code",
   "execution_count": 55,
   "id": "a512fcc7-3f1b-4959-9f50-ee0ef98065ab",
   "metadata": {},
   "outputs": [],
   "source": [
    "# 1.{5end_to_end} tpch 1,2,3,4,5 with scale 1, 10\n",
    "# 2 {5module4} and 3. module4 | also {5module4mem} and {5module4net}\n",
    "# 3.{5tpchmodin} tpch 1, 4, 5 with modin on scale 10\n",
    "# 4.{5micro_scales} micros with scale 1, 10 | also {5micro_traffic}\n",
    "# 5.{5micro_net} micro join, selection with net=wan and scale 1"
   ]
  },
  {
   "cell_type": "code",
   "execution_count": 56,
   "id": "18187e38-7205-45f4-a77e-796d9dffca0d",
   "metadata": {},
   "outputs": [
    {
     "data": {
      "text/plain": [
       "Index(['bytes_memory', 'cpu_percent', 'bytes_sent', 'bytes_recv',\n",
       "       'snapshot_idx', 'proc_time', 'exitcode', 'db_time', 'shared_wall_time',\n",
       "       'wflow', 'optimizer', 'scale', 'net'],\n",
       "      dtype='object')"
      ]
     },
     "execution_count": 56,
     "metadata": {},
     "output_type": "execute_result"
    }
   ],
   "source": [
    "factors= ['wflow', 'optimizer', 'net', 'scale']\n",
    "df=pandas.read_feather('specific-reports/5module4.feather')\n",
    "df.columns"
   ]
  },
  {
   "cell_type": "code",
   "execution_count": 61,
   "id": "05659686-638f-4a2c-9b86-e703778f4c5d",
   "metadata": {},
   "outputs": [
    {
     "data": {
      "text/plain": [
       "0.0    3863\n",
       "Name: shared_wall_time, dtype: int64"
      ]
     },
     "execution_count": 61,
     "metadata": {},
     "output_type": "execute_result"
    }
   ],
   "source": [
    "df['shared_wall_time'].value_counts()"
   ]
  },
  {
   "cell_type": "markdown",
   "id": "45169b47-cd90-426c-91c4-77e5a8fe8c21",
   "metadata": {},
   "source": [
    "# CHECK"
   ]
  },
  {
   "cell_type": "code",
   "execution_count": 35,
   "id": "fa93131e-558c-4a47-9c39-47705fb28ecf",
   "metadata": {},
   "outputs": [
    {
     "data": {
      "text/plain": [
       "0    3863\n",
       "Name: exitcode, dtype: int64"
      ]
     },
     "execution_count": 35,
     "metadata": {},
     "output_type": "execute_result"
    }
   ],
   "source": [
    "df['exitcode'].value_counts()"
   ]
  },
  {
   "cell_type": "code",
   "execution_count": 36,
   "id": "4cec32a3-f9c9-4805-adae-97dfa8bfadd9",
   "metadata": {},
   "outputs": [
    {
     "data": {
      "text/plain": [
       "array([], dtype=object)"
      ]
     },
     "execution_count": 36,
     "metadata": {},
     "output_type": "execute_result"
    }
   ],
   "source": [
    "df.query(\"exitcode == 1\")['wflow'].unique()"
   ]
  },
  {
   "cell_type": "markdown",
   "id": "84b22d74-8322-4ddd-b7d2-bd89cb446b07",
   "metadata": {},
   "source": [
    "# PREPROCESS"
   ]
  },
  {
   "cell_type": "code",
   "execution_count": 37,
   "id": "203c3520-f38f-4f7b-9971-933e1c132dd4",
   "metadata": {},
   "outputs": [
    {
     "data": {
      "text/plain": [
       "Index(['wflow', 'optimizer', 'net', 'scale', 'bytes_memory', 'cpu_percent',\n",
       "       'bytes_sent', 'bytes_recv', 'snapshot_idx', 'proc_time', 'exitcode',\n",
       "       'db_time', 'shared_wall_time'],\n",
       "      dtype='object')"
      ]
     },
     "execution_count": 37,
     "metadata": {},
     "output_type": "execute_result"
    }
   ],
   "source": [
    "overview = df.groupby(by=factors).first().reset_index()\n",
    "overview.columns"
   ]
  },
  {
   "cell_type": "code",
   "execution_count": 38,
   "id": "644ad9bf-5388-42e7-9c3a-7edbf127be79",
   "metadata": {},
   "outputs": [],
   "source": [
    "overview.rename(columns={\"db_time\":\"transfer_time\"}, inplace=True)\n",
    "overview[\"py_time\"] = overview[\"shared_wall_time\"] - overview[\"transfer_time\"]"
   ]
  },
  {
   "cell_type": "code",
   "execution_count": 39,
   "id": "d1633171-4044-4907-a8ef-831008464972",
   "metadata": {},
   "outputs": [],
   "source": [
    "module4 = overview[[\"wflow\", \"optimizer\", \"py_time\", \"transfer_time\"]]"
   ]
  },
  {
   "cell_type": "code",
   "execution_count": 52,
   "id": "4936d763-94a4-486a-b23f-b7fc3b50c8b1",
   "metadata": {},
   "outputs": [
    {
     "data": {
      "text/html": [
       "<div>\n",
       "<style scoped>\n",
       "    .dataframe tbody tr th:only-of-type {\n",
       "        vertical-align: middle;\n",
       "    }\n",
       "\n",
       "    .dataframe tbody tr th {\n",
       "        vertical-align: top;\n",
       "    }\n",
       "\n",
       "    .dataframe thead th {\n",
       "        text-align: right;\n",
       "    }\n",
       "</style>\n",
       "<table border=\"1\" class=\"dataframe\">\n",
       "  <thead>\n",
       "    <tr style=\"text-align: right;\">\n",
       "      <th></th>\n",
       "      <th>wflow</th>\n",
       "      <th>optimizer</th>\n",
       "      <th>py_time</th>\n",
       "      <th>transfer_time</th>\n",
       "    </tr>\n",
       "  </thead>\n",
       "  <tbody>\n",
       "    <tr>\n",
       "      <th>0</th>\n",
       "      <td>module4.py</td>\n",
       "      <td>base</td>\n",
       "      <td>0.0</td>\n",
       "      <td>0.0</td>\n",
       "    </tr>\n",
       "    <tr>\n",
       "      <th>1</th>\n",
       "      <td>module4.py</td>\n",
       "      <td>optimized</td>\n",
       "      <td>0.0</td>\n",
       "      <td>0.0</td>\n",
       "    </tr>\n",
       "  </tbody>\n",
       "</table>\n",
       "</div>"
      ],
      "text/plain": [
       "        wflow  optimizer  py_time  transfer_time\n",
       "0  module4.py       base      0.0            0.0\n",
       "1  module4.py  optimized      0.0            0.0"
      ]
     },
     "execution_count": 52,
     "metadata": {},
     "output_type": "execute_result"
    }
   ],
   "source": [
    "module4"
   ]
  },
  {
   "cell_type": "markdown",
   "id": "16cf6420-6e0f-4c89-99e1-1b3ea8ef4a32",
   "metadata": {},
   "source": [
    "# {5module4}"
   ]
  },
  {
   "cell_type": "code",
   "execution_count": 40,
   "id": "02e3de4c-3210-4c3a-8c4d-6d657e4aa12e",
   "metadata": {},
   "outputs": [],
   "source": [
    "plot_df = module4.melt(id_vars=[\"wflow\", \"optimizer\"], value_vars=[\"py_time\", \"transfer_time\"],\n",
    "                    value_name='measurement', var_name='var')\n"
   ]
  },
  {
   "cell_type": "code",
   "execution_count": 41,
   "id": "e63db4ff-1b22-4520-b0ae-1b6c780e2330",
   "metadata": {},
   "outputs": [],
   "source": [
    "plot = (\n",
    "        ggplot(plot_df, aes('optimizer', y='measurement', fill='var'))\n",
    "        + geom_col(width=0.3)\n",
    "        #+ scale_fill_manual(values=cdict) \n",
    "        + facet_wrap('wflow', scales='free')\n",
    "        + xlab(\"Optimization Method\")\n",
    "        + ylab(\"Time (in sec.)\")\n",
    "        + theme(figure_size=(5, 2.5),\n",
    "               subplots_adjust={'hspace': 1, 'wspace': 0.25})\n",
    "    )"
   ]
  },
  {
   "cell_type": "code",
   "execution_count": 42,
   "id": "511abb7b-e859-4624-baa2-eada8bf3f23f",
   "metadata": {},
   "outputs": [
    {
     "name": "stderr",
     "output_type": "stream",
     "text": [
      "E:\\ssdapps\\anaconda\\lib\\site-packages\\plotnine\\ggplot.py:719: PlotnineWarning: Saving 5 x 2.5 in image.\n",
      "E:\\ssdapps\\anaconda\\lib\\site-packages\\plotnine\\ggplot.py:722: PlotnineWarning: Filename: specific-plots/5end_to_end.png\n",
      "E:\\ssdapps\\anaconda\\lib\\site-packages\\tikzplotlib\\_save.py:390: UserWarning: tikzplotlib: Don't know how to handle object <class 'matplotlib.offsetbox.AnchoredOffsetbox'>.\n"
     ]
    },
    {
     "data": {
      "image/png": "[encoded data removed]",
      "text/plain": [
       "<Figure size 500x250 with 1 Axes>"
      ]
     },
     "metadata": {},
     "output_type": "display_data"
    },
    {
     "data": {
      "image/png": "[encoded data removed]",
      "text/plain": [
       "<Figure size 500x250 with 1 Axes>"
      ]
     },
     "metadata": {},
     "output_type": "display_data"
    },
    {
     "data": {
      "text/plain": [
       "<ggplot: (107509058588)>"
      ]
     },
     "metadata": {},
     "output_type": "display_data"
    }
   ],
   "source": [
    "plot.save(\"specific-plots/5end_to_end.png\")\n",
    "matplot = plot.draw()\n",
    "tikzplotlib.save('specific-plots/5end_to_end.tikz', figure=matplot)\n",
    "display(plot)"
   ]
  },
  {
   "cell_type": "markdown",
   "id": "0ec342af-4d44-4093-8a56-0f3fd7d0aeda",
   "metadata": {},
   "source": [
    "\n",
    "# {5module4net}"
   ]
  },
  {
   "cell_type": "code",
   "execution_count": 43,
   "id": "e131a1b2-15e3-4063-83c9-da2400b20cc2",
   "metadata": {},
   "outputs": [],
   "source": [
    "overview['gb_net'] = overview['bytes_recv']/10**9"
   ]
  },
  {
   "cell_type": "code",
   "execution_count": 44,
   "id": "397b1f36-e215-4e32-bfee-ee40fbd0afee",
   "metadata": {},
   "outputs": [],
   "source": [
    "plot_df = overview[[\"wflow\", \"optimizer\", \"gb_net\"]]"
   ]
  },
  {
   "cell_type": "code",
   "execution_count": 45,
   "id": "e0e6b4f9-7223-42c5-a689-8161e27dec45",
   "metadata": {},
   "outputs": [],
   "source": [
    "plot = (\n",
    "    ggplot(plot_df, aes('optimizer', y='gb_net'))\n",
    "    + geom_col(width=0.3)\n",
    "    #+ scale_fill_manual(values=cdict)\n",
    "    + xlab(\"Optimization Method\")\n",
    "    + ylab(\"Time (in sec.)\")\n",
    "    + facet_wrap('wflow', scales='free')\n",
    "    + theme(figure_size=(5, 2.5),\n",
    "           subplots_adjust={'hspace': 1, 'wspace': 0.25})\n",
    ")"
   ]
  },
  {
   "cell_type": "code",
   "execution_count": 46,
   "id": "cac80f0f-1b2b-403e-81d5-36ace6d04269",
   "metadata": {},
   "outputs": [
    {
     "name": "stderr",
     "output_type": "stream",
     "text": [
      "E:\\ssdapps\\anaconda\\lib\\site-packages\\plotnine\\ggplot.py:719: PlotnineWarning: Saving 5 x 2.5 in image.\n",
      "E:\\ssdapps\\anaconda\\lib\\site-packages\\plotnine\\ggplot.py:722: PlotnineWarning: Filename: specific-plots/5end_to_end.png\n"
     ]
    },
    {
     "data": {
      "image/png": "[encoded data removed]",
      "text/plain": [
       "<Figure size 500x250 with 1 Axes>"
      ]
     },
     "metadata": {},
     "output_type": "display_data"
    },
    {
     "data": {
      "image/png": "[encoded data removed]",
      "text/plain": [
       "<Figure size 500x250 with 1 Axes>"
      ]
     },
     "metadata": {},
     "output_type": "display_data"
    },
    {
     "data": {
      "text/plain": [
       "<ggplot: (107510190608)>"
      ]
     },
     "metadata": {},
     "output_type": "display_data"
    }
   ],
   "source": [
    "plot.save(\"specific-plots/5end_to_end.png\")\n",
    "matplot = plot.draw()\n",
    "tikzplotlib.save('specific-plots/5end_to_end.tikz', figure=matplot)\n",
    "display(plot)"
   ]
  },
  {
   "cell_type": "markdown",
   "id": "9915bcfe-9bf2-4b78-bab1-8264dabc756b",
   "metadata": {},
   "source": [
    "# {5module4mem}"
   ]
  },
  {
   "cell_type": "code",
   "execution_count": 47,
   "id": "6ffbff28-a80a-431e-a18d-869e1135d7c9",
   "metadata": {},
   "outputs": [],
   "source": [
    "df[\"db_ratio\"] = overview[\"transfer_time\"] / overview[\"shared_wall_time\"]"
   ]
  },
  {
   "cell_type": "code",
   "execution_count": 48,
   "id": "384bbea5-beba-48da-912e-5ce16196ca57",
   "metadata": {},
   "outputs": [],
   "source": [
    "df['gb_memory'] = df['bytes_memory']/10**9"
   ]
  },
  {
   "cell_type": "code",
   "execution_count": 49,
   "id": "40b5fdd8-95d7-4bc2-9d53-265eded2e928",
   "metadata": {},
   "outputs": [],
   "source": [
    "plot_df = df[[\"wflow\", \"optimizer\", \"gb_memory\", \"snapshot_idx\"]]"
   ]
  },
  {
   "cell_type": "code",
   "execution_count": 50,
   "id": "b870cf9b-9877-40d2-ac54-c36eff87b41e",
   "metadata": {},
   "outputs": [
    {
     "name": "stderr",
     "output_type": "stream",
     "text": [
      "<ipython-input-50-883bb2bbb95b>:1: SettingWithCopyWarning: \n",
      "A value is trying to be set on a copy of a slice from a DataFrame.\n",
      "Try using .loc[row_indexer,col_indexer] = value instead\n",
      "\n",
      "See the caveats in the documentation: https://pandas.pydata.org/pandas-docs/stable/user_guide/indexing.html#returning-a-view-versus-a-copy\n"
     ]
    }
   ],
   "source": [
    "plot_df['color']=C_BLUE\n",
    "dummy_df=plot_df.copy()\n",
    "dummy_df['color'] = C_GREEN\n",
    "plot = (\n",
    "ggplot(plot_df, aes('snapshot_idx', y='Memory usage in %'))\n",
    "+ geom_area(aes(fill='color'))\n",
    "+ geom_rect(aes(xmax='db_ratio', fill='color'), dummy_df, xmin=0,ymin=0,ymax=100,\n",
    "           alpha=0.2)\n",
    "+ facet_grid('optimizer ~ wflow')\n",
    "+ theme(figure_size=(8, 2.5))\n",
    "+ labs(y=None)\n",
    "+ scale_fill_identity(name = 'Area colors', guide = 'legend',labels = ('Global Memory Consumption in %', 'Execution inside the RDBMS')) \n",
    "# + scale_colour_manual(name = 'the colour', \n",
    "#     values ={'black':'white','red':'blue'}, labels = ('c2','c1'))\n",
    ")"
   ]
  },
  {
   "cell_type": "code",
   "execution_count": 51,
   "id": "4d3fb883-bc72-4011-bba6-0a36e151d265",
   "metadata": {},
   "outputs": [
    {
     "name": "stderr",
     "output_type": "stream",
     "text": [
      "E:\\ssdapps\\anaconda\\lib\\site-packages\\plotnine\\ggplot.py:719: PlotnineWarning: Saving 8 x 2.5 in image.\n",
      "E:\\ssdapps\\anaconda\\lib\\site-packages\\plotnine\\ggplot.py:722: PlotnineWarning: Filename: specific-plots/5end_to_end.png\n"
     ]
    },
    {
     "ename": "PlotnineError",
     "evalue": "\"Could not evaluate the 'y' mapping: 'Memory usage in %' (original error: invalid syntax (<string>, line 1))\"",
     "output_type": "error",
     "traceback": [
      "\u001b[1;31m---------------------------------------------------------------------------\u001b[0m",
      "\u001b[1;31mSyntaxError\u001b[0m                               Traceback (most recent call last)",
      "\u001b[1;32mE:\\ssdapps\\anaconda\\lib\\site-packages\\plotnine\\mapping\\evaluation.py\u001b[0m in \u001b[0;36mevaluate\u001b[1;34m(aesthetics, data, env)\u001b[0m\n\u001b[0;32m    216\u001b[0m                 \u001b[1;32mtry\u001b[0m\u001b[1;33m:\u001b[0m\u001b[1;33m\u001b[0m\u001b[1;33m\u001b[0m\u001b[0m\n\u001b[1;32m--> 217\u001b[1;33m                     \u001b[0mnew_val\u001b[0m \u001b[1;33m=\u001b[0m \u001b[0menv\u001b[0m\u001b[1;33m.\u001b[0m\u001b[0meval\u001b[0m\u001b[1;33m(\u001b[0m\u001b[0mcol\u001b[0m\u001b[1;33m,\u001b[0m \u001b[0minner_namespace\u001b[0m\u001b[1;33m=\u001b[0m\u001b[0mdata\u001b[0m\u001b[1;33m)\u001b[0m\u001b[1;33m\u001b[0m\u001b[1;33m\u001b[0m\u001b[0m\n\u001b[0m\u001b[0;32m    218\u001b[0m                 \u001b[1;32mexcept\u001b[0m \u001b[0mException\u001b[0m \u001b[1;32mas\u001b[0m \u001b[0me\u001b[0m\u001b[1;33m:\u001b[0m\u001b[1;33m\u001b[0m\u001b[1;33m\u001b[0m\u001b[0m\n",
      "\u001b[1;32mE:\\ssdapps\\anaconda\\lib\\site-packages\\patsy\\eval.py\u001b[0m in \u001b[0;36meval\u001b[1;34m(self, expr, source_name, inner_namespace)\u001b[0m\n\u001b[0;32m    163\u001b[0m         \"\"\"\n\u001b[1;32m--> 164\u001b[1;33m         \u001b[0mcode\u001b[0m \u001b[1;33m=\u001b[0m \u001b[0mcompile\u001b[0m\u001b[1;33m(\u001b[0m\u001b[0mexpr\u001b[0m\u001b[1;33m,\u001b[0m \u001b[0msource_name\u001b[0m\u001b[1;33m,\u001b[0m \u001b[1;34m\"eval\"\u001b[0m\u001b[1;33m,\u001b[0m \u001b[0mself\u001b[0m\u001b[1;33m.\u001b[0m\u001b[0mflags\u001b[0m\u001b[1;33m,\u001b[0m \u001b[1;32mFalse\u001b[0m\u001b[1;33m)\u001b[0m\u001b[1;33m\u001b[0m\u001b[1;33m\u001b[0m\u001b[0m\n\u001b[0m\u001b[0;32m    165\u001b[0m         return eval(code, {}, VarLookupDict([inner_namespace]\n",
      "\u001b[1;31mSyntaxError\u001b[0m: invalid syntax (<string>, line 1)",
      "\nDuring handling of the above exception, another exception occurred:\n",
      "\u001b[1;31mPlotnineError\u001b[0m                             Traceback (most recent call last)",
      "\u001b[1;32m<ipython-input-51-8517106ad43c>\u001b[0m in \u001b[0;36m<module>\u001b[1;34m\u001b[0m\n\u001b[1;32m----> 1\u001b[1;33m \u001b[0mplot\u001b[0m\u001b[1;33m.\u001b[0m\u001b[0msave\u001b[0m\u001b[1;33m(\u001b[0m\u001b[1;34m\"specific-plots/5end_to_end.png\"\u001b[0m\u001b[1;33m)\u001b[0m\u001b[1;33m\u001b[0m\u001b[1;33m\u001b[0m\u001b[0m\n\u001b[0m\u001b[0;32m      2\u001b[0m \u001b[0mmatplot\u001b[0m \u001b[1;33m=\u001b[0m \u001b[0mplot\u001b[0m\u001b[1;33m.\u001b[0m\u001b[0mdraw\u001b[0m\u001b[1;33m(\u001b[0m\u001b[1;33m)\u001b[0m\u001b[1;33m\u001b[0m\u001b[1;33m\u001b[0m\u001b[0m\n\u001b[0;32m      3\u001b[0m \u001b[0mtikzplotlib\u001b[0m\u001b[1;33m.\u001b[0m\u001b[0msave\u001b[0m\u001b[1;33m(\u001b[0m\u001b[1;34m'specific-plots/5end_to_end.tikz'\u001b[0m\u001b[1;33m,\u001b[0m \u001b[0mfigure\u001b[0m\u001b[1;33m=\u001b[0m\u001b[0mmatplot\u001b[0m\u001b[1;33m)\u001b[0m\u001b[1;33m\u001b[0m\u001b[1;33m\u001b[0m\u001b[0m\n\u001b[0;32m      4\u001b[0m \u001b[0mdisplay\u001b[0m\u001b[1;33m(\u001b[0m\u001b[0mplot\u001b[0m\u001b[1;33m)\u001b[0m\u001b[1;33m\u001b[0m\u001b[1;33m\u001b[0m\u001b[0m\n",
      "\u001b[1;32mE:\\ssdapps\\anaconda\\lib\\site-packages\\plotnine\\ggplot.py\u001b[0m in \u001b[0;36msave\u001b[1;34m(self, filename, format, path, width, height, units, dpi, limitsize, verbose, **kwargs)\u001b[0m\n\u001b[0;32m    725\u001b[0m             \u001b[0mself\u001b[0m\u001b[1;33m.\u001b[0m\u001b[0mtheme\u001b[0m \u001b[1;33m=\u001b[0m \u001b[0mself\u001b[0m\u001b[1;33m.\u001b[0m\u001b[0mtheme\u001b[0m \u001b[1;33m+\u001b[0m \u001b[0mtheme\u001b[0m\u001b[1;33m(\u001b[0m\u001b[0mdpi\u001b[0m\u001b[1;33m=\u001b[0m\u001b[0mdpi\u001b[0m\u001b[1;33m)\u001b[0m\u001b[1;33m\u001b[0m\u001b[1;33m\u001b[0m\u001b[0m\n\u001b[0;32m    726\u001b[0m \u001b[1;33m\u001b[0m\u001b[0m\n\u001b[1;32m--> 727\u001b[1;33m         \u001b[0mfig\u001b[0m\u001b[1;33m,\u001b[0m \u001b[0mp\u001b[0m \u001b[1;33m=\u001b[0m \u001b[0mself\u001b[0m\u001b[1;33m.\u001b[0m\u001b[0mdraw\u001b[0m\u001b[1;33m(\u001b[0m\u001b[0mreturn_ggplot\u001b[0m\u001b[1;33m=\u001b[0m\u001b[1;32mTrue\u001b[0m\u001b[1;33m)\u001b[0m\u001b[1;33m\u001b[0m\u001b[1;33m\u001b[0m\u001b[0m\n\u001b[0m\u001b[0;32m    728\u001b[0m         \u001b[1;32mwith\u001b[0m \u001b[0mplot_context\u001b[0m\u001b[1;33m(\u001b[0m\u001b[0mp\u001b[0m\u001b[1;33m)\u001b[0m\u001b[1;33m:\u001b[0m\u001b[1;33m\u001b[0m\u001b[1;33m\u001b[0m\u001b[0m\n\u001b[0;32m    729\u001b[0m             \u001b[0mfig\u001b[0m\u001b[1;33m.\u001b[0m\u001b[0msavefig\u001b[0m\u001b[1;33m(\u001b[0m\u001b[0mfilename\u001b[0m\u001b[1;33m,\u001b[0m \u001b[1;33m**\u001b[0m\u001b[0mfig_kwargs\u001b[0m\u001b[1;33m)\u001b[0m\u001b[1;33m\u001b[0m\u001b[1;33m\u001b[0m\u001b[0m\n",
      "\u001b[1;32mE:\\ssdapps\\anaconda\\lib\\site-packages\\plotnine\\ggplot.py\u001b[0m in \u001b[0;36mdraw\u001b[1;34m(self, return_ggplot, show)\u001b[0m\n\u001b[0;32m    203\u001b[0m         \u001b[0mself\u001b[0m \u001b[1;33m=\u001b[0m \u001b[0mdeepcopy\u001b[0m\u001b[1;33m(\u001b[0m\u001b[0mself\u001b[0m\u001b[1;33m)\u001b[0m\u001b[1;33m\u001b[0m\u001b[1;33m\u001b[0m\u001b[0m\n\u001b[0;32m    204\u001b[0m         \u001b[1;32mwith\u001b[0m \u001b[0mplot_context\u001b[0m\u001b[1;33m(\u001b[0m\u001b[0mself\u001b[0m\u001b[1;33m,\u001b[0m \u001b[0mshow\u001b[0m\u001b[1;33m=\u001b[0m\u001b[0mshow\u001b[0m\u001b[1;33m)\u001b[0m\u001b[1;33m:\u001b[0m\u001b[1;33m\u001b[0m\u001b[1;33m\u001b[0m\u001b[0m\n\u001b[1;32m--> 205\u001b[1;33m             \u001b[0mself\u001b[0m\u001b[1;33m.\u001b[0m\u001b[0m_build\u001b[0m\u001b[1;33m(\u001b[0m\u001b[1;33m)\u001b[0m\u001b[1;33m\u001b[0m\u001b[1;33m\u001b[0m\u001b[0m\n\u001b[0m\u001b[0;32m    206\u001b[0m \u001b[1;33m\u001b[0m\u001b[0m\n\u001b[0;32m    207\u001b[0m             \u001b[1;31m# setup\u001b[0m\u001b[1;33m\u001b[0m\u001b[1;33m\u001b[0m\u001b[1;33m\u001b[0m\u001b[0m\n",
      "\u001b[1;32mE:\\ssdapps\\anaconda\\lib\\site-packages\\plotnine\\ggplot.py\u001b[0m in \u001b[0;36m_build\u001b[1;34m(self)\u001b[0m\n\u001b[0;32m    287\u001b[0m         \u001b[1;31m# Compute aesthetics to produce data with generalised\u001b[0m\u001b[1;33m\u001b[0m\u001b[1;33m\u001b[0m\u001b[1;33m\u001b[0m\u001b[0m\n\u001b[0;32m    288\u001b[0m         \u001b[1;31m# variable names\u001b[0m\u001b[1;33m\u001b[0m\u001b[1;33m\u001b[0m\u001b[1;33m\u001b[0m\u001b[0m\n\u001b[1;32m--> 289\u001b[1;33m         \u001b[0mlayers\u001b[0m\u001b[1;33m.\u001b[0m\u001b[0mcompute_aesthetics\u001b[0m\u001b[1;33m(\u001b[0m\u001b[0mself\u001b[0m\u001b[1;33m)\u001b[0m\u001b[1;33m\u001b[0m\u001b[1;33m\u001b[0m\u001b[0m\n\u001b[0m\u001b[0;32m    290\u001b[0m \u001b[1;33m\u001b[0m\u001b[0m\n\u001b[0;32m    291\u001b[0m         \u001b[1;31m# Transform data using all scales\u001b[0m\u001b[1;33m\u001b[0m\u001b[1;33m\u001b[0m\u001b[1;33m\u001b[0m\u001b[0m\n",
      "\u001b[1;32mE:\\ssdapps\\anaconda\\lib\\site-packages\\plotnine\\layer.py\u001b[0m in \u001b[0;36mcompute_aesthetics\u001b[1;34m(self, plot)\u001b[0m\n\u001b[0;32m     67\u001b[0m     \u001b[1;32mdef\u001b[0m \u001b[0mcompute_aesthetics\u001b[0m\u001b[1;33m(\u001b[0m\u001b[0mself\u001b[0m\u001b[1;33m,\u001b[0m \u001b[0mplot\u001b[0m\u001b[1;33m)\u001b[0m\u001b[1;33m:\u001b[0m\u001b[1;33m\u001b[0m\u001b[1;33m\u001b[0m\u001b[0m\n\u001b[0;32m     68\u001b[0m         \u001b[1;32mfor\u001b[0m \u001b[0ml\u001b[0m \u001b[1;32min\u001b[0m \u001b[0mself\u001b[0m\u001b[1;33m:\u001b[0m\u001b[1;33m\u001b[0m\u001b[1;33m\u001b[0m\u001b[0m\n\u001b[1;32m---> 69\u001b[1;33m             \u001b[0ml\u001b[0m\u001b[1;33m.\u001b[0m\u001b[0mcompute_aesthetics\u001b[0m\u001b[1;33m(\u001b[0m\u001b[0mplot\u001b[0m\u001b[1;33m)\u001b[0m\u001b[1;33m\u001b[0m\u001b[1;33m\u001b[0m\u001b[0m\n\u001b[0m\u001b[0;32m     70\u001b[0m \u001b[1;33m\u001b[0m\u001b[0m\n\u001b[0;32m     71\u001b[0m     \u001b[1;32mdef\u001b[0m \u001b[0mcompute_statistic\u001b[0m\u001b[1;33m(\u001b[0m\u001b[0mself\u001b[0m\u001b[1;33m,\u001b[0m \u001b[0mlayout\u001b[0m\u001b[1;33m)\u001b[0m\u001b[1;33m:\u001b[0m\u001b[1;33m\u001b[0m\u001b[1;33m\u001b[0m\u001b[0m\n",
      "\u001b[1;32mE:\\ssdapps\\anaconda\\lib\\site-packages\\plotnine\\layer.py\u001b[0m in \u001b[0;36mcompute_aesthetics\u001b[1;34m(self, plot)\u001b[0m\n\u001b[0;32m    299\u001b[0m         \u001b[0mexpression\u001b[0m \u001b[0mevaluation\u001b[0m \u001b[0mare\u001b[0m  \u001b[0mmade\u001b[0m \u001b[1;32min\u001b[0m \u001b[0mhere\u001b[0m\u001b[1;33m\u001b[0m\u001b[1;33m\u001b[0m\u001b[0m\n\u001b[0;32m    300\u001b[0m         \"\"\"\n\u001b[1;32m--> 301\u001b[1;33m         \u001b[0mevaled\u001b[0m \u001b[1;33m=\u001b[0m \u001b[0mevaluate\u001b[0m\u001b[1;33m(\u001b[0m\u001b[0mself\u001b[0m\u001b[1;33m.\u001b[0m\u001b[0mmapping\u001b[0m\u001b[1;33m.\u001b[0m\u001b[0m_starting\u001b[0m\u001b[1;33m,\u001b[0m \u001b[0mself\u001b[0m\u001b[1;33m.\u001b[0m\u001b[0mdata\u001b[0m\u001b[1;33m,\u001b[0m \u001b[0mplot\u001b[0m\u001b[1;33m.\u001b[0m\u001b[0menvironment\u001b[0m\u001b[1;33m)\u001b[0m\u001b[1;33m\u001b[0m\u001b[1;33m\u001b[0m\u001b[0m\n\u001b[0m\u001b[0;32m    302\u001b[0m         \u001b[0mevaled_aes\u001b[0m \u001b[1;33m=\u001b[0m \u001b[0maes\u001b[0m\u001b[1;33m(\u001b[0m\u001b[1;33m**\u001b[0m\u001b[1;33m{\u001b[0m\u001b[0mcol\u001b[0m\u001b[1;33m:\u001b[0m \u001b[0mcol\u001b[0m \u001b[1;32mfor\u001b[0m \u001b[0mcol\u001b[0m \u001b[1;32min\u001b[0m \u001b[0mevaled\u001b[0m\u001b[1;33m}\u001b[0m\u001b[1;33m)\u001b[0m\u001b[1;33m\u001b[0m\u001b[1;33m\u001b[0m\u001b[0m\n\u001b[0;32m    303\u001b[0m         \u001b[0mplot\u001b[0m\u001b[1;33m.\u001b[0m\u001b[0mscales\u001b[0m\u001b[1;33m.\u001b[0m\u001b[0madd_defaults\u001b[0m\u001b[1;33m(\u001b[0m\u001b[0mevaled\u001b[0m\u001b[1;33m,\u001b[0m \u001b[0mevaled_aes\u001b[0m\u001b[1;33m)\u001b[0m\u001b[1;33m\u001b[0m\u001b[1;33m\u001b[0m\u001b[0m\n",
      "\u001b[1;32mE:\\ssdapps\\anaconda\\lib\\site-packages\\plotnine\\mapping\\evaluation.py\u001b[0m in \u001b[0;36mevaluate\u001b[1;34m(aesthetics, data, env)\u001b[0m\n\u001b[0;32m    217\u001b[0m                     \u001b[0mnew_val\u001b[0m \u001b[1;33m=\u001b[0m \u001b[0menv\u001b[0m\u001b[1;33m.\u001b[0m\u001b[0meval\u001b[0m\u001b[1;33m(\u001b[0m\u001b[0mcol\u001b[0m\u001b[1;33m,\u001b[0m \u001b[0minner_namespace\u001b[0m\u001b[1;33m=\u001b[0m\u001b[0mdata\u001b[0m\u001b[1;33m)\u001b[0m\u001b[1;33m\u001b[0m\u001b[1;33m\u001b[0m\u001b[0m\n\u001b[0;32m    218\u001b[0m                 \u001b[1;32mexcept\u001b[0m \u001b[0mException\u001b[0m \u001b[1;32mas\u001b[0m \u001b[0me\u001b[0m\u001b[1;33m:\u001b[0m\u001b[1;33m\u001b[0m\u001b[1;33m\u001b[0m\u001b[0m\n\u001b[1;32m--> 219\u001b[1;33m                     raise PlotnineError(\n\u001b[0m\u001b[0;32m    220\u001b[0m                         _TPL_EVAL_FAIL.format(ae, col, str(e)))\n\u001b[0;32m    221\u001b[0m \u001b[1;33m\u001b[0m\u001b[0m\n",
      "\u001b[1;31mPlotnineError\u001b[0m: \"Could not evaluate the 'y' mapping: 'Memory usage in %' (original error: invalid syntax (<string>, line 1))\""
     ]
    }
   ],
   "source": [
    "plot.save(\"specific-plots/5end_to_end.png\")\n",
    "matplot = plot.draw()\n",
    "tikzplotlib.save('specific-plots/5end_to_end.tikz', figure=matplot)\n",
    "display(plot)"
   ]
  },
  {
   "cell_type": "code",
   "execution_count": null,
   "id": "55d75afd-0da0-47ce-ab74-7a45bd7b17cd",
   "metadata": {},
   "outputs": [],
   "source": []
  }
 ],
 "metadata": {
  "kernelspec": {
   "display_name": "Python 3",
   "language": "python",
   "name": "python3"
  },
  "language_info": {
   "codemirror_mode": {
    "name": "ipython",
    "version": 3
   },
   "file_extension": ".py",
   "mimetype": "text/x-python",
   "name": "python",
   "nbconvert_exporter": "python",
   "pygments_lexer": "ipython3",
   "version": "3.8.10"
  }
 },
 "nbformat": 4,
 "nbformat_minor": 5
}
