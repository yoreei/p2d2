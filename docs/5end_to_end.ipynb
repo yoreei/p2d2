{
 "cells": [
  {
   "cell_type": "code",
   "execution_count": 334,
   "id": "cd839679-32ef-41e1-8200-4367218af581",
   "metadata": {
    "tags": []
   },
   "outputs": [
    {
     "data": {
      "text/plain": [
       "Index(['index', 'bytes_memory', 'cpu_percent', 'bytes_sent', 'bytes_recv',\n",
       "       'wall_time', 'exitcode', 'db_time', 'rep', 'net', 'scale', 'wflow',\n",
       "       'optimizer'],\n",
       "      dtype='object')"
      ]
     },
     "execution_count": 334,
     "metadata": {},
     "output_type": "execute_result"
    }
   ],
   "source": [
    "from plotnine import *\n",
    "import pandas\n",
    "from sklearn import preprocessing\n",
    "import itertools\n",
    "from statistics import mean\n",
    "from solarized import *\n",
    "import tikzplotlib\n",
    "pandas.options.display.max_rows=10"
   ]
  },
  {
   "cell_type": "code",
   "execution_count": null,
   "id": "a512fcc7-3f1b-4959-9f50-ee0ef98065ab",
   "metadata": {},
   "outputs": [],
   "source": [
    "# 1.{5end_to_end} tpch 1,2,3,4,5 with scale 1, 10\n",
    "# 2 {5module4} and 3. module4 | also {5module4mem} and {5module4net}\n",
    "# 3.{5tpchmodin} tpch 1, 4, 5 with modin on scale 10\n",
    "# 4.{5micro_scales} micros with scale 1, 10 | also {5micro_traffic}\n",
    "# 5.{5micro_net} micro join, selection with net=wan and scale 1"
   ]
  },
  {
   "cell_type": "code",
   "execution_count": null,
   "id": "8df3cae3-4e71-4b7e-a808-f3810fe144ba",
   "metadata": {},
   "outputs": [],
   "source": [
    "factors= ['wflow', 'optimizer', 'net', 'scale']\n",
    "df=pandas.read_feather('specific-reposts/5end_to_end.feather')\n",
    "df.columns"
   ]
  },
  {
   "cell_type": "markdown",
   "id": "45169b47-cd90-426c-91c4-77e5a8fe8c21",
   "metadata": {},
   "source": [
    "# CHECK"
   ]
  },
  {
   "cell_type": "code",
   "execution_count": 335,
   "id": "fa93131e-558c-4a47-9c39-47705fb28ecf",
   "metadata": {},
   "outputs": [
    {
     "data": {
      "text/plain": [
       "0    186285\n",
       "1     21940\n",
       "Name: exitcode, dtype: int64"
      ]
     },
     "execution_count": 335,
     "metadata": {},
     "output_type": "execute_result"
    }
   ],
   "source": [
    "df['exitcode'].value_counts()"
   ]
  },
  {
   "cell_type": "code",
   "execution_count": 336,
   "id": "4cec32a3-f9c9-4805-adae-97dfa8bfadd9",
   "metadata": {},
   "outputs": [
    {
     "data": {
      "text/plain": [
       "array(['tpch1.py', 'q07.sql', 'q08.sql', 'q09.sql'], dtype=object)"
      ]
     },
     "execution_count": 336,
     "metadata": {},
     "output_type": "execute_result"
    }
   ],
   "source": [
    "df.query(\"exitcode == 1\")['wflow'].unique()"
   ]
  },
  {
   "cell_type": "markdown",
   "id": "84b22d74-8322-4ddd-b7d2-bd89cb446b07",
   "metadata": {},
   "source": [
    "# PREPROCESS"
   ]
  },
  {
   "cell_type": "code",
   "execution_count": 399,
   "id": "203c3520-f38f-4f7b-9971-933e1c132dd4",
   "metadata": {},
   "outputs": [
    {
     "data": {
      "text/plain": [
       "Index(['wflow', 'optimizer', 'net', 'scale', 'index', 'bytes_sent',\n",
       "       'wall_time', 'db_time', 'gb_memory', 'cpu', 'gb_net',\n",
       "       'procedural_time'],\n",
       "      dtype='object')"
      ]
     },
     "execution_count": 399,
     "metadata": {},
     "output_type": "execute_result"
    }
   ],
   "source": [
    "overview = df.groupby(by=factors).first().reset_index()\n",
    "overview.columns"
   ]
  },
  {
   "cell_type": "code",
   "execution_count": null,
   "id": "b7813ae9-780e-4d9f-98d3-e7f2e560317e",
   "metadata": {},
   "outputs": [],
   "source": [
    "overview = overview[\"wflow\", \"optimizer\", \"scale\", \"shared_wall_time\"]]"
   ]
  },
  {
   "cell_type": "markdown",
   "id": "16cf6420-6e0f-4c89-99e1-1b3ea8ef4a32",
   "metadata": {},
   "source": [
    "# PROCEDURAL AND DB TIME"
   ]
  },
  {
   "cell_type": "code",
   "execution_count": 402,
   "id": "02e3de4c-3210-4c3a-8c4d-6d657e4aa12e",
   "metadata": {},
   "outputs": [],
   "source": [
    "def prep_for_plot(origin_df: pandas.DataFrame, measurements:list):\n",
    "    prj = origin_df[factors+measurements]\n",
    "    return prj.melt(id_vars=factors, value_vars=measurements,\n",
    "                    value_name='measurement', var_name='var')\n"
   ]
  },
  {
   "cell_type": "code",
   "execution_count": null,
   "id": "65716eb9-30b3-492f-8320-527c9fba0c9d",
   "metadata": {},
   "outputs": [],
   "source": [
    "plot = (\n",
    "        ggplot(overview, aes('optimizer', y='measurement'))\n",
    "        + geom_col(width=0.3)\n",
    "        #+ scale_fill_manual(values=cdict) \n",
    "        + facet_wrap('~ wflow + scale', scales='free')\n",
    "        + ggtitle(plot_title)\n",
    "        + xlab(\"Optimization Method\")\n",
    "        + ylab(\"Time (in sec.)\")\n",
    "        + theme(figure_size=(5, 2.5),\n",
    "               subplots_adjust={'hspace': 1, 'wspace': 0.25})\n",
    "    )"
   ]
  },
  {
   "cell_type": "code",
   "execution_count": null,
   "id": "1f968d33-afd0-4706-8d63-954d8cf57be3",
   "metadata": {},
   "outputs": [],
   "source": [
    "plot.save(\"specific-plots/5end_to_end.png\")\n",
    "tikzplotlib.save('specific-plots/5end_to_end.tikz', figure=plot)\n",
    "display(plot)"
   ]
  }
 ],
 "metadata": {
  "kernelspec": {
   "display_name": "Python 3",
   "language": "python",
   "name": "python3"
  },
  "language_info": {
   "codemirror_mode": {
    "name": "ipython",
    "version": 3
   },
   "file_extension": ".py",
   "mimetype": "text/x-python",
   "name": "python",
   "nbconvert_exporter": "python",
   "pygments_lexer": "ipython3",
   "version": "3.8.10"
  }
 },
 "nbformat": 4,
 "nbformat_minor": 5
}
