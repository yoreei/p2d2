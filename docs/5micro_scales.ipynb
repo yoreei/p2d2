{
 "cells": [
  {
   "cell_type": "code",
   "execution_count": 1,
   "id": "cd839679-32ef-41e1-8200-4367218af581",
   "metadata": {
    "tags": []
   },
   "outputs": [],
   "source": [
    "from plotnine import *\n",
    "import pandas\n",
    "from solarized import *\n",
    "import tikzplotlib\n",
    "pandas.options.display.max_rows=10"
   ]
  },
  {
   "cell_type": "code",
   "execution_count": 2,
   "id": "a512fcc7-3f1b-4959-9f50-ee0ef98065ab",
   "metadata": {},
   "outputs": [],
   "source": [
    "# 1.{5end_to_end} tpch 1,2,3,4,5 with scale 1, 10\n",
    "# 2 {5module4} and 3. module4 | also {5module4mem} and {5module4net}\n",
    "# 3.{5tpchmodin} tpch 1, 4, 5 with modin on scale 10\n",
    "# 4.{5micro_scales} micros with scale 1, 10 | also {5micro_traffic}\n",
    "# 5.{5micro_net} micro join, selection with net=wan and scale 1"
   ]
  },
  {
   "cell_type": "code",
   "execution_count": 4,
   "id": "dffc8df8-011f-4224-ba70-8ed9fc14b693",
   "metadata": {},
   "outputs": [
    {
     "data": {
      "text/plain": [
       "Index(['bytes_memory', 'cpu_percent', 'bytes_sent', 'bytes_recv',\n",
       "       'snapshot_idx', 'proc_time', 'exitcode', 'db_time', 'shared_wall_time',\n",
       "       'wflow', 'optimizer', 'scale', 'net'],\n",
       "      dtype='object')"
      ]
     },
     "execution_count": 4,
     "metadata": {},
     "output_type": "execute_result"
    }
   ],
   "source": [
    "factors= ['wflow', 'optimizer', 'net', 'scale']\n",
    "df=pandas.read_feather('specific-reports/5micro_scales.feather')\n",
    "df.columns"
   ]
  },
  {
   "cell_type": "markdown",
   "id": "45169b47-cd90-426c-91c4-77e5a8fe8c21",
   "metadata": {},
   "source": [
    "# CHECK"
   ]
  },
  {
   "cell_type": "code",
   "execution_count": 5,
   "id": "fa93131e-558c-4a47-9c39-47705fb28ecf",
   "metadata": {},
   "outputs": [
    {
     "data": {
      "text/plain": [
       " 0     35673\n",
       "-15     4461\n",
       "Name: exitcode, dtype: int64"
      ]
     },
     "execution_count": 5,
     "metadata": {},
     "output_type": "execute_result"
    }
   ],
   "source": [
    "df['exitcode'].value_counts()"
   ]
  },
  {
   "cell_type": "code",
   "execution_count": 9,
   "id": "4cec32a3-f9c9-4805-adae-97dfa8bfadd9",
   "metadata": {},
   "outputs": [
    {
     "data": {
      "text/plain": [
       "array(['micro_join.py'], dtype=object)"
      ]
     },
     "execution_count": 9,
     "metadata": {},
     "output_type": "execute_result"
    }
   ],
   "source": [
    "df.query(\"exitcode != 0\")['wflow'].unique()"
   ]
  },
  {
   "cell_type": "code",
   "execution_count": 11,
   "id": "4366db62-fec3-4401-90d4-9543c28057ee",
   "metadata": {},
   "outputs": [
    {
     "data": {
      "text/plain": [
       "array(['optimized'], dtype=object)"
      ]
     },
     "execution_count": 11,
     "metadata": {},
     "output_type": "execute_result"
    }
   ],
   "source": [
    "df.query(\"exitcode != 0\")['optimizer'].unique()"
   ]
  },
  {
   "cell_type": "markdown",
   "id": "84b22d74-8322-4ddd-b7d2-bd89cb446b07",
   "metadata": {},
   "source": [
    "# PREPROCESS"
   ]
  },
  {
   "cell_type": "code",
   "execution_count": 32,
   "id": "85261451-ed99-4d60-bf15-78cc588a9941",
   "metadata": {},
   "outputs": [],
   "source": [
    "df['gb_net'] = df['bytes_recv']/10**9"
   ]
  },
  {
   "cell_type": "code",
   "execution_count": 41,
   "id": "203c3520-f38f-4f7b-9971-933e1c132dd4",
   "metadata": {},
   "outputs": [
    {
     "name": "stdout",
     "output_type": "stream",
     "text": [
      "Index(['wflow', 'optimizer', 'net', 'scale', 'bytes_memory', 'cpu_percent',\n",
      "       'bytes_sent', 'bytes_recv', 'snapshot_idx', 'proc_time', 'exitcode',\n",
      "       'db_time', 'shared_wall_time', 'gb_net'],\n",
      "      dtype='object')\n"
     ]
    }
   ],
   "source": [
    "overview = df.groupby(by=factors).first().reset_index()\n",
    "print(overview.columns)\n",
    "overview = overview[[\"wflow\", \"optimizer\", \"scale\", \"shared_wall_time\", \"proc_time\", \"gb_net\"]]"
   ]
  },
  {
   "cell_type": "code",
   "execution_count": 42,
   "id": "dd322a33-6835-490b-95cf-f9a4f5c1c411",
   "metadata": {},
   "outputs": [],
   "source": [
    "plot_df = overview"
   ]
  },
  {
   "cell_type": "code",
   "execution_count": 43,
   "id": "410ffdb4-24bc-40fc-9c95-17741f052041",
   "metadata": {},
   "outputs": [],
   "source": [
    "plot_df[\"scale\"] = plot_df[\"scale\"].replace(1, \"scale 1\")\n",
    "plot_df[\"scale\"] = plot_df[\"scale\"].replace(10, \"scale 10\")\n",
    "plot_df[\"wflow\"] = plot_df[\"wflow\"].replace(\"micro_join.py\", \"join\")\n",
    "plot_df[\"wflow\"] = plot_df[\"wflow\"].replace(\"micro_sel.py\", \"sel\")\n",
    "plot_df[\"wflow\"] = plot_df[\"wflow\"].replace(\"micro_proj.py\", \"proj\")\n",
    "plot_df[\"wflow\"] = plot_df[\"wflow\"].replace(\"micro_max.py\", \"max\")"
   ]
  },
  {
   "cell_type": "markdown",
   "id": "16cf6420-6e0f-4c89-99e1-1b3ea8ef4a32",
   "metadata": {},
   "source": [
    "# {5micro_scales}"
   ]
  },
  {
   "cell_type": "code",
   "execution_count": 44,
   "id": "d40181a7-58a2-4854-aa60-42f47ae4f9c6",
   "metadata": {},
   "outputs": [],
   "source": [
    "plot = (\n",
    "        ggplot(plot_df, aes('wflow', y='shared_wall_time', fill='optimizer'))\n",
    "        + geom_col(width = 0.5, position = \"dodge\")\n",
    "        #+ scale_fill_manual(values=cdict) \n",
    "        + scale_y_sqrt()\n",
    "        + labs(fill=\"Optimization Method\")\n",
    "        + facet_wrap('~ scale', scales='free_y', nrow=1, dir='v')\n",
    "        + xlab(\"Query\")\n",
    "        + ylab(\"Time (in sec.)\")\n",
    "       # + theme(figure_size=(8, 2))\n",
    "               #subplots_adjust={'hspace': 1, 'wspace': 0.25})\n",
    "        + theme(figure_size=(8, 2), subplots_adjust={'wspace': 0.20})\n",
    "    )"
   ]
  },
  {
   "cell_type": "code",
   "execution_count": 45,
   "id": "999a3404-236c-42ed-9b58-924719f30a09",
   "metadata": {},
   "outputs": [
    {
     "name": "stderr",
     "output_type": "stream",
     "text": [
      "E:\\ssdapps\\anaconda\\lib\\site-packages\\plotnine\\ggplot.py:719: PlotnineWarning: Saving 8 x 2 in image.\n",
      "E:\\ssdapps\\anaconda\\lib\\site-packages\\plotnine\\ggplot.py:722: PlotnineWarning: Filename: specific-plots/5micro_scales.png\n",
      "E:\\ssdapps\\anaconda\\lib\\site-packages\\tikzplotlib\\_save.py:390: UserWarning: tikzplotlib: Don't know how to handle object <class 'matplotlib.offsetbox.AnchoredOffsetbox'>.\n"
     ]
    },
    {
     "data": {
      "image/png": "[encoded data removed]",
      "text/plain": [
       "<Figure size 800x200 with 2 Axes>"
      ]
     },
     "metadata": {},
     "output_type": "display_data"
    },
    {
     "data": {
      "image/png": "[encoded data removed]",
      "text/plain": [
       "<Figure size 800x200 with 2 Axes>"
      ]
     },
     "metadata": {},
     "output_type": "display_data"
    },
    {
     "data": {
      "text/plain": [
       "<ggplot: (150282649866)>"
      ]
     },
     "metadata": {},
     "output_type": "display_data"
    }
   ],
   "source": [
    "plot.save(\"specific-plots/5micro_scales.png\")\n",
    "matplot = plot.draw()\n",
    "tikzplotlib.save('specific-plots/5micro_scales.tikz', figure=matplot)\n",
    "display(plot)"
   ]
  },
  {
   "cell_type": "code",
   "execution_count": 46,
   "id": "cf262840-18dc-4ae5-b6ab-466f96f68852",
   "metadata": {},
   "outputs": [
    {
     "data": {
      "text/html": [
       "<div>\n",
       "<style scoped>\n",
       "    .dataframe tbody tr th:only-of-type {\n",
       "        vertical-align: middle;\n",
       "    }\n",
       "\n",
       "    .dataframe tbody tr th {\n",
       "        vertical-align: top;\n",
       "    }\n",
       "\n",
       "    .dataframe thead th {\n",
       "        text-align: right;\n",
       "    }\n",
       "</style>\n",
       "<table border=\"1\" class=\"dataframe\">\n",
       "  <thead>\n",
       "    <tr style=\"text-align: right;\">\n",
       "      <th></th>\n",
       "      <th>wflow</th>\n",
       "      <th>optimizer</th>\n",
       "      <th>scale</th>\n",
       "      <th>shared_wall_time</th>\n",
       "      <th>proc_time</th>\n",
       "      <th>gb_net</th>\n",
       "    </tr>\n",
       "  </thead>\n",
       "  <tbody>\n",
       "    <tr>\n",
       "      <th>1</th>\n",
       "      <td>join</td>\n",
       "      <td>base</td>\n",
       "      <td>scale 10</td>\n",
       "      <td>827.086853</td>\n",
       "      <td>844.001867</td>\n",
       "      <td>14.839955</td>\n",
       "    </tr>\n",
       "    <tr>\n",
       "      <th>3</th>\n",
       "      <td>join</td>\n",
       "      <td>optimized</td>\n",
       "      <td>scale 10</td>\n",
       "      <td>0.000000</td>\n",
       "      <td>358.790700</td>\n",
       "      <td>21.539664</td>\n",
       "    </tr>\n",
       "  </tbody>\n",
       "</table>\n",
       "</div>"
      ],
      "text/plain": [
       "  wflow  optimizer     scale  shared_wall_time   proc_time     gb_net\n",
       "1  join       base  scale 10        827.086853  844.001867  14.839955\n",
       "3  join  optimized  scale 10          0.000000  358.790700  21.539664"
      ]
     },
     "execution_count": 46,
     "metadata": {},
     "output_type": "execute_result"
    }
   ],
   "source": [
    "overview.query(\"scale =='scale 10' and wflow =='join'\")"
   ]
  },
  {
   "cell_type": "markdown",
   "id": "3e25a0f0-8643-4166-b9dd-7ebb10fc6abd",
   "metadata": {},
   "source": [
    "# {5micro_traffic}"
   ]
  },
  {
   "cell_type": "code",
   "execution_count": 67,
   "id": "73e6290d-1693-49c3-9d54-612b76ab2395",
   "metadata": {},
   "outputs": [],
   "source": [
    "plot = (\n",
    "        ggplot(plot_df, aes('wflow', y='gb_net', fill='optimizer'))\n",
    "        + geom_col(width = 0.5, position = \"dodge\")\n",
    "        #+ scale_fill_manual(values=cdict) \n",
    "        + scale_y_sqrt()\n",
    "        + labs(fill=\"Optimization Method\")\n",
    "        + facet_wrap('~ scale', scales='free_x', nrow=1, dir='v')\n",
    "        + xlab(\"Query\")\n",
    "        + ylab(\"Network Transfer (in GB)\")\n",
    "       # + theme(figure_size=(8, 2))\n",
    "               #subplots_adjust={'hspace': 1, 'wspace': 0.25})\n",
    "        + coord_flip()\n",
    "        + theme(figure_size=(8, 2)#, subplots_adjust={'wspace': 0.20}\n",
    "               )\n",
    "    )"
   ]
  },
  {
   "cell_type": "code",
   "execution_count": 68,
   "id": "3e981482-f1c8-44c4-810f-44d753310383",
   "metadata": {},
   "outputs": [
    {
     "name": "stderr",
     "output_type": "stream",
     "text": [
      "E:\\ssdapps\\anaconda\\lib\\site-packages\\plotnine\\ggplot.py:719: PlotnineWarning: Saving 8 x 2 in image.\n",
      "E:\\ssdapps\\anaconda\\lib\\site-packages\\plotnine\\ggplot.py:722: PlotnineWarning: Filename: specific-plots/5micro_traffic.png\n",
      "E:\\ssdapps\\anaconda\\lib\\site-packages\\tikzplotlib\\_save.py:390: UserWarning: tikzplotlib: Don't know how to handle object <class 'matplotlib.offsetbox.AnchoredOffsetbox'>.\n"
     ]
    },
    {
     "data": {
      "image/png": "[encoded data removed]",
      "text/plain": [
       "<Figure size 800x200 with 2 Axes>"
      ]
     },
     "metadata": {},
     "output_type": "display_data"
    },
    {
     "data": {
      "image/png": "[encoded data removed]",
      "text/plain": [
       "<Figure size 800x200 with 2 Axes>"
      ]
     },
     "metadata": {},
     "output_type": "display_data"
    },
    {
     "data": {
      "text/plain": [
       "<ggplot: (150282647411)>"
      ]
     },
     "metadata": {},
     "output_type": "display_data"
    }
   ],
   "source": [
    "plot.save(\"specific-plots/5micro_traffic.png\")\n",
    "matplot = plot.draw()\n",
    "tikzplotlib.save('specific-plots/5micro_traffic.tikz', figure=matplot)\n",
    "display(plot)"
   ]
  },
  {
   "cell_type": "code",
   "execution_count": 58,
   "id": "e2abeda4-b951-4a86-9667-d29d5d1ac6bc",
   "metadata": {},
   "outputs": [
    {
     "data": {
      "text/html": [
       "<div>\n",
       "<style scoped>\n",
       "    .dataframe tbody tr th:only-of-type {\n",
       "        vertical-align: middle;\n",
       "    }\n",
       "\n",
       "    .dataframe tbody tr th {\n",
       "        vertical-align: top;\n",
       "    }\n",
       "\n",
       "    .dataframe thead th {\n",
       "        text-align: right;\n",
       "    }\n",
       "</style>\n",
       "<table border=\"1\" class=\"dataframe\">\n",
       "  <thead>\n",
       "    <tr style=\"text-align: right;\">\n",
       "      <th></th>\n",
       "      <th>wflow</th>\n",
       "      <th>optimizer</th>\n",
       "      <th>scale</th>\n",
       "      <th>shared_wall_time</th>\n",
       "      <th>proc_time</th>\n",
       "      <th>gb_net</th>\n",
       "    </tr>\n",
       "  </thead>\n",
       "  <tbody>\n",
       "    <tr>\n",
       "      <th>12</th>\n",
       "      <td>sel</td>\n",
       "      <td>base</td>\n",
       "      <td>scale 1</td>\n",
       "      <td>68.794243</td>\n",
       "      <td>70.018200</td>\n",
       "      <td>1.229107</td>\n",
       "    </tr>\n",
       "    <tr>\n",
       "      <th>14</th>\n",
       "      <td>sel</td>\n",
       "      <td>optimized</td>\n",
       "      <td>scale 1</td>\n",
       "      <td>1.383998</td>\n",
       "      <td>1.477111</td>\n",
       "      <td>0.000017</td>\n",
       "    </tr>\n",
       "  </tbody>\n",
       "</table>\n",
       "</div>"
      ],
      "text/plain": [
       "   wflow  optimizer    scale  shared_wall_time  proc_time    gb_net\n",
       "12   sel       base  scale 1         68.794243  70.018200  1.229107\n",
       "14   sel  optimized  scale 1          1.383998   1.477111  0.000017"
      ]
     },
     "execution_count": 58,
     "metadata": {},
     "output_type": "execute_result"
    }
   ],
   "source": [
    "plot_df.query(\"\"\"scale=='scale 1' and wflow=='sel'\"\"\")"
   ]
  },
  {
   "cell_type": "markdown",
   "id": "3f027613-e53d-416b-828e-264e2103452f",
   "metadata": {},
   "source": [
    ", pushing down the inner join operation worsened performance by ..\\% and ..\\% respectively for scales 1 and 10."
   ]
  },
  {
   "cell_type": "code",
   "execution_count": null,
   "id": "9ee01e4c-1421-4081-bf33-92907c7f61e1",
   "metadata": {},
   "outputs": [],
   "source": []
  }
 ],
 "metadata": {
  "kernelspec": {
   "display_name": "Python 3",
   "language": "python",
   "name": "python3"
  },
  "language_info": {
   "codemirror_mode": {
    "name": "ipython",
    "version": 3
   },
   "file_extension": ".py",
   "mimetype": "text/x-python",
   "name": "python",
   "nbconvert_exporter": "python",
   "pygments_lexer": "ipython3",
   "version": "3.8.10"
  }
 },
 "nbformat": 4,
 "nbformat_minor": 5
}
