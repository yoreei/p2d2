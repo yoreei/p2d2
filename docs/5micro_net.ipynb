{
 "cells": [
  {
   "cell_type": "code",
   "execution_count": 334,
   "id": "cd839679-32ef-41e1-8200-4367218af581",
   "metadata": {
    "tags": []
   },
   "outputs": [
    {
     "data": {
      "text/plain": [
       "Index(['index', 'bytes_memory', 'cpu_percent', 'bytes_sent', 'bytes_recv',\n",
       "       'wall_time', 'exitcode', 'db_time', 'rep', 'net', 'scale', 'wflow',\n",
       "       'optimizer'],\n",
       "      dtype='object')"
      ]
     },
     "execution_count": 334,
     "metadata": {},
     "output_type": "execute_result"
    }
   ],
   "source": [
    "from plotnine import *\n",
    "import pandas\n",
    "from solarized import *\n",
    "import tikzplotlib\n",
    "pandas.options.display.max_rows=10"
   ]
  },
  {
   "cell_type": "code",
   "execution_count": null,
   "id": "a512fcc7-3f1b-4959-9f50-ee0ef98065ab",
   "metadata": {},
   "outputs": [],
   "source": [
    "# 1.{5end_to_end} tpch 1,2,3,4,5 with scale 1, 10\n",
    "# 2 {5module4} and 3. module4 | also {5module4mem} and {5module4net}\n",
    "# 3.{5tpchmodin} tpch 1, 4, 5 with modin on scale 10\n",
    "# 4.{5micro_scales} micros with scale 1, 10 | also {5micro_traffic}\n",
    "# 5.{5micro_net} micro join, selection with net=wan and scale 1"
   ]
  },
  {
   "cell_type": "code",
   "execution_count": null,
   "id": "e1c86765-85e4-49ec-b01b-e0896afee9ce",
   "metadata": {},
   "outputs": [],
   "source": [
    "df=pandas.read_feather('specific-reports/5micro_net.feather')\n",
    "df.columns"
   ]
  },
  {
   "cell_type": "markdown",
   "id": "45169b47-cd90-426c-91c4-77e5a8fe8c21",
   "metadata": {},
   "source": [
    "# CHECK"
   ]
  },
  {
   "cell_type": "code",
   "execution_count": 335,
   "id": "fa93131e-558c-4a47-9c39-47705fb28ecf",
   "metadata": {},
   "outputs": [
    {
     "data": {
      "text/plain": [
       "0    186285\n",
       "1     21940\n",
       "Name: exitcode, dtype: int64"
      ]
     },
     "execution_count": 335,
     "metadata": {},
     "output_type": "execute_result"
    }
   ],
   "source": [
    "df['exitcode'].value_counts()"
   ]
  },
  {
   "cell_type": "code",
   "execution_count": 336,
   "id": "4cec32a3-f9c9-4805-adae-97dfa8bfadd9",
   "metadata": {},
   "outputs": [
    {
     "data": {
      "text/plain": [
       "array(['tpch1.py', 'q07.sql', 'q08.sql', 'q09.sql'], dtype=object)"
      ]
     },
     "execution_count": 336,
     "metadata": {},
     "output_type": "execute_result"
    }
   ],
   "source": [
    "df.query(\"exitcode == 1\")['wflow'].unique()"
   ]
  },
  {
   "cell_type": "markdown",
   "id": "84b22d74-8322-4ddd-b7d2-bd89cb446b07",
   "metadata": {},
   "source": [
    "# PREPROCESS"
   ]
  },
  {
   "cell_type": "code",
   "execution_count": 337,
   "id": "81496892-a584-4c79-9d09-556e6d8b92cd",
   "metadata": {},
   "outputs": [],
   "source": [
    "df['gb_memory'] = df['bytes_memory']/10**9\n",
    "df.drop(columns=['bytes_memory'], inplace=True)"
   ]
  },
  {
   "cell_type": "code",
   "execution_count": 338,
   "id": "27f24dcd-3fba-4587-8123-2e6b18c86b51",
   "metadata": {},
   "outputs": [],
   "source": [
    "df['cpu'] = df['cpu_percent'].apply(lambda x: mean(x))\n",
    "df.drop(columns=['cpu_percent'], inplace=True)"
   ]
  },
  {
   "cell_type": "code",
   "execution_count": 339,
   "id": "85261451-ed99-4d60-bf15-78cc588a9941",
   "metadata": {},
   "outputs": [],
   "source": [
    "df['gb_net'] = df['bytes_recv']/10**9\n",
    "df.drop(columns=['bytes_recv'], inplace=True)"
   ]
  },
  {
   "cell_type": "code",
   "execution_count": 341,
   "id": "5f4eadc4-30e6-44c3-87df-a60bd01a8102",
   "metadata": {},
   "outputs": [],
   "source": [
    "df['procedural_time']=df['wall_time']-df['db_time']"
   ]
  },
  {
   "cell_type": "code",
   "execution_count": 384,
   "id": "6c16e81a-0b71-4a3c-895b-5353f83cc363",
   "metadata": {},
   "outputs": [],
   "source": [
    "micro = df[df['wflow'].isin(['micro_join.py','micro_sel.py','micro_proj.py','micro_max.py'])]"
   ]
  },
  {
   "cell_type": "code",
   "execution_count": 385,
   "id": "2f617641-e69c-434a-910a-f1f8854b341d",
   "metadata": {},
   "outputs": [
    {
     "data": {
      "text/plain": [
       "2    106013\n",
       "Name: rep, dtype: int64"
      ]
     },
     "execution_count": 385,
     "metadata": {},
     "output_type": "execute_result"
    }
   ],
   "source": [
    "micro['rep'].value_counts()"
   ]
  },
  {
   "cell_type": "code",
   "execution_count": 386,
   "id": "30a8f9e1-11a2-42b9-b0c5-ac92ebf92b46",
   "metadata": {},
   "outputs": [
    {
     "name": "stderr",
     "output_type": "stream",
     "text": [
      "<ipython-input-386-0d00b80f3679>:2: SettingWithCopyWarning: \n",
      "A value is trying to be set on a copy of a slice from a DataFrame.\n",
      "Try using .loc[row_indexer,col_indexer] = value instead\n",
      "\n",
      "See the caveats in the documentation: https://pandas.pydata.org/pandas-docs/stable/user_guide/indexing.html#returning-a-view-versus-a-copy\n"
     ]
    }
   ],
   "source": [
    "# add id to interprocess measurements. Remove if snapshot_idx exists\n",
    "micro['snapshot_idx'] = micro.groupby(factors)['wall_time'].rank(method='first').astype('int') # wall_time could be any column"
   ]
  },
  {
   "cell_type": "code",
   "execution_count": 387,
   "id": "d6e7a326-7349-402d-9af6-7d0fd3a4c747",
   "metadata": {},
   "outputs": [],
   "source": [
    "interproc=micro[micro['rep']==2]\n",
    "interproc=micro.drop(columns=['rep'])"
   ]
  },
  {
   "cell_type": "code",
   "execution_count": 399,
   "id": "203c3520-f38f-4f7b-9971-933e1c132dd4",
   "metadata": {},
   "outputs": [
    {
     "data": {
      "text/plain": [
       "Index(['wflow', 'optimizer', 'net', 'scale', 'index', 'bytes_sent',\n",
       "       'wall_time', 'db_time', 'gb_memory', 'cpu', 'gb_net',\n",
       "       'procedural_time'],\n",
       "      dtype='object')"
      ]
     },
     "execution_count": 399,
     "metadata": {},
     "output_type": "execute_result"
    }
   ],
   "source": [
    "overview = interproc.groupby(by=factors).first().reset_index().drop(columns=['exitcode', 'snapshot_idx'])\n",
    "overview['scale'] = overview['scale'].astype('str')\n",
    "overview.columns"
   ]
  },
  {
   "cell_type": "markdown",
   "id": "16cf6420-6e0f-4c89-99e1-1b3ea8ef4a32",
   "metadata": {},
   "source": [
    "# PROCEDURAL AND DB TIME"
   ]
  },
  {
   "cell_type": "code",
   "execution_count": null,
   "id": "0b0f9612-b5cd-4062-bf4f-635a48b781ab",
   "metadata": {},
   "outputs": [],
   "source": [
    "plot.save(\"specific-plots/5end_to_end.png\")\n",
    "matplot = plot.draw()\n",
    "tikzplotlib.save('specific-plots/5end_to_end.tikz', figure=matplot)\n",
    "display(plot)"
   ]
  }
 ],
 "metadata": {
  "kernelspec": {
   "display_name": "Python 3",
   "language": "python",
   "name": "python3"
  },
  "language_info": {
   "codemirror_mode": {
    "name": "ipython",
    "version": 3
   },
   "file_extension": ".py",
   "mimetype": "text/x-python",
   "name": "python",
   "nbconvert_exporter": "python",
   "pygments_lexer": "ipython3",
   "version": "3.8.10"
  }
 },
 "nbformat": 4,
 "nbformat_minor": 5
}
