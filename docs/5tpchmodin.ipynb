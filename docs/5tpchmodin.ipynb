{
 "cells": [
  {
   "cell_type": "code",
   "execution_count": 13,
   "id": "cd839679-32ef-41e1-8200-4367218af581",
   "metadata": {
    "tags": []
   },
   "outputs": [],
   "source": [
    "from plotnine import *\n",
    "import pandas\n",
    "from solarized import *\n",
    "import tikzplotlib\n",
    "pandas.options.display.max_rows=10"
   ]
  },
  {
   "cell_type": "code",
   "execution_count": 14,
   "id": "a512fcc7-3f1b-4959-9f50-ee0ef98065ab",
   "metadata": {},
   "outputs": [],
   "source": [
    "# 1.{5end_to_end} tpch 1,2,3,4,5 with scale 1, 10\n",
    "# 2 {5module4} and 3. module4 | also {5module4mem} and {5module4net}\n",
    "# 3.{5tpchmodin} tpch 1, 4, 5 with modin on scale 10\n",
    "# 4.{5micro_scales} micros with scale 1, 10 | also {5micro_traffic}\n",
    "# 5.{5micro_net} micro join, selection with net=wan and scale 1"
   ]
  },
  {
   "cell_type": "code",
   "execution_count": 15,
   "id": "54a50745-4289-4c55-9b1a-79867fbe8eff",
   "metadata": {},
   "outputs": [
    {
     "name": "stdout",
     "output_type": "stream",
     "text": [
      "modin    8543\n",
      "Name: optimizer, dtype: int64\n"
     ]
    },
    {
     "data": {
      "text/plain": [
       "Index(['bytes_memory', 'cpu_percent', 'bytes_sent', 'bytes_recv',\n",
       "       'snapshot_idx', 'proc_time', 'exitcode', 'db_time', 'shared_wall_time',\n",
       "       'wflow', 'optimizer', 'scale', 'net'],\n",
       "      dtype='object')"
      ]
     },
     "execution_count": 15,
     "metadata": {},
     "output_type": "execute_result"
    }
   ],
   "source": [
    "factors= ['wflow', 'optimizer', 'net', 'scale']\n",
    "df=pandas.read_feather('specific-reports/5tpchmodin.feather')\n",
    "print(df['optimizer'].value_counts())\n",
    "df.columns"
   ]
  },
  {
   "cell_type": "code",
   "execution_count": 16,
   "id": "12b71825-890e-413e-b627-39d8c4c121a1",
   "metadata": {},
   "outputs": [
    {
     "name": "stdout",
     "output_type": "stream",
     "text": [
      "base         46395\n",
      "optimized      663\n",
      "Name: optimizer, dtype: int64\n"
     ]
    },
    {
     "data": {
      "text/plain": [
       "Index(['bytes_memory', 'cpu_percent', 'bytes_sent', 'bytes_recv',\n",
       "       'snapshot_idx', 'proc_time', 'exitcode', 'db_time', 'shared_wall_time',\n",
       "       'wflow', 'optimizer', 'scale', 'net'],\n",
       "      dtype='object')"
      ]
     },
     "execution_count": 16,
     "metadata": {},
     "output_type": "execute_result"
    }
   ],
   "source": [
    "df2 = pandas.read_feather('specific-reports/5end_to_end.feather')\n",
    "print(df2['optimizer'].value_counts())\n",
    "df2.columns"
   ]
  },
  {
   "cell_type": "code",
   "execution_count": 17,
   "id": "810a887d-3b4e-4d67-a524-d9f1023ed45c",
   "metadata": {},
   "outputs": [
    {
     "data": {
      "text/plain": [
       "31530"
      ]
     },
     "execution_count": 17,
     "metadata": {},
     "output_type": "execute_result"
    }
   ],
   "source": [
    "df2 = df2[df2['wflow'].isin(['tpch1.py', 'tpch4.py', 'tpch5.py'])]\n",
    "df2 = df2.query(\"\"\"scale == 10\"\"\")\n",
    "len(df2)"
   ]
  },
  {
   "cell_type": "code",
   "execution_count": 18,
   "id": "a316b275-090c-4f56-8882-07032f0d7e9f",
   "metadata": {},
   "outputs": [
    {
     "name": "stdout",
     "output_type": "stream",
     "text": [
      "base         31167\n",
      "modin         8543\n",
      "optimized      363\n",
      "Name: optimizer, dtype: int64\n",
      "Index(['bytes_memory', 'cpu_percent', 'bytes_sent', 'bytes_recv',\n",
      "       'snapshot_idx', 'proc_time', 'exitcode', 'db_time', 'shared_wall_time',\n",
      "       'wflow', 'optimizer', 'scale', 'net'],\n",
      "      dtype='object')\n"
     ]
    }
   ],
   "source": [
    "df = df.append(df2)\n",
    "print(df[\"optimizer\"].value_counts())\n",
    "print(df.columns)"
   ]
  },
  {
   "cell_type": "markdown",
   "id": "45169b47-cd90-426c-91c4-77e5a8fe8c21",
   "metadata": {},
   "source": [
    "# CHECK"
   ]
  },
  {
   "cell_type": "code",
   "execution_count": 19,
   "id": "fa93131e-558c-4a47-9c39-47705fb28ecf",
   "metadata": {},
   "outputs": [
    {
     "data": {
      "text/plain": [
       "0    40073\n",
       "Name: exitcode, dtype: int64"
      ]
     },
     "execution_count": 19,
     "metadata": {},
     "output_type": "execute_result"
    }
   ],
   "source": [
    "df['exitcode'].value_counts()"
   ]
  },
  {
   "cell_type": "code",
   "execution_count": 20,
   "id": "4cec32a3-f9c9-4805-adae-97dfa8bfadd9",
   "metadata": {},
   "outputs": [
    {
     "data": {
      "text/plain": [
       "array([], dtype=object)"
      ]
     },
     "execution_count": 20,
     "metadata": {},
     "output_type": "execute_result"
    }
   ],
   "source": [
    "df.query(\"exitcode == 1\")['wflow'].unique()"
   ]
  },
  {
   "cell_type": "markdown",
   "id": "84b22d74-8322-4ddd-b7d2-bd89cb446b07",
   "metadata": {},
   "source": [
    "# PREPROCESS"
   ]
  },
  {
   "cell_type": "code",
   "execution_count": 21,
   "id": "203c3520-f38f-4f7b-9971-933e1c132dd4",
   "metadata": {},
   "outputs": [],
   "source": [
    "overview = df.groupby(by=factors).first().reset_index()\n",
    "overview = overview[[\"wflow\", \"optimizer\", \"shared_wall_time\"]]"
   ]
  },
  {
   "cell_type": "code",
   "execution_count": 23,
   "id": "0235f9b3-445b-421d-aecd-a2ee1b7ef60e",
   "metadata": {},
   "outputs": [],
   "source": [
    "plot_df = overview"
   ]
  },
  {
   "cell_type": "markdown",
   "id": "16cf6420-6e0f-4c89-99e1-1b3ea8ef4a32",
   "metadata": {},
   "source": [
    "# {5tpchmodin}"
   ]
  },
  {
   "cell_type": "code",
   "execution_count": 32,
   "id": "999a3404-236c-42ed-9b58-924719f30a09",
   "metadata": {},
   "outputs": [],
   "source": [
    "plot = (\n",
    "        ggplot(plot_df, aes('wflow', y='shared_wall_time', fill='optimizer'))\n",
    "        + geom_col(width = 0.5, position = \"dodge\")\n",
    "        #+ scale_fill_manual(values=cdict) \n",
    "        + scale_y_sqrt()\n",
    "        + labs(fill=\"Optimization Method\")\n",
    "       # + facet_wrap('~ scale', scales='free_y', nrow=1, dir='v')\n",
    "        + xlab(\"Query\")\n",
    "        + ylab(\"Time (in sec.)\")\n",
    "       # + theme(figure_size=(8, 2))\n",
    "               #subplots_adjust={'hspace': 1, 'wspace': 0.25})\n",
    "        + theme(figure_size=(4, 2), subplots_adjust={'wspace': 0.20})\n",
    "    )"
   ]
  },
  {
   "cell_type": "code",
   "execution_count": 33,
   "id": "b21b1ae0-8261-47cb-8129-78429de6fbd4",
   "metadata": {},
   "outputs": [
    {
     "name": "stderr",
     "output_type": "stream",
     "text": [
      "E:\\ssdapps\\anaconda\\lib\\site-packages\\plotnine\\ggplot.py:719: PlotnineWarning: Saving 4 x 2 in image.\n",
      "E:\\ssdapps\\anaconda\\lib\\site-packages\\plotnine\\ggplot.py:722: PlotnineWarning: Filename: specific-plots/5end_to_end.png\n",
      "E:\\ssdapps\\anaconda\\lib\\site-packages\\tikzplotlib\\_save.py:390: UserWarning: tikzplotlib: Don't know how to handle object <class 'matplotlib.offsetbox.AnchoredOffsetbox'>.\n"
     ]
    },
    {
     "data": {
      "image/png": "[encoded data removed]",
      "text/plain": [
       "<Figure size 400x200 with 1 Axes>"
      ]
     },
     "metadata": {},
     "output_type": "display_data"
    },
    {
     "data": {
      "image/png": "[encoded data removed]",
      "text/plain": [
       "<Figure size 400x200 with 1 Axes>"
      ]
     },
     "metadata": {},
     "output_type": "display_data"
    },
    {
     "data": {
      "text/plain": [
       "<ggplot: (135368941111)>"
      ]
     },
     "metadata": {},
     "output_type": "display_data"
    }
   ],
   "source": [
    "plot.save(\"specific-plots/5end_to_end.png\")\n",
    "matplot = plot.draw()\n",
    "tikzplotlib.save('specific-plots/5end_to_end.tikz', figure=matplot)\n",
    "display(plot)"
   ]
  },
  {
   "cell_type": "code",
   "execution_count": null,
   "id": "115daf9f-75f3-401b-b31b-2e5f2147354b",
   "metadata": {},
   "outputs": [],
   "source": []
  }
 ],
 "metadata": {
  "kernelspec": {
   "display_name": "Python 3",
   "language": "python",
   "name": "python3"
  },
  "language_info": {
   "codemirror_mode": {
    "name": "ipython",
    "version": 3
   },
   "file_extension": ".py",
   "mimetype": "text/x-python",
   "name": "python",
   "nbconvert_exporter": "python",
   "pygments_lexer": "ipython3",
   "version": "3.8.10"
  }
 },
 "nbformat": 4,
 "nbformat_minor": 5
}
