{
 "cells": [
  {
   "cell_type": "code",
   "execution_count": 34,
   "id": "cd839679-32ef-41e1-8200-4367218af581",
   "metadata": {
    "tags": []
   },
   "outputs": [],
   "source": [
    "from plotnine import *\n",
    "import pandas\n",
    "from solarized import *\n",
    "import tikzplotlib\n",
    "pandas.options.display.max_rows=10"
   ]
  },
  {
   "cell_type": "code",
   "execution_count": 35,
   "id": "a512fcc7-3f1b-4959-9f50-ee0ef98065ab",
   "metadata": {},
   "outputs": [],
   "source": [
    "# 1.{5end_to_end} tpch 1,2,3,4,5 with scale 1, 10\n",
    "# 2 {5module4} and 3. module4 | also {5module4mem} and {5module4net}\n",
    "# 3.{5tpchmodin} tpch 1, 4, 5 with modin on scale 10\n",
    "# 4.{5micro_scales} micros with scale 1, 10 | also {5micro_traffic}\n",
    "# 5.{5micro_net} micro join, selection with net=wan and scale 1"
   ]
  },
  {
   "cell_type": "code",
   "execution_count": 59,
   "id": "8df3cae3-4e71-4b7e-a808-f3810fe144ba",
   "metadata": {},
   "outputs": [
    {
     "name": "stdout",
     "output_type": "stream",
     "text": [
      "Index(['bytes_memory', 'cpu_percent', 'bytes_sent', 'bytes_recv',\n",
      "       'snapshot_idx', 'proc_time', 'exitcode', 'db_time', 'shared_wall_time',\n",
      "       'wflow', 'optimizer', 'scale', 'net'],\n",
      "      dtype='object')\n"
     ]
    },
    {
     "data": {
      "text/plain": [
       "9437"
      ]
     },
     "execution_count": 59,
     "metadata": {},
     "output_type": "execute_result"
    }
   ],
   "source": [
    "factors= ['wflow', 'optimizer', 'net', 'scale']\n",
    "df=pandas.read_feather('specific-reports/5micro_net.feather')\n",
    "print(df.columns)\n",
    "len(df)"
   ]
  },
  {
   "cell_type": "code",
   "execution_count": 60,
   "id": "f730960c-56cc-4bb4-b17b-8cd413d917f1",
   "metadata": {},
   "outputs": [
    {
     "data": {
      "text/plain": [
       "40134"
      ]
     },
     "execution_count": 60,
     "metadata": {},
     "output_type": "execute_result"
    }
   ],
   "source": [
    "df2 = pandas.read_feather('specific-reports/5micro_scales.feather')\n",
    "len(df2)"
   ]
  },
  {
   "cell_type": "code",
   "execution_count": 61,
   "id": "73b8f4d5-3216-48b3-9099-ed79ddb09f52",
   "metadata": {},
   "outputs": [
    {
     "data": {
      "text/plain": [
       "4518"
      ]
     },
     "execution_count": 61,
     "metadata": {},
     "output_type": "execute_result"
    }
   ],
   "source": [
    "df2 = df2.query(\"\"\"scale == 1\"\"\")\n",
    "len(df2)"
   ]
  },
  {
   "cell_type": "code",
   "execution_count": 62,
   "id": "f0fb9c54-c47d-46b8-8a71-db1514479e93",
   "metadata": {},
   "outputs": [
    {
     "data": {
      "text/plain": [
       "3351"
      ]
     },
     "execution_count": 62,
     "metadata": {},
     "output_type": "execute_result"
    }
   ],
   "source": [
    "# comment out when more data comes\n",
    "df2 = df2.query(\"\"\"wflow == 'micro_join.py' or wflow == 'micro_sel.py'\"\"\")\n",
    "len(df2)"
   ]
  },
  {
   "cell_type": "code",
   "execution_count": 63,
   "id": "712feb91-613c-4366-94cc-2ab63618add3",
   "metadata": {},
   "outputs": [
    {
     "data": {
      "text/plain": [
       "12788"
      ]
     },
     "execution_count": 63,
     "metadata": {},
     "output_type": "execute_result"
    }
   ],
   "source": [
    "df = df.append(df2)\n",
    "len(df)"
   ]
  },
  {
   "cell_type": "markdown",
   "id": "45169b47-cd90-426c-91c4-77e5a8fe8c21",
   "metadata": {},
   "source": [
    "# CHECK"
   ]
  },
  {
   "cell_type": "code",
   "execution_count": 64,
   "id": "fa93131e-558c-4a47-9c39-47705fb28ecf",
   "metadata": {},
   "outputs": [
    {
     "data": {
      "text/plain": [
       "0    12788\n",
       "Name: exitcode, dtype: int64"
      ]
     },
     "execution_count": 64,
     "metadata": {},
     "output_type": "execute_result"
    }
   ],
   "source": [
    "df['exitcode'].value_counts()"
   ]
  },
  {
   "cell_type": "code",
   "execution_count": 65,
   "id": "4cec32a3-f9c9-4805-adae-97dfa8bfadd9",
   "metadata": {},
   "outputs": [
    {
     "data": {
      "text/plain": [
       "array([], dtype=object)"
      ]
     },
     "execution_count": 65,
     "metadata": {},
     "output_type": "execute_result"
    }
   ],
   "source": [
    "df.query(\"exitcode == 1\")['wflow'].unique()"
   ]
  },
  {
   "cell_type": "markdown",
   "id": "84b22d74-8322-4ddd-b7d2-bd89cb446b07",
   "metadata": {},
   "source": [
    "# PREPROCESS"
   ]
  },
  {
   "cell_type": "code",
   "execution_count": 66,
   "id": "203c3520-f38f-4f7b-9971-933e1c132dd4",
   "metadata": {},
   "outputs": [],
   "source": [
    "overview = df.groupby(by=factors).first().reset_index()\n",
    "overview.columns\n",
    "overview = overview[[\"wflow\", \"optimizer\", \"net\", \"shared_wall_time\"]]"
   ]
  },
  {
   "cell_type": "code",
   "execution_count": 67,
   "id": "eb0ccd8d-4dac-43d6-84bd-a42371dbafa9",
   "metadata": {},
   "outputs": [],
   "source": [
    "plot_df = overview"
   ]
  },
  {
   "cell_type": "markdown",
   "id": "16cf6420-6e0f-4c89-99e1-1b3ea8ef4a32",
   "metadata": {},
   "source": [
    "# {5micro_net}"
   ]
  },
  {
   "cell_type": "code",
   "execution_count": 68,
   "id": "bd362f02-71d9-4cd5-a5e6-91f606a3076f",
   "metadata": {},
   "outputs": [],
   "source": [
    "plot_df[\"wflow\"] = plot_df[\"wflow\"].replace(\"micro_join.py\", \"join\")\n",
    "plot_df[\"wflow\"] = plot_df[\"wflow\"].replace(\"micro_sel.py\", \"sel\")\n",
    "plot_df[\"wflow\"] = plot_df[\"wflow\"].replace(\"micro_proj.py\", \"proj\")\n",
    "plot_df[\"wflow\"] = plot_df[\"wflow\"].replace(\"micro_max.py\", \"max\")"
   ]
  },
  {
   "cell_type": "code",
   "execution_count": 69,
   "id": "65716eb9-30b3-492f-8320-527c9fba0c9d",
   "metadata": {},
   "outputs": [],
   "source": [
    "plot = (\n",
    "        ggplot(plot_df, aes('wflow', y='shared_wall_time', fill='optimizer'))\n",
    "        + geom_col(width = 0.5, position = \"dodge\")\n",
    "        #+ scale_fill_manual(values=cdict) \n",
    "        + scale_y_sqrt()\n",
    "        + labs(fill=\"Optimization Method\")\n",
    "        + facet_wrap('~ net', scales='free_y', nrow=1, dir='v')\n",
    "        + xlab(\"Query\")\n",
    "        + ylab(\"Time (in sec.)\")\n",
    "       # + theme(figure_size=(8, 2))\n",
    "               #subplots_adjust={'hspace': 1, 'wspace': 0.25})\n",
    "        + theme(figure_size=(8, 2), subplots_adjust={'wspace': 0.20})\n",
    "    )"
   ]
  },
  {
   "cell_type": "code",
   "execution_count": 70,
   "id": "1f968d33-afd0-4706-8d63-954d8cf57be3",
   "metadata": {},
   "outputs": [
    {
     "name": "stderr",
     "output_type": "stream",
     "text": [
      "E:\\ssdapps\\anaconda\\lib\\site-packages\\plotnine\\ggplot.py:719: PlotnineWarning: Saving 8 x 2 in image.\n",
      "E:\\ssdapps\\anaconda\\lib\\site-packages\\plotnine\\ggplot.py:722: PlotnineWarning: Filename: specific-plots/5micro_net.png\n",
      "E:\\ssdapps\\anaconda\\lib\\site-packages\\tikzplotlib\\_save.py:390: UserWarning: tikzplotlib: Don't know how to handle object <class 'matplotlib.offsetbox.AnchoredOffsetbox'>.\n"
     ]
    },
    {
     "data": {
      "image/png": "[encoded data removed]",
      "text/plain": [
       "<Figure size 800x200 with 2 Axes>"
      ]
     },
     "metadata": {},
     "output_type": "display_data"
    },
    {
     "data": {
      "image/png": "[encoded data removed]",
      "text/plain": [
       "<Figure size 800x200 with 2 Axes>"
      ]
     },
     "metadata": {},
     "output_type": "display_data"
    },
    {
     "data": {
      "text/plain": [
       "<ggplot: (79878677486)>"
      ]
     },
     "metadata": {},
     "output_type": "display_data"
    }
   ],
   "source": [
    "plot.save(\"specific-plots/5micro_net.png\")\n",
    "matplot = plot.draw()\n",
    "tikzplotlib.save('specific-plots/5micro_net.tikz', figure=matplot)\n",
    "display(plot)"
   ]
  },
  {
   "cell_type": "markdown",
   "id": "88add31a-abbc-4286-bdf4-cc6f83027ab7",
   "metadata": {},
   "source": [
    "reveals a ..\\% increase in performance for the selection operation compared to the ..\\% achieved without limitations on scale factor 1. However, the already worse join performance is exacerbated by ingress limitations, with ..\\% higher total execution time."
   ]
  },
  {
   "cell_type": "code",
   "execution_count": null,
   "id": "1ac65e29-a5ba-482c-bcba-03021bcc1779",
   "metadata": {},
   "outputs": [],
   "source": []
  }
 ],
 "metadata": {
  "kernelspec": {
   "display_name": "Python 3",
   "language": "python",
   "name": "python3"
  },
  "language_info": {
   "codemirror_mode": {
    "name": "ipython",
    "version": 3
   },
   "file_extension": ".py",
   "mimetype": "text/x-python",
   "name": "python",
   "nbconvert_exporter": "python",
   "pygments_lexer": "ipython3",
   "version": "3.8.10"
  }
 },
 "nbformat": 4,
 "nbformat_minor": 5
}
