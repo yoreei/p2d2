{
 "cells": [
  {
   "cell_type": "code",
   "execution_count": 334,
   "id": "cd839679-32ef-41e1-8200-4367218af581",
   "metadata": {
    "tags": []
   },
   "outputs": [
    {
     "data": {
      "text/plain": [
       "Index(['index', 'bytes_memory', 'cpu_percent', 'bytes_sent', 'bytes_recv',\n",
       "       'wall_time', 'exitcode', 'db_time', 'rep', 'net', 'scale', 'wflow',\n",
       "       'optimizer'],\n",
       "      dtype='object')"
      ]
     },
     "execution_count": 334,
     "metadata": {},
     "output_type": "execute_result"
    }
   ],
   "source": [
    "from plotnine import *\n",
    "import pandas\n",
    "from sklearn import preprocessing\n",
    "import itertools\n",
    "from statistics import mean\n",
    "from solarized import *\n",
    "pandas.options.display.max_rows=10"
   ]
  },
  {
   "cell_type": "code",
   "execution_count": null,
   "id": "a512fcc7-3f1b-4959-9f50-ee0ef98065ab",
   "metadata": {},
   "outputs": [],
   "source": [
    "# 1.{5end_to_end} tpch 1,2,3,4,5 with scale 1, 10\n",
    "# 2 {5module4} and 3. module4 | also {5module4mem} and {5module4net}\n",
    "# 3.{5tpchmodin} tpch 1, 4, 5 with modin on scale 10\n",
    "# 4.{5micro_scales} micros with scale 1, 10 | also {5micro_traffic}\n",
    "# 5.{5micro_net} micro join, selection with net=wan and scale 1"
   ]
  },
  {
   "cell_type": "code",
   "execution_count": null,
   "id": "8df3cae3-4e71-4b7e-a808-f3810fe144ba",
   "metadata": {},
   "outputs": [],
   "source": [
    "factors= ['wflow', 'optimizer', 'net', 'scale']\n",
    "df=pandas.read_feather('specific-reposts/5end_to_end.feather')\n",
    "df.columns"
   ]
  },
  {
   "cell_type": "markdown",
   "id": "45169b47-cd90-426c-91c4-77e5a8fe8c21",
   "metadata": {},
   "source": [
    "# CHECK"
   ]
  },
  {
   "cell_type": "code",
   "execution_count": 335,
   "id": "fa93131e-558c-4a47-9c39-47705fb28ecf",
   "metadata": {},
   "outputs": [
    {
     "data": {
      "text/plain": [
       "0    186285\n",
       "1     21940\n",
       "Name: exitcode, dtype: int64"
      ]
     },
     "execution_count": 335,
     "metadata": {},
     "output_type": "execute_result"
    }
   ],
   "source": [
    "df['exitcode'].value_counts()"
   ]
  },
  {
   "cell_type": "code",
   "execution_count": 336,
   "id": "4cec32a3-f9c9-4805-adae-97dfa8bfadd9",
   "metadata": {},
   "outputs": [
    {
     "data": {
      "text/plain": [
       "array(['tpch1.py', 'q07.sql', 'q08.sql', 'q09.sql'], dtype=object)"
      ]
     },
     "execution_count": 336,
     "metadata": {},
     "output_type": "execute_result"
    }
   ],
   "source": [
    "df.query(\"exitcode == 1\")['wflow'].unique()"
   ]
  },
  {
   "cell_type": "markdown",
   "id": "84b22d74-8322-4ddd-b7d2-bd89cb446b07",
   "metadata": {},
   "source": [
    "# PREPROCESS"
   ]
  },
  {
   "cell_type": "code",
   "execution_count": 399,
   "id": "203c3520-f38f-4f7b-9971-933e1c132dd4",
   "metadata": {},
   "outputs": [
    {
     "data": {
      "text/plain": [
       "Index(['wflow', 'optimizer', 'net', 'scale', 'index', 'bytes_sent',\n",
       "       'wall_time', 'db_time', 'gb_memory', 'cpu', 'gb_net',\n",
       "       'procedural_time'],\n",
       "      dtype='object')"
      ]
     },
     "execution_count": 399,
     "metadata": {},
     "output_type": "execute_result"
    }
   ],
   "source": [
    "overview = df.groupby(by=factors).first().reset_index()\n",
    "overview.columns"
   ]
  },
  {
   "cell_type": "code",
   "execution_count": null,
   "id": "b7813ae9-780e-4d9f-98d3-e7f2e560317e",
   "metadata": {},
   "outputs": [],
   "source": [
    "overview = overview[\"wflow\", \"optimizer\", \"scale\", \"shared_wall_time\"]]"
   ]
  },
  {
   "cell_type": "markdown",
   "id": "16cf6420-6e0f-4c89-99e1-1b3ea8ef4a32",
   "metadata": {},
   "source": [
    "# PROCEDURAL AND DB TIME"
   ]
  },
  {
   "cell_type": "code",
   "execution_count": 402,
   "id": "02e3de4c-3210-4c3a-8c4d-6d657e4aa12e",
   "metadata": {},
   "outputs": [],
   "source": [
    "def prep_for_plot(origin_df: pandas.DataFrame, measurements:list):\n",
    "    prj = origin_df[factors+measurements]\n",
    "    return prj.melt(id_vars=factors, value_vars=measurements,\n",
    "                    value_name='measurement', var_name='var')\n"
   ]
  },
  {
   "cell_type": "code",
   "execution_count": null,
   "id": "65716eb9-30b3-492f-8320-527c9fba0c9d",
   "metadata": {},
   "outputs": [],
   "source": [
    "(\n",
    "        ggplot(plot_df, aes('optimizer', y='measurement', fill='var'))\n",
    "        + geom_col(width=0.3)\n",
    "        #+ scale_fill_manual(values=cdict) \n",
    "        + facet_wrap('wflow', scales='free')\n",
    "        + ggtitle(plot_title)\n",
    "        + xlab(\"Optimization Method\")\n",
    "        + ylab(\"Time (in sec.)\")\n",
    "        + theme(figure_size=(5, 2.5),\n",
    "               subplots_adjust={'hspace': 1, 'wspace': 0.25})\n",
    "    )"
   ]
  },
  {
   "cell_type": "code",
   "execution_count": null,
   "id": "1f968d33-afd0-4706-8d63-954d8cf57be3",
   "metadata": {},
   "outputs": [],
   "source": [
    "curplot = plot_f(qdf, query)\n",
    "curplot.save(f\"plots/{folder}/{name}.png\")\n",
    "display(curplot)"
   ]
  },
  {
   "cell_type": "code",
   "execution_count": 420,
   "id": "733e8dc2-ca5b-4082-9723-4eb52157ca9f",
   "metadata": {},
   "outputs": [],
   "source": [
    "# pandas.options.display.max_rows=200\n",
    "# exec_time_melt.query(\"optimizer=='optimized' and net=='loc' and scale=='1' and index=='false'\")"
   ]
  },
  {
   "cell_type": "code",
   "execution_count": 421,
   "id": "358cb1a0-af1c-4229-9212-a1e58df23d6d",
   "metadata": {},
   "outputs": [],
   "source": [
    "df_time =prep_for_plot(overview, ['procedural_time', 'db_time'])\n",
    "df_net = prep_for_plot(overview, ['gb_net'])\n",
    "df_cpu = prep_for_plot(interproc, ['cpu'])\n",
    "df_mem = prep_for_plot(interproc, ['gb_net'])\n"
   ]
  },
  {
   "cell_type": "code",
   "execution_count": 422,
   "id": "b7137dbd-0130-4550-b30f-7125275fdef8",
   "metadata": {},
   "outputs": [],
   "source": [
    "all_factors = cycle_factors()"
   ]
  },
  {
   "cell_type": "code",
   "execution_count": 425,
   "id": "303ec264-c665-4124-a1a8-2a0bcc2aeffb",
   "metadata": {},
   "outputs": [
    {
     "name": "stdout",
     "output_type": "stream",
     "text": [
      "net == 'lan' and scale == '1' and index == 'false'\n"
     ]
    },
    {
     "name": "stderr",
     "output_type": "stream",
     "text": [
      "E:\\ssdapps\\anaconda\\lib\\site-packages\\plotnine\\ggplot.py:719: PlotnineWarning: Saving 8 x 2.5 in image.\n",
      "E:\\ssdapps\\anaconda\\lib\\site-packages\\plotnine\\ggplot.py:722: PlotnineWarning: Filename: plots/plot_mem/lan1false.png\n"
     ]
    },
    {
     "ename": "SyntaxError",
     "evalue": "unexpected EOF while parsing (<string>, line 1)",
     "output_type": "error",
     "traceback": [
      "Traceback \u001b[1;36m(most recent call last)\u001b[0m:\n",
      "  File \u001b[0;32m\"E:\\ssdapps\\anaconda\\lib\\site-packages\\IPython\\core\\interactiveshell.py\"\u001b[0m, line \u001b[0;32m3437\u001b[0m, in \u001b[0;35mrun_code\u001b[0m\n    exec(code_obj, self.user_global_ns, self.user_ns)\n",
      "  File \u001b[0;32m\"<ipython-input-425-2e7be72d9c63>\"\u001b[0m, line \u001b[0;32m1\u001b[0m, in \u001b[0;35m<module>\u001b[0m\n    gen_plots(all_factors)\n",
      "  File \u001b[0;32m\"<ipython-input-419-63cc7bf26e1f>\"\u001b[0m, line \u001b[0;32m13\u001b[0m, in \u001b[0;35mgen_plots\u001b[0m\n    curplot.save(f\"plots/{folder}/{name}.png\")\n",
      "  File \u001b[0;32m\"E:\\ssdapps\\anaconda\\lib\\site-packages\\plotnine\\ggplot.py\"\u001b[0m, line \u001b[0;32m727\u001b[0m, in \u001b[0;35msave\u001b[0m\n    fig, p = self.draw(return_ggplot=True)\n",
      "  File \u001b[0;32m\"E:\\ssdapps\\anaconda\\lib\\site-packages\\plotnine\\ggplot.py\"\u001b[0m, line \u001b[0;32m205\u001b[0m, in \u001b[0;35mdraw\u001b[0m\n    self._build()\n",
      "  File \u001b[0;32m\"E:\\ssdapps\\anaconda\\lib\\site-packages\\plotnine\\ggplot.py\"\u001b[0m, line \u001b[0;32m285\u001b[0m, in \u001b[0;35m_build\u001b[0m\n    layout.setup(layers, self)\n",
      "  File \u001b[0;32m\"E:\\ssdapps\\anaconda\\lib\\site-packages\\plotnine\\facets\\layout.py\"\u001b[0m, line \u001b[0;32m58\u001b[0m, in \u001b[0;35msetup\u001b[0m\n    self.layout = self.facet.compute_layout(data)\n",
      "  File \u001b[0;32m\"E:\\ssdapps\\anaconda\\lib\\site-packages\\plotnine\\facets\\facet_grid.py\"\u001b[0m, line \u001b[0;32m82\u001b[0m, in \u001b[0;35mcompute_layout\u001b[0m\n    base_rows = combine_vars(data, self.plot.environment,\n",
      "  File \u001b[0;32m\"E:\\ssdapps\\anaconda\\lib\\site-packages\\plotnine\\facets\\facet.py\"\u001b[0m, line \u001b[0;32m415\u001b[0m, in \u001b[0;35mcombine_vars\u001b[0m\n    values = [eval_facet_vars(df, vars, environment)\n",
      "  File \u001b[0;32m\"E:\\ssdapps\\anaconda\\lib\\site-packages\\plotnine\\facets\\facet.py\"\u001b[0m, line \u001b[0;32m415\u001b[0m, in \u001b[0;35m<listcomp>\u001b[0m\n    values = [eval_facet_vars(df, vars, environment)\n",
      "  File \u001b[0;32m\"E:\\ssdapps\\anaconda\\lib\\site-packages\\plotnine\\facets\\facet.py\"\u001b[0m, line \u001b[0;32m542\u001b[0m, in \u001b[0;35meval_facet_vars\u001b[0m\n    res = env.eval(name, inner_namespace=data)\n",
      "\u001b[1;36m  File \u001b[1;32m\"E:\\ssdapps\\anaconda\\lib\\site-packages\\patsy\\eval.py\"\u001b[1;36m, line \u001b[1;32m164\u001b[1;36m, in \u001b[1;35meval\u001b[1;36m\u001b[0m\n\u001b[1;33m    code = compile(expr, source_name, \"eval\", self.flags, False)\u001b[0m\n",
      "\u001b[1;36m  File \u001b[1;32m\"<string>\"\u001b[1;36m, line \u001b[1;32m1\u001b[0m\n\u001b[1;33m    Optimization method\u001b[0m\n\u001b[1;37m                 ^\u001b[0m\n\u001b[1;31mSyntaxError\u001b[0m\u001b[1;31m:\u001b[0m unexpected EOF while parsing\n"
     ]
    }
   ],
   "source": [
    "gen_plots(all_factors)"
   ]
  },
  {
   "cell_type": "code",
   "execution_count": 56,
   "id": "c2caf842-08be-4b82-9f6e-d45a6931c4d3",
   "metadata": {},
   "outputs": [],
   "source": [
    "# variable_cat = pandas.CategoricalDtype(categories=['python_time', 'db_time'], ordered=True)\n",
    "# df['variable'] = df['variable'].astype(variable_cat)\n",
    "# cdict={'python_time': C_BLUE,\n",
    "#        'db_time': C_GREEN\n",
    "# }\n",
    "# df.rename(columns={'value':'Execution time %'}, inplace=True)"
   ]
  },
  {
   "cell_type": "markdown",
   "id": "11649479-d3f8-4acd-8ea7-464bda4ee23e",
   "metadata": {},
   "source": [
    "In order to explain these results, we also ran microbenchmarks: workflows consisting of a single operation on the dataset. The following list provides a quick overview of the microbenchmarks, all of which were expressed in pandas:\n",
    "- join (Two database tables are pulled from the RDBMS and an inner join is performed)\n",
    "- max (A database table is pulled from the RDBMS and a maximum of a column is calculated)\n",
    "- projection (A database table is pulled from the RDBMS and a subset of the columns are removed inside the python runtime)\n",
    "- selection (A database table is pulled from the RDBMS and a subset of the rows are removed inside the python runtime)\n",
    "For a detailed look at the microbenchmarks, one can see the workflows inside the \"benchmarks\" folder in the project's git repositoty. It should be noted that none of the microbenchmarks modify tables inside the RDBMS.\n",
    "\n",
    "Since the various microbenchmark workflows have different base runtimes (e.g. aggregations were 10 times faster in this specific measurement), the values we see in the above graphic are normalized, such that the slowest optimization method has a value of 1. Lower values are better.  We can see that our optimizer generally performed better than both modin and standard pandas \"base\".\n",
    "\n",
    "To gain better insight about this, we split the overall wall time between the time it took the database to deliver the queried data \"DB time\" and the time it took the python environment to execute the operation \"Python time\". As expected, our performing operator pushdown to RDBMS practically eliminates \"Python time\". What is arguably more interesting, is that in most cases performing the pushdown also decreased \"DB time\". "
   ]
  },
  {
   "cell_type": "code",
   "execution_count": null,
   "id": "999a3404-236c-42ed-9b58-924719f30a09",
   "metadata": {},
   "outputs": [],
   "source": []
  }
 ],
 "metadata": {
  "kernelspec": {
   "display_name": "Python 3",
   "language": "python",
   "name": "python3"
  },
  "language_info": {
   "codemirror_mode": {
    "name": "ipython",
    "version": 3
   },
   "file_extension": ".py",
   "mimetype": "text/x-python",
   "name": "python",
   "nbconvert_exporter": "python",
   "pygments_lexer": "ipython3",
   "version": "3.8.10"
  }
 },
 "nbformat": 4,
 "nbformat_minor": 5
}
