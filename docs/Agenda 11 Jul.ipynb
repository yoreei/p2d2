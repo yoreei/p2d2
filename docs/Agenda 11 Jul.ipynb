{
 "cells": [
  {
   "cell_type": "markdown",
   "id": "9973f4cc-b75a-4a60-bc89-45651bf06b59",
   "metadata": {},
   "source": [
    "# Agenda 11 July (26 Days to submission)\n",
    "\n",
    "## Meta\n",
    "- I have no Themenantrag\n",
    "\n",
    "## Content\n",
    "- Formal problem statement\n",
    "\n",
    "- Kaggle function and import analysis\n"
   ]
  },
  {
   "cell_type": "code",
   "execution_count": null,
   "id": "a96a5974-99e5-4209-bc6b-e2f15cf10716",
   "metadata": {},
   "outputs": [],
   "source": []
  }
 ],
 "metadata": {
  "kernelspec": {
   "display_name": "Python 3",
   "language": "python",
   "name": "python3"
  },
  "language_info": {
   "codemirror_mode": {
    "name": "ipython",
    "version": 3
   },
   "file_extension": ".py",
   "mimetype": "text/x-python",
   "name": "python",
   "nbconvert_exporter": "python",
   "pygments_lexer": "ipython3",
   "version": "3.8.10"
  }
 },
 "nbformat": 4,
 "nbformat_minor": 5
}
