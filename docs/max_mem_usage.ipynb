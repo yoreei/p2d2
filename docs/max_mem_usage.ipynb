{
 "cells": [
  {
   "cell_type": "code",
   "execution_count": 1,
   "id": "2ea2930e-4f19-4bef-848d-bb04d0476b62",
   "metadata": {},
   "outputs": [],
   "source": [
    "import pandas\n",
    "\n",
    "# find max memory usage\n",
    "df=pandas.read_csv('bench_results.csv')\n",
    "df['mem_usage']=df['mem_usage'].apply(lambda x: max(eval(x)))\n",
    "\n",
    "# convert to MB\n",
    "df['mem_usage']=df['mem_usage'].apply(lambda x: x//10**6)\n",
    "\n",
    "df.to_csv('bench_results_max.csv', index=False)"
   ]
  },
  {
   "cell_type": "code",
   "execution_count": null,
   "id": "3930b9fb-e542-4a08-825f-d1fbf62ad6df",
   "metadata": {},
   "outputs": [],
   "source": []
  }
 ],
 "metadata": {
  "kernelspec": {
   "display_name": "Python 3",
   "language": "python",
   "name": "python3"
  },
  "language_info": {
   "codemirror_mode": {
    "name": "ipython",
    "version": 3
   },
   "file_extension": ".py",
   "mimetype": "text/x-python",
   "name": "python",
   "nbconvert_exporter": "python",
   "pygments_lexer": "ipython3",
   "version": "3.8.5"
  }
 },
 "nbformat": 4,
 "nbformat_minor": 5
}
