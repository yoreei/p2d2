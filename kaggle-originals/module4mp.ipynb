{
 "cells": [
  {
   "cell_type": "code",
   "execution_count": 1,
   "metadata": {
    "_cell_guid": "b1076dfc-b9ad-4769-8c92-a6c4dae69d19",
    "_uuid": "8f2839f25d086af736a60e9eeb907d3b93b6e0e5",
    "colab": {},
    "colab_type": "code",
    "id": "ur2KW1sdnCxW",
    "outputId": "f584d998-ff68-4aea-8b52-f2159fc35774"
   },
   "outputs": [],
   "source": [
    "import numpy as np # linear algebra\n",
    "import pandas as pd # data processing, CSV file I/O (e.g. pd.read_csv)\n",
    "from sklearn.model_selection import train_test_split\n",
    "from sklearn.linear_model import LogisticRegression\n",
    "from numpy import array\n",
    "from numpy import argmax\n",
    "from sklearn.preprocessing import LabelEncoder\n",
    "from sklearn.preprocessing import OneHotEncoder\n",
    "import time\n",
    "import helppd2sql"
   ]
  },
  {
   "cell_type": "code",
   "execution_count": 2,
   "metadata": {
    "_cell_guid": "79c7e3d0-c299-4dcb-8224-4455121ee9b0",
    "_uuid": "d629ff2d2480ee46fbb7e2d37f6b5fab8052498a",
    "colab": {},
    "colab_type": "code",
    "id": "eeqIIUuhnCxd",
    "outputId": "3eb50f87-f84a-4400-a6c0-d1e6843a504b"
   },
   "outputs": [],
   "source": [
    "sentiment_values = pd.read_csv('../data/chelseapower/fixed_sentiment_values.csv')"
   ]
  },
  {
   "cell_type": "code",
   "execution_count": 3,
   "metadata": {},
   "outputs": [],
   "source": [
    "proj_sent = sentiment_values[['hashtag', 'ol_score', 'ol_avg']]"
   ]
  },
  {
   "cell_type": "code",
   "execution_count": 4,
   "metadata": {},
   "outputs": [],
   "source": [
    "# proj_sent.apply(lambda x: x.isnull().sum())"
   ]
  },
  {
   "cell_type": "code",
   "execution_count": 5,
   "metadata": {
    "colab": {},
    "colab_type": "code",
    "id": "8q4SwdsLnCx0"
   },
   "outputs": [
    {
     "name": "stderr",
     "output_type": "stream",
     "text": [
      "<ipython-input-5-03a699e8aca2>:2: SettingWithCopyWarning: \n",
      "A value is trying to be set on a copy of a slice from a DataFrame.\n",
      "Try using .loc[row_indexer,col_indexer] = value instead\n",
      "\n",
      "See the caveats in the documentation: https://pandas.pydata.org/pandas-docs/stable/user_guide/indexing.html#returning-a-view-versus-a-copy\n",
      "  proj_sent['ol_score'] = proj_sent['ol_score'].combine_first(\n"
     ]
    }
   ],
   "source": [
    "# COALESCE (ol_score, ol_avg) NOT SUPPORTED YET\n",
    "proj_sent['ol_score'] = proj_sent['ol_score'].combine_first(\n",
    "    proj_sent['ol_avg'])"
   ]
  },
  {
   "cell_type": "code",
   "execution_count": 6,
   "metadata": {},
   "outputs": [],
   "source": [
    "# proj_sent.apply(lambda x: x.isnull().sum())"
   ]
  },
  {
   "cell_type": "code",
   "execution_count": 7,
   "metadata": {
    "colab": {},
    "colab_type": "code",
    "id": "y362R5B-nCx9",
    "outputId": "746c3f05-f5b3-475d-bab4-0adebee8e91c"
   },
   "outputs": [],
   "source": [
    "# UNREACHABLE\n",
    "dropna_sentiments = proj_sent.dropna(axis = 0, how ='any')"
   ]
  },
  {
   "cell_type": "code",
   "execution_count": 8,
   "metadata": {
    "colab": {},
    "colab_type": "code",
    "id": "Q9HBSRRunCyC",
    "outputId": "6c1ef443-a03f-4c82-94a2-7228ca8366b2"
   },
   "outputs": [
    {
     "name": "stderr",
     "output_type": "stream",
     "text": [
      "E:\\ssdapps\\anaconda\\lib\\site-packages\\pandas\\core\\frame.py:4441: SettingWithCopyWarning: \n",
      "A value is trying to be set on a copy of a slice from a DataFrame\n",
      "\n",
      "See the caveats in the documentation: https://pandas.pydata.org/pandas-docs/stable/user_guide/indexing.html#returning-a-view-versus-a-copy\n",
      "  return super().rename(\n"
     ]
    }
   ],
   "source": [
    "# UNREACHABLE\n",
    "dropna_sentiments.rename(columns = {'ol_score':'sentiment_score'}, inplace = True)"
   ]
  },
  {
   "cell_type": "code",
   "execution_count": 9,
   "metadata": {
    "colab": {},
    "colab_type": "code",
    "id": "sdPozOhonCyG",
    "outputId": "02c3c306-4ac6-4771-8eb9-2031f306f66b"
   },
   "outputs": [],
   "source": [
    "user_track = pd.read_csv('../data/chelseapower/user_track_hashtag_timestamp.csv')"
   ]
  },
  {
   "cell_type": "code",
   "execution_count": 10,
   "metadata": {
    "colab": {},
    "colab_type": "code",
    "id": "AMx_kUxdnCyL",
    "outputId": "0c7f0981-a89e-4cd3-ccaf-e56061441368",
    "tags": []
   },
   "outputs": [],
   "source": [
    "# explorative analysis - comment out for benchmark\n",
    "# df2.apply(lambda x: x.isnull().sum())"
   ]
  },
  {
   "cell_type": "code",
   "execution_count": 11,
   "metadata": {
    "colab": {},
    "colab_type": "code",
    "id": "kPBEsdKsnCyN",
    "outputId": "356171d9-98d2-402d-b1fc-ab3869999e40"
   },
   "outputs": [],
   "source": [
    "dropna_user = user_track.dropna(subset=['hashtag'])"
   ]
  },
  {
   "cell_type": "code",
   "execution_count": 12,
   "metadata": {
    "colab": {},
    "colab_type": "code",
    "id": "Q2haAh95nCyO",
    "outputId": "51a2c4f8-0f17-493c-fcc3-7a567453bef4",
    "tags": []
   },
   "outputs": [],
   "source": [
    "counts = dropna_user['track_id'].value_counts()\n",
    "popular = counts[counts >= 50]\n",
    "pop_user_list = popular.index"
   ]
  },
  {
   "cell_type": "code",
   "execution_count": 13,
   "metadata": {},
   "outputs": [],
   "source": [
    "pop_user = dropna_user[dropna_user['track_id'].\n",
    "                                       isin(pop_user_list)]"
   ]
  },
  {
   "cell_type": "code",
   "execution_count": 36,
   "metadata": {
    "colab": {},
    "colab_type": "code",
    "id": "9fqAkHqSnCyV",
    "outputId": "15bff8d1-b657-4d01-c158-1ea141c050f6"
   },
   "outputs": [],
   "source": [
    "context_content_features = pd.read_csv(\n",
    "    '../data/chelseapower/fixed_context_content_features.csv')"
   ]
  },
  {
   "cell_type": "code",
   "execution_count": 65,
   "metadata": {
    "colab": {},
    "colab_type": "code",
    "id": "S_8k9ejUnCyW",
    "outputId": "d1f6bb99-c073-4ed9-e626-f61ddfbd8908"
   },
   "outputs": [],
   "source": [
    "counts3 = context_content_features['track_id'].value_counts()\n",
    "popular3 = counts3[counts3 >= 50]\n",
    "pop_context_index = popular3.index"
   ]
  },
  {
   "cell_type": "code",
   "execution_count": 66,
   "metadata": {},
   "outputs": [
    {
     "name": "stdout",
     "output_type": "stream",
     "text": [
      "11614671\n",
      "37447\n",
      "346700\n"
     ]
    }
   ],
   "source": [
    "print(len(context_content_features))\n",
    "print(len(pop_context_list))\n",
    "print(len(counts3))"
   ]
  },
  {
   "cell_type": "code",
   "execution_count": 67,
   "metadata": {},
   "outputs": [],
   "source": [
    "pop_context = context_content_features[context_content_features['track_id'].\n",
    "                                       isin(pop_context_list)]"
   ]
  },
  {
   "cell_type": "code",
   "execution_count": 68,
   "metadata": {},
   "outputs": [
    {
     "data": {
      "text/plain": [
       "9143294"
      ]
     },
     "execution_count": 68,
     "metadata": {},
     "output_type": "execute_result"
    }
   ],
   "source": [
    "len(pop_context)"
   ]
  },
  {
   "cell_type": "code",
   "execution_count": 17,
   "metadata": {},
   "outputs": [],
   "source": [
    "# set(pop_context.columns) - {'coordinates','id',\n",
    "#    'place','geo', 'created_at','artist_id','tweet_lang'}"
   ]
  },
  {
   "cell_type": "code",
   "execution_count": 18,
   "metadata": {
    "colab": {},
    "colab_type": "code",
    "id": "hWrWRfRmnCyZ",
    "outputId": "ac25279a-5d55-4218-ac6f-4f592dade846"
   },
   "outputs": [
    {
     "data": {
      "text/plain": [
       "'\"instrumentalness\", \"liveness\", \"speechiness\", \"danceability\", \"valence\", \"loudness\", \"tempo\", \"acousticness\", \"energy\", \"mode\", \"key\", \"track_id\", \"created_at\", \"lang\", \"time_zone\", \"user_id\"'"
      ]
     },
     "execution_count": 18,
     "metadata": {},
     "output_type": "execute_result"
    }
   ],
   "source": [
    "proj_context = pop_context.drop(\n",
    "    columns=['coordinates','id','place','geo','artist_id','tweet_lang'])\n",
    "helppd2sql.drop2select(proj_context)"
   ]
  },
  {
   "cell_type": "code",
   "execution_count": 19,
   "metadata": {},
   "outputs": [],
   "source": [
    "# proj_context.apply(lambda x: x.isnull().sum())"
   ]
  },
  {
   "cell_type": "code",
   "execution_count": 20,
   "metadata": {
    "colab": {},
    "colab_type": "code",
    "id": "T2Bqn9lknCyb",
    "outputId": "8cd3393e-6220-46e4-983f-a6aed4f2992f"
   },
   "outputs": [],
   "source": [
    "dropna_context = proj_context.dropna(subset=\n",
    "                 ['instrumentalness', 'liveness', 'speechiness',\n",
    "                  'danceability', 'valence', 'acousticness',\n",
    "                  'energy', 'mode', 'key', 'time_zone', 'user_id'])\n"
   ]
  },
  {
   "cell_type": "markdown",
   "metadata": {
    "colab_type": "text",
    "id": "CoKqjx6DnCyc"
   },
   "source": [
    "Reduced the dataset from 10,887,911 to **6,413,576** by dropping all null value rows."
   ]
  },
  {
   "cell_type": "code",
   "execution_count": 21,
   "metadata": {
    "colab": {},
    "colab_type": "code",
    "id": "3TK6Agf8nCyd",
    "outputId": "69772bcb-adb1-4e74-ded7-38529fc7f7fc"
   },
   "outputs": [],
   "source": [
    "english_context = dropna_context[dropna_context['lang'] == 'en']"
   ]
  },
  {
   "cell_type": "code",
   "execution_count": 22,
   "metadata": {
    "colab": {},
    "colab_type": "code",
    "id": "nA67Gv09L-qo"
   },
   "outputs": [
    {
     "data": {
      "text/plain": [
       "'\"instrumentalness\", \"liveness\", \"speechiness\", \"danceability\", \"valence\", \"loudness\", \"tempo\", \"acousticness\", \"energy\", \"mode\", \"key\", \"track_id\", \"created_at\", \"time_zone\", \"user_id\"'"
      ]
     },
     "execution_count": 22,
     "metadata": {},
     "output_type": "execute_result"
    }
   ],
   "source": [
    "# CTE rename_context\n",
    "english_context = english_context.drop(columns=['lang'])\n",
    "english_context['time_zone'].replace('Eastern Time (US & Canada)', 'Eastern Time', inplace=True)\n",
    "english_context['time_zone'].replace('Central Time (US & Canada)', 'Central Time', inplace=True)\n",
    "english_context['time_zone'].replace('Pacific Time (US & Canada)', 'Pacific Time', inplace=True)\n",
    "english_context['time_zone'].replace('Mountain Time (US & Canada)', 'Mountain Time', inplace=True)\n",
    "english_context['time_zone'].replace('Alaska', 'Alaska Time', inplace=True)\n",
    "english_context['time_zone'].replace('Hawaii', 'Hawaii Time', inplace=True)\n",
    "english_context['time_zone'].replace('Arizona', 'Mountain Time', inplace=True)\n",
    "english_context['time_zone'].replace('America/Chicago', 'Central Time', inplace=True)\n",
    "english_context['time_zone'].replace('America/New_York', 'Eastern Time', inplace=True)\n",
    "english_context['time_zone'].replace('America/Los_Angeles', 'Pacific Time', inplace=True)\n",
    "english_context['time_zone'].replace('America/Denver', 'Mountain Time', inplace=True)\n",
    "english_context['time_zone'].replace('America/Detroit', 'Eastern Time', inplace=True)\n",
    "helppd2sql.drop2select(english_context)"
   ]
  },
  {
   "cell_type": "code",
   "execution_count": 23,
   "metadata": {
    "colab": {},
    "colab_type": "code",
    "id": "c3QrUdhAL-qq",
    "outputId": "cb3f5347-c113-4dfc-89ed-a94862ca3d38"
   },
   "outputs": [],
   "source": [
    "usa_context = english_context[english_context['time_zone'].isin(\n",
    "    ['Eastern Time', 'Central Time', 'Pacific Time',\n",
    "     'Mountain Time', 'Alaska Time', 'Hawaii Time'])]"
   ]
  },
  {
   "cell_type": "code",
   "execution_count": 24,
   "metadata": {
    "colab": {},
    "colab_type": "code",
    "id": "PzXj5dnwnCyh",
    "outputId": "5f460884-8c14-4a19-9d1c-21586522c9b9",
    "tags": []
   },
   "outputs": [],
   "source": [
    "df23 = usa_context.merge(\n",
    "    pop_user, on=['track_id','created_at','user_id'], how='inner')\n"
   ]
  },
  {
   "cell_type": "code",
   "execution_count": 25,
   "metadata": {},
   "outputs": [
    {
     "data": {
      "text/plain": [
       "'\"instrumentalness\", \"liveness\", \"speechiness\", \"danceability\", \"valence\", \"loudness\", \"tempo\", \"acousticness\", \"energy\", \"mode\", \"key\", \"track_id\", \"time_zone\", \"user_id\", \"hashtag\"'"
      ]
     },
     "execution_count": 25,
     "metadata": {},
     "output_type": "execute_result"
    }
   ],
   "source": [
    "df23_drop = df23.drop(columns=['created_at'])\n",
    "helppd2sql.drop2select(df23_drop)"
   ]
  },
  {
   "cell_type": "code",
   "execution_count": null,
   "metadata": {},
   "outputs": [],
   "source": [
    "# Unsupported because df1 is in Python\n",
    "df123 = dropna_sentiments.merge(df23, on=['hashtag'], how='inner')"
   ]
  },
  {
   "cell_type": "code",
   "execution_count": null,
   "metadata": {},
   "outputs": [],
   "source": [
    "# Unsupported because df123 is in Python\n",
    "df123 = df123.drop(columns=['hashtag'])"
   ]
  },
  {
   "cell_type": "code",
   "execution_count": 75,
   "metadata": {
    "colab": {},
    "colab_type": "code",
    "id": "vIU8HApJnCyj",
    "outputId": "71d93ddc-b420-4a36-c067-029afb791c88"
   },
   "outputs": [
    {
     "name": "stdout",
     "output_type": "stream",
     "text": [
      "<class 'pandas.core.frame.DataFrame'>\n",
      "Int64Index: 69428 entries, 0 to 69427\n",
      "Data columns (total 21 columns):\n",
      " #   Column            Non-Null Count  Dtype  \n",
      "---  ------            --------------  -----  \n",
      " 0   hashtag           69428 non-null  object \n",
      " 1   sentiment_score   69428 non-null  float64\n",
      " 2   ol_avg            69428 non-null  float64\n",
      " 3   user_id           69428 non-null  object \n",
      " 4   track_id          69428 non-null  object \n",
      " 5   created_at        69428 non-null  object \n",
      " 6   instrumentalness  69428 non-null  float64\n",
      " 7   liveness          69428 non-null  float64\n",
      " 8   speechiness       69428 non-null  float64\n",
      " 9   danceability      69428 non-null  float64\n",
      " 10  valence           69428 non-null  float64\n",
      " 11  loudness          69428 non-null  float64\n",
      " 12  tempo             69428 non-null  float64\n",
      " 13  acousticness      69428 non-null  float64\n",
      " 14  energy            69428 non-null  float64\n",
      " 15  mode              69428 non-null  Int64  \n",
      " 16  key               69428 non-null  float64\n",
      " 17  artist_id         69428 non-null  object \n",
      " 18  tweet_lang        69428 non-null  object \n",
      " 19  lang              69428 non-null  object \n",
      " 20  time_zone         69428 non-null  object \n",
      "dtypes: Int64(1), float64(12), object(8)\n",
      "memory usage: 11.7+ MB\n"
     ]
    }
   ],
   "source": [
    "# Unsupported\n",
    "df123['mode'] = df123['mode'].astype('Int64')\n",
    "df123['user_id'] = df123['user_id'].astype(str)"
   ]
  },
  {
   "cell_type": "code",
   "execution_count": 72,
   "metadata": {},
   "outputs": [
    {
     "data": {
      "text/plain": [
       "True"
      ]
     },
     "execution_count": 72,
     "metadata": {},
     "output_type": "execute_result"
    }
   ],
   "source": [
    "isinstance(globals()['df23'], pd.DataFrame)"
   ]
  },
  {
   "cell_type": "code",
   "execution_count": 76,
   "metadata": {
    "colab": {},
    "colab_type": "code",
    "id": "cMA4BSFanCyl",
    "outputId": "1267dc19-42ba-49f8-db35-482d60288966"
   },
   "outputs": [
    {
     "data": {
      "text/plain": [
       "hashtag            0\n",
       "sentiment_score    0\n",
       "ol_avg             0\n",
       "user_id            0\n",
       "track_id           0\n",
       "created_at         0\n",
       "dtype: int64"
      ]
     },
     "execution_count": 76,
     "metadata": {},
     "output_type": "execute_result"
    }
   ],
   "source": [
    "#Create new column sentiment that will be the predictor based on the sentiment_score values\n",
    "df123['sentiment'] = np.where(df123['sentiment_score']>= 0.01, 1, 0)"
   ]
  },
  {
   "cell_type": "code",
   "execution_count": null,
   "metadata": {
    "colab": {},
    "colab_type": "code",
    "id": "3r5gNwzAnCyr",
    "outputId": "1420b7e6-e5ee-4230-e32b-1345cc2547ba"
   },
   "outputs": [],
   "source": [
    "# Reorder columns\n",
    "df_mvp = df123[['sentiment','sentiment_score','user_id','track_id','time_zone','instrumentalness',\n",
    "              'liveness','speechiness','danceability','valence','loudness','tempo','acousticness','energy','mode','key']]\n",
    "df_mvp.info()"
   ]
  },
  {
   "cell_type": "code",
   "execution_count": null,
   "metadata": {},
   "outputs": [],
   "source": [
    "report = helppd2sql.global_report()\n",
    "report_df = pandas.DataFrame(report)\n",
    "report_df.to_csv('pandas_report.csv', index=False)\n",
    "df_mvp.to_csv('df_mvp_p.csv', index=False)\n",
    "exit()"
   ]
  },
  {
   "cell_type": "code",
   "execution_count": null,
   "metadata": {},
   "outputs": [],
   "source": [
    "\n",
    "# Create new dataset with only user_id, track_id and time_zone and the category variables\n",
    "df_timezone = df_mvp.drop(['user_id','track_id','sentiment','sentiment_score','instrumentalness','liveness','speechiness',\n",
    "                             'danceability','valence','loudness','tempo','acousticness','energy','mode','key'], axis=1)\n",
    "df_timezone.head()\n",
    "\n",
    "\n",
    "# One Hot Encode the category data set\n",
    "one_hot_df = pd.get_dummies(df_timezone)\n",
    "one_hot_df.head()\n",
    "\n",
    "\n",
    "# Rename the columns\n",
    "one_hot_df.columns = ['tz_Alaska_Time','tz_Central_Time','tz_Eastern_Time','tz_Hawaii_Time','tz_Mountain_Time','tz_Pacific_Time']\n",
    "one_hot_df.head()\n",
    "\n",
    "\n",
    "#Drop time_zone from MVP dataset\n",
    "df_mvp = df_mvp.drop([\"time_zone\"], axis=1)\n",
    "\n",
    "\n",
    "#Concatenate one hot encoded dataframe\n",
    "df_mvp = pd.concat([df_mvp,one_hot_df], axis=1)\n",
    "#df_mvp.head()\n",
    "print(f\"preprocessing: {time.time() - begin}\")\n",
    "begin = time.time()\n",
    "\n",
    "\n",
    "# Define X and y\n",
    "y = df_mvp['sentiment']\n",
    "X = df_mvp.drop('sentiment', axis = 1)\n",
    "\n",
    "\n",
    "# Normalizing the data prior to fitting the model.\n",
    "x_feats = ['sentiment_score','instrumentalness','liveness','speechiness','danceability',\n",
    "           'loudness','tempo','acousticness','energy','mode','key','valence','tz_Alaska_Time',\n",
    "           'tz_Central_Time','tz_Eastern_Time','tz_Hawaii_Time','tz_Mountain_Time','tz_Pacific_Time']\n",
    "\n",
    "X = pd.get_dummies(df_mvp[x_feats], drop_first=False)\n",
    "y = df_mvp.sentiment\n",
    "X.head()\n",
    "\n",
    "\n",
    "# Splitting the data into train and test sets (automatically uses stratified sampling by labels)\n",
    "X_train, X_test, y_train, y_test = train_test_split(X, y, test_size = 0.25, random_state=42)\n",
    "\n",
    "\n",
    "logreg = LogisticRegression(fit_intercept = True, C=1e12)\n",
    "model_log = logreg.fit(X_train, y_train)\n",
    "model_log\n",
    "\n",
    "\n",
    "logreg.predict_proba(X_train)\n",
    "\n",
    "\n",
    "\n",
    "# How may times was the classifier correct for the training set?\n",
    "logreg.score(X_train, y_train)\n",
    "\n",
    "\n",
    "\n",
    "# How may times was the classifier correct for the test set?\n",
    "logreg.score(X_test, y_test)\n",
    "\n",
    "print(f\"ml time: {time.time() - begin}\")"
   ]
  }
 ],
 "metadata": {
  "colab": {
   "collapsed_sections": [
    "Uytuuf9unCyG",
    "GDvHzkARnCyU"
   ],
   "name": "student.ipynb",
   "provenance": [],
   "version": "0.3.2"
  },
  "kernelspec": {
   "display_name": "Python 3",
   "language": "python",
   "name": "python3"
  },
  "language_info": {
   "codemirror_mode": {
    "name": "ipython",
    "version": 3
   },
   "file_extension": ".py",
   "mimetype": "text/x-python",
   "name": "python",
   "nbconvert_exporter": "python",
   "pygments_lexer": "ipython3",
   "version": "3.8.10"
  }
 },
 "nbformat": 4,
 "nbformat_minor": 4
}
