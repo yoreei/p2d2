{
 "cells": [
  {
   "cell_type": "markdown",
   "metadata": {},
   "source": [
    "# Preprocessing"
   ]
  },
  {
   "cell_type": "code",
   "execution_count": 1,
   "metadata": {},
   "outputs": [
    {
     "data": {
      "text/html": [
       "<div>\n",
       "<style scoped>\n",
       "    .dataframe tbody tr th:only-of-type {\n",
       "        vertical-align: middle;\n",
       "    }\n",
       "\n",
       "    .dataframe tbody tr th {\n",
       "        vertical-align: top;\n",
       "    }\n",
       "\n",
       "    .dataframe thead th {\n",
       "        text-align: right;\n",
       "    }\n",
       "</style>\n",
       "<table border=\"1\" class=\"dataframe\">\n",
       "  <thead>\n",
       "    <tr style=\"text-align: right;\">\n",
       "      <th></th>\n",
       "      <th>oom</th>\n",
       "      <th>opt_time</th>\n",
       "      <th>rep</th>\n",
       "      <th>wall_time</th>\n",
       "      <th>cpu_utilization</th>\n",
       "      <th>mem_usage</th>\n",
       "      <th>net_usage</th>\n",
       "      <th>ver</th>\n",
       "      <th>index</th>\n",
       "      <th>net</th>\n",
       "      <th>scale</th>\n",
       "      <th>wflow</th>\n",
       "    </tr>\n",
       "  </thead>\n",
       "  <tbody>\n",
       "    <tr>\n",
       "      <th>0</th>\n",
       "      <td>False</td>\n",
       "      <td>0.697751</td>\n",
       "      <td>0</td>\n",
       "      <td>794.595709</td>\n",
       "      <td>0</td>\n",
       "      <td>502</td>\n",
       "      <td>0</td>\n",
       "      <td>p2d2</td>\n",
       "      <td>True</td>\n",
       "      <td>lan</td>\n",
       "      <td>1</td>\n",
       "      <td>agg.py</td>\n",
       "    </tr>\n",
       "    <tr>\n",
       "      <th>1</th>\n",
       "      <td>False</td>\n",
       "      <td>0.697751</td>\n",
       "      <td>1</td>\n",
       "      <td>794.595709</td>\n",
       "      <td>0</td>\n",
       "      <td>502</td>\n",
       "      <td>0</td>\n",
       "      <td>p2d2</td>\n",
       "      <td>True</td>\n",
       "      <td>lan</td>\n",
       "      <td>1</td>\n",
       "      <td>agg.py</td>\n",
       "    </tr>\n",
       "  </tbody>\n",
       "</table>\n",
       "</div>"
      ],
      "text/plain": [
       "     oom  opt_time  rep   wall_time  cpu_utilization  mem_usage  net_usage  \\\n",
       "0  False  0.697751    0  794.595709                0        502          0   \n",
       "1  False  0.697751    1  794.595709                0        502          0   \n",
       "\n",
       "    ver  index  net scale   wflow  \n",
       "0  p2d2   True  lan     1  agg.py  \n",
       "1  p2d2   True  lan     1  agg.py  "
      ]
     },
     "execution_count": 1,
     "metadata": {},
     "output_type": "execute_result"
    }
   ],
   "source": [
    "import pandas\n",
    "import seaborn as sns\n",
    "import matplotlib.pyplot as plt\n",
    "import numpy as np\n",
    "\n",
    "sns.set_theme(style=\"whitegrid\")\n",
    "sns.set_palette('colorblind')\n",
    "palette = sns.color_palette(\"colorblind\")\n",
    "#sns.palplot(palette)\n",
    "\n",
    "def preprocess(df):\n",
    "    df['scale'] = df['scale'].astype(str)\n",
    "    df['ver']=df['ver'].replace('p2d2.optimizer', 'p2d2')\n",
    "    df['ver']=df['ver'].replace('p2d2.no_optimizer', 'pandas')\n",
    "\n",
    "dependent_variables = ['wall_time','mem_usage','net_usage','cpu_utilization','opt_time']\n",
    "factors=['scale', 'ver', 'net', 'index', 'wflow']\n",
    "\n",
    "df=pandas.read_csv('bench_results_max.csv')\n",
    "preprocess(df)\n",
    "\n",
    "# make oom's zero\n",
    "df.loc[df['oom'] == True, dependent_variables] = 0\n",
    "df.head(2)\n",
    "#df.dtypes"
   ]
  },
  {
   "cell_type": "code",
   "execution_count": 2,
   "metadata": {},
   "outputs": [],
   "source": [
    "# make sure oom is the same in all repetitions\n",
    "#df.loc[0, 'oom']=True # used to test code below\n",
    "\n",
    "ooms = df.pivot(index=set(df.columns)-{'rep'}, columns='rep', values='oom')\n",
    "bitmask = ooms[0]==ooms[1]\n",
    "assert bitmask.all()"
   ]
  },
  {
   "cell_type": "markdown",
   "metadata": {},
   "source": [
    "# Calculate Speedup"
   ]
  },
  {
   "cell_type": "code",
   "execution_count": 3,
   "metadata": {},
   "outputs": [
    {
     "data": {
      "text/html": [
       "<div>\n",
       "<style scoped>\n",
       "    .dataframe tbody tr th:only-of-type {\n",
       "        vertical-align: middle;\n",
       "    }\n",
       "\n",
       "    .dataframe tbody tr th {\n",
       "        vertical-align: top;\n",
       "    }\n",
       "\n",
       "    .dataframe thead th {\n",
       "        text-align: right;\n",
       "    }\n",
       "</style>\n",
       "<table border=\"1\" class=\"dataframe\">\n",
       "  <thead>\n",
       "    <tr style=\"text-align: right;\">\n",
       "      <th></th>\n",
       "      <th>scale</th>\n",
       "      <th>ver</th>\n",
       "      <th>net</th>\n",
       "      <th>index</th>\n",
       "      <th>wflow</th>\n",
       "      <th>oom</th>\n",
       "      <th>opt_time</th>\n",
       "      <th>wall_time</th>\n",
       "      <th>cpu_utilization</th>\n",
       "      <th>mem_usage</th>\n",
       "      <th>net_usage</th>\n",
       "    </tr>\n",
       "  </thead>\n",
       "  <tbody>\n",
       "    <tr>\n",
       "      <th>0</th>\n",
       "      <td>1</td>\n",
       "      <td>p2d2</td>\n",
       "      <td>lan</td>\n",
       "      <td>False</td>\n",
       "      <td>agg.py</td>\n",
       "      <td>False</td>\n",
       "      <td>0.154965</td>\n",
       "      <td>12.192408</td>\n",
       "      <td>0</td>\n",
       "      <td>359</td>\n",
       "      <td>0</td>\n",
       "    </tr>\n",
       "    <tr>\n",
       "      <th>1</th>\n",
       "      <td>1</td>\n",
       "      <td>p2d2</td>\n",
       "      <td>lan</td>\n",
       "      <td>False</td>\n",
       "      <td>join.py</td>\n",
       "      <td>False</td>\n",
       "      <td>0.000971</td>\n",
       "      <td>16.101828</td>\n",
       "      <td>0</td>\n",
       "      <td>2752</td>\n",
       "      <td>0</td>\n",
       "    </tr>\n",
       "    <tr>\n",
       "      <th>2</th>\n",
       "      <td>1</td>\n",
       "      <td>p2d2</td>\n",
       "      <td>lan</td>\n",
       "      <td>False</td>\n",
       "      <td>proj.py</td>\n",
       "      <td>False</td>\n",
       "      <td>0.000810</td>\n",
       "      <td>8.963662</td>\n",
       "      <td>0</td>\n",
       "      <td>1775</td>\n",
       "      <td>0</td>\n",
       "    </tr>\n",
       "    <tr>\n",
       "      <th>3</th>\n",
       "      <td>1</td>\n",
       "      <td>p2d2</td>\n",
       "      <td>lan</td>\n",
       "      <td>False</td>\n",
       "      <td>sel.py</td>\n",
       "      <td>False</td>\n",
       "      <td>0.001291</td>\n",
       "      <td>48.018912</td>\n",
       "      <td>0</td>\n",
       "      <td>8031</td>\n",
       "      <td>0</td>\n",
       "    </tr>\n",
       "    <tr>\n",
       "      <th>4</th>\n",
       "      <td>1</td>\n",
       "      <td>p2d2</td>\n",
       "      <td>lan</td>\n",
       "      <td>True</td>\n",
       "      <td>agg.py</td>\n",
       "      <td>False</td>\n",
       "      <td>0.697751</td>\n",
       "      <td>794.595709</td>\n",
       "      <td>0</td>\n",
       "      <td>502</td>\n",
       "      <td>0</td>\n",
       "    </tr>\n",
       "    <tr>\n",
       "      <th>...</th>\n",
       "      <td>...</td>\n",
       "      <td>...</td>\n",
       "      <td>...</td>\n",
       "      <td>...</td>\n",
       "      <td>...</td>\n",
       "      <td>...</td>\n",
       "      <td>...</td>\n",
       "      <td>...</td>\n",
       "      <td>...</td>\n",
       "      <td>...</td>\n",
       "      <td>...</td>\n",
       "    </tr>\n",
       "    <tr>\n",
       "      <th>91</th>\n",
       "      <td>10</td>\n",
       "      <td>pandas</td>\n",
       "      <td>wan</td>\n",
       "      <td>False</td>\n",
       "      <td>sel.py</td>\n",
       "      <td>True</td>\n",
       "      <td>0.000000</td>\n",
       "      <td>0.000000</td>\n",
       "      <td>0</td>\n",
       "      <td>0</td>\n",
       "      <td>0</td>\n",
       "    </tr>\n",
       "    <tr>\n",
       "      <th>92</th>\n",
       "      <td>10</td>\n",
       "      <td>pandas</td>\n",
       "      <td>wan</td>\n",
       "      <td>True</td>\n",
       "      <td>agg.py</td>\n",
       "      <td>True</td>\n",
       "      <td>0.000000</td>\n",
       "      <td>0.000000</td>\n",
       "      <td>0</td>\n",
       "      <td>0</td>\n",
       "      <td>0</td>\n",
       "    </tr>\n",
       "    <tr>\n",
       "      <th>93</th>\n",
       "      <td>10</td>\n",
       "      <td>pandas</td>\n",
       "      <td>wan</td>\n",
       "      <td>True</td>\n",
       "      <td>join.py</td>\n",
       "      <td>False</td>\n",
       "      <td>0.024301</td>\n",
       "      <td>209.242556</td>\n",
       "      <td>0</td>\n",
       "      <td>13444</td>\n",
       "      <td>0</td>\n",
       "    </tr>\n",
       "    <tr>\n",
       "      <th>94</th>\n",
       "      <td>10</td>\n",
       "      <td>pandas</td>\n",
       "      <td>wan</td>\n",
       "      <td>True</td>\n",
       "      <td>proj.py</td>\n",
       "      <td>True</td>\n",
       "      <td>0.000000</td>\n",
       "      <td>0.000000</td>\n",
       "      <td>0</td>\n",
       "      <td>0</td>\n",
       "      <td>0</td>\n",
       "    </tr>\n",
       "    <tr>\n",
       "      <th>95</th>\n",
       "      <td>10</td>\n",
       "      <td>pandas</td>\n",
       "      <td>wan</td>\n",
       "      <td>True</td>\n",
       "      <td>sel.py</td>\n",
       "      <td>True</td>\n",
       "      <td>0.000000</td>\n",
       "      <td>0.000000</td>\n",
       "      <td>0</td>\n",
       "      <td>0</td>\n",
       "      <td>0</td>\n",
       "    </tr>\n",
       "  </tbody>\n",
       "</table>\n",
       "<p>96 rows × 11 columns</p>\n",
       "</div>"
      ],
      "text/plain": [
       "   scale     ver  net  index    wflow    oom  opt_time   wall_time  \\\n",
       "0      1    p2d2  lan  False   agg.py  False  0.154965   12.192408   \n",
       "1      1    p2d2  lan  False  join.py  False  0.000971   16.101828   \n",
       "2      1    p2d2  lan  False  proj.py  False  0.000810    8.963662   \n",
       "3      1    p2d2  lan  False   sel.py  False  0.001291   48.018912   \n",
       "4      1    p2d2  lan   True   agg.py  False  0.697751  794.595709   \n",
       "..   ...     ...  ...    ...      ...    ...       ...         ...   \n",
       "91    10  pandas  wan  False   sel.py   True  0.000000    0.000000   \n",
       "92    10  pandas  wan   True   agg.py   True  0.000000    0.000000   \n",
       "93    10  pandas  wan   True  join.py  False  0.024301  209.242556   \n",
       "94    10  pandas  wan   True  proj.py   True  0.000000    0.000000   \n",
       "95    10  pandas  wan   True   sel.py   True  0.000000    0.000000   \n",
       "\n",
       "    cpu_utilization  mem_usage  net_usage  \n",
       "0                 0        359          0  \n",
       "1                 0       2752          0  \n",
       "2                 0       1775          0  \n",
       "3                 0       8031          0  \n",
       "4                 0        502          0  \n",
       "..              ...        ...        ...  \n",
       "91                0          0          0  \n",
       "92                0          0          0  \n",
       "93                0      13444          0  \n",
       "94                0          0          0  \n",
       "95                0          0          0  \n",
       "\n",
       "[96 rows x 11 columns]"
      ]
     },
     "execution_count": 3,
     "metadata": {},
     "output_type": "execute_result"
    }
   ],
   "source": [
    "df_mean=df.drop('rep', axis=1).groupby(factors).mean().reset_index()\n",
    "df_mean"
   ]
  },
  {
   "cell_type": "code",
   "execution_count": 4,
   "metadata": {},
   "outputs": [
    {
     "data": {
      "text/html": [
       "<div>\n",
       "<style scoped>\n",
       "    .dataframe tbody tr th:only-of-type {\n",
       "        vertical-align: middle;\n",
       "    }\n",
       "\n",
       "    .dataframe tbody tr th {\n",
       "        vertical-align: top;\n",
       "    }\n",
       "\n",
       "    .dataframe thead tr th {\n",
       "        text-align: left;\n",
       "    }\n",
       "\n",
       "    .dataframe thead tr:last-of-type th {\n",
       "        text-align: right;\n",
       "    }\n",
       "</style>\n",
       "<table border=\"1\" class=\"dataframe\">\n",
       "  <thead>\n",
       "    <tr>\n",
       "      <th></th>\n",
       "      <th></th>\n",
       "      <th></th>\n",
       "      <th></th>\n",
       "      <th colspan=\"2\" halign=\"left\">wall_time</th>\n",
       "      <th colspan=\"2\" halign=\"left\">mem_usage</th>\n",
       "      <th colspan=\"2\" halign=\"left\">net_usage</th>\n",
       "      <th>diff_wall_time</th>\n",
       "      <th>diff_mem_usage</th>\n",
       "      <th>diff_net_usage</th>\n",
       "    </tr>\n",
       "    <tr>\n",
       "      <th></th>\n",
       "      <th></th>\n",
       "      <th></th>\n",
       "      <th>ver</th>\n",
       "      <th>p2d2</th>\n",
       "      <th>pandas</th>\n",
       "      <th>p2d2</th>\n",
       "      <th>pandas</th>\n",
       "      <th>p2d2</th>\n",
       "      <th>pandas</th>\n",
       "      <th></th>\n",
       "      <th></th>\n",
       "      <th></th>\n",
       "    </tr>\n",
       "    <tr>\n",
       "      <th>scale</th>\n",
       "      <th>net</th>\n",
       "      <th>index</th>\n",
       "      <th>wflow</th>\n",
       "      <th></th>\n",
       "      <th></th>\n",
       "      <th></th>\n",
       "      <th></th>\n",
       "      <th></th>\n",
       "      <th></th>\n",
       "      <th></th>\n",
       "      <th></th>\n",
       "      <th></th>\n",
       "    </tr>\n",
       "  </thead>\n",
       "  <tbody>\n",
       "    <tr>\n",
       "      <th rowspan=\"2\" valign=\"top\">1</th>\n",
       "      <th rowspan=\"2\" valign=\"top\">lan</th>\n",
       "      <th rowspan=\"2\" valign=\"top\">False</th>\n",
       "      <th>agg.py</th>\n",
       "      <td>12.192408</td>\n",
       "      <td>229.607788</td>\n",
       "      <td>359.0</td>\n",
       "      <td>9132.0</td>\n",
       "      <td>0.0</td>\n",
       "      <td>0.0</td>\n",
       "      <td>217.415381</td>\n",
       "      <td>8773.0</td>\n",
       "      <td>0.0</td>\n",
       "    </tr>\n",
       "    <tr>\n",
       "      <th>join.py</th>\n",
       "      <td>16.101828</td>\n",
       "      <td>15.117945</td>\n",
       "      <td>2752.0</td>\n",
       "      <td>1414.0</td>\n",
       "      <td>0.0</td>\n",
       "      <td>0.0</td>\n",
       "      <td>-0.983883</td>\n",
       "      <td>-1338.0</td>\n",
       "      <td>0.0</td>\n",
       "    </tr>\n",
       "  </tbody>\n",
       "</table>\n",
       "</div>"
      ],
      "text/plain": [
       "                         wall_time             mem_usage         net_usage  \\\n",
       "ver                           p2d2      pandas      p2d2  pandas      p2d2   \n",
       "scale net index wflow                                                        \n",
       "1     lan False agg.py   12.192408  229.607788     359.0  9132.0       0.0   \n",
       "                join.py  16.101828   15.117945    2752.0  1414.0       0.0   \n",
       "\n",
       "                               diff_wall_time diff_mem_usage diff_net_usage  \n",
       "ver                     pandas                                               \n",
       "scale net index wflow                                                        \n",
       "1     lan False agg.py     0.0     217.415381         8773.0            0.0  \n",
       "                join.py    0.0      -0.983883        -1338.0            0.0  "
      ]
     },
     "execution_count": 4,
     "metadata": {},
     "output_type": "execute_result"
    }
   ],
   "source": [
    "#calculate profit\n",
    "df_diff=df_mean.pivot(index=['scale','net','index','wflow'],columns='ver', values=['wall_time','mem_usage', 'net_usage'])\n",
    "for var in df_diff.columns.levels[0]:\n",
    "    df_diff['diff_'+var]=df_diff[var]['pandas']-df_diff[var]['p2d2']\n",
    "df_diff.head(2)"
   ]
  },
  {
   "cell_type": "code",
   "execution_count": 5,
   "metadata": {},
   "outputs": [
    {
     "data": {
      "text/html": [
       "<div>\n",
       "<style scoped>\n",
       "    .dataframe tbody tr th:only-of-type {\n",
       "        vertical-align: middle;\n",
       "    }\n",
       "\n",
       "    .dataframe tbody tr th {\n",
       "        vertical-align: top;\n",
       "    }\n",
       "\n",
       "    .dataframe thead th {\n",
       "        text-align: right;\n",
       "    }\n",
       "</style>\n",
       "<table border=\"1\" class=\"dataframe\">\n",
       "  <thead>\n",
       "    <tr style=\"text-align: right;\">\n",
       "      <th></th>\n",
       "      <th>scale</th>\n",
       "      <th>net</th>\n",
       "      <th>index</th>\n",
       "      <th>wflow</th>\n",
       "      <th>diff_wall_time</th>\n",
       "      <th>diff_mem_usage</th>\n",
       "      <th>diff_net_usage</th>\n",
       "    </tr>\n",
       "  </thead>\n",
       "  <tbody>\n",
       "    <tr>\n",
       "      <th>0</th>\n",
       "      <td>1</td>\n",
       "      <td>lan</td>\n",
       "      <td>False</td>\n",
       "      <td>agg.py</td>\n",
       "      <td>217.415381</td>\n",
       "      <td>8773.0</td>\n",
       "      <td>0.0</td>\n",
       "    </tr>\n",
       "    <tr>\n",
       "      <th>1</th>\n",
       "      <td>1</td>\n",
       "      <td>lan</td>\n",
       "      <td>False</td>\n",
       "      <td>join.py</td>\n",
       "      <td>-0.983883</td>\n",
       "      <td>-1338.0</td>\n",
       "      <td>0.0</td>\n",
       "    </tr>\n",
       "  </tbody>\n",
       "</table>\n",
       "</div>"
      ],
      "text/plain": [
       "  scale  net  index    wflow  diff_wall_time  diff_mem_usage  diff_net_usage\n",
       "0     1  lan  False   agg.py      217.415381          8773.0             0.0\n",
       "1     1  lan  False  join.py       -0.983883         -1338.0             0.0"
      ]
     },
     "execution_count": 5,
     "metadata": {},
     "output_type": "execute_result"
    }
   ],
   "source": [
    "df_diff=df_diff.reset_index().drop(['wall_time','mem_usage','net_usage'], axis='columns', level=0)\n",
    "df_diff=df_diff.droplevel(level=1, axis='columns')\n",
    "df_diff.head(2)"
   ]
  },
  {
   "cell_type": "code",
   "execution_count": 6,
   "metadata": {},
   "outputs": [],
   "source": [
    "# overhead already in df\n",
    "#df_diff['overhead'] = np.where(df_diff['opt'] == 'excl',\n",
    "#                                           df_diff['diff_wall_time'] * -1,\n",
    "#                                           df_diff['diff_wall_time'])\n",
    "\n",
    "#overhead = df_diff.groupby(['scale','net','index']).agg(\n",
    "#    {'overhead':np.sum})['overhead']"
   ]
  },
  {
   "cell_type": "markdown",
   "metadata": {},
   "source": [
    "# Microbenchmarks"
   ]
  },
  {
   "cell_type": "code",
   "execution_count": 7,
   "metadata": {},
   "outputs": [],
   "source": [
    "palette ={\"pandas\": \"C3\", \"p2d2\": \"C2\"}"
   ]
  },
  {
   "cell_type": "code",
   "execution_count": 8,
   "metadata": {},
   "outputs": [
    {
     "data": {
      "text/plain": [
       "<seaborn.axisgrid.FacetGrid at 0x1c77a75ab80>"
      ]
     },
     "execution_count": 8,
     "metadata": {},
     "output_type": "execute_result"
    },
    {
     "data": {
      "image/png": "[encoded data removed]",
      "text/plain": [
       "<Figure size 939.6x216 with 4 Axes>"
      ]
     },
     "metadata": {},
     "output_type": "display_data"
    }
   ],
   "source": [
    "#logarithmic scale TODO\n",
    "locnoind = df.query('index==False and net==\"loc\"')\n",
    "g = sns.FacetGrid(locnoind, col=\"wflow\")\n",
    "g.map_dataframe(sns.barplot, x=\"scale\", y='wall_time', hue='ver', palette=palette)\n",
    "g.set_axis_labels(\"Scale\", \"Wall time\")\n",
    "g.add_legend()"
   ]
  },
  {
   "cell_type": "markdown",
   "metadata": {},
   "source": [
    "## Operations that ran out of memory:"
   ]
  },
  {
   "cell_type": "code",
   "execution_count": 9,
   "metadata": {},
   "outputs": [
    {
     "data": {
      "text/html": [
       "<div>\n",
       "<style scoped>\n",
       "    .dataframe tbody tr th:only-of-type {\n",
       "        vertical-align: middle;\n",
       "    }\n",
       "\n",
       "    .dataframe tbody tr th {\n",
       "        vertical-align: top;\n",
       "    }\n",
       "\n",
       "    .dataframe thead th {\n",
       "        text-align: right;\n",
       "    }\n",
       "</style>\n",
       "<table border=\"1\" class=\"dataframe\">\n",
       "  <thead>\n",
       "    <tr style=\"text-align: right;\">\n",
       "      <th></th>\n",
       "      <th>ver</th>\n",
       "      <th>wflow</th>\n",
       "      <th>scale</th>\n",
       "    </tr>\n",
       "  </thead>\n",
       "  <tbody>\n",
       "    <tr>\n",
       "      <th>92</th>\n",
       "      <td>p2d2</td>\n",
       "      <td>join.py</td>\n",
       "      <td>10</td>\n",
       "    </tr>\n",
       "    <tr>\n",
       "      <th>188</th>\n",
       "      <td>p2d2</td>\n",
       "      <td>sel.py</td>\n",
       "      <td>10</td>\n",
       "    </tr>\n",
       "    <tr>\n",
       "      <th>46</th>\n",
       "      <td>pandas</td>\n",
       "      <td>agg.py</td>\n",
       "      <td>10</td>\n",
       "    </tr>\n",
       "    <tr>\n",
       "      <th>142</th>\n",
       "      <td>pandas</td>\n",
       "      <td>proj.py</td>\n",
       "      <td>10</td>\n",
       "    </tr>\n",
       "    <tr>\n",
       "      <th>190</th>\n",
       "      <td>pandas</td>\n",
       "      <td>sel.py</td>\n",
       "      <td>10</td>\n",
       "    </tr>\n",
       "  </tbody>\n",
       "</table>\n",
       "</div>"
      ],
      "text/plain": [
       "        ver    wflow scale\n",
       "92     p2d2  join.py    10\n",
       "188    p2d2   sel.py    10\n",
       "46   pandas   agg.py    10\n",
       "142  pandas  proj.py    10\n",
       "190  pandas   sel.py    10"
      ]
     },
     "execution_count": 9,
     "metadata": {},
     "output_type": "execute_result"
    }
   ],
   "source": [
    "locnoind.query('rep==0 and oom==True')[['ver','wflow','scale']].sort_values(by=['ver'])"
   ]
  },
  {
   "cell_type": "code",
   "execution_count": 10,
   "metadata": {},
   "outputs": [
    {
     "data": {
      "text/plain": [
       "<seaborn.axisgrid.FacetGrid at 0x1c77f3f9520>"
      ]
     },
     "execution_count": 10,
     "metadata": {},
     "output_type": "execute_result"
    },
    {
     "data": {
      "image/png": "[encoded data removed]",
      "text/plain": [
       "<Figure size 990.35x216 with 4 Axes>"
      ]
     },
     "metadata": {},
     "output_type": "display_data"
    }
   ],
   "source": [
    "os_memory_overhead = 380\n",
    "vagrant_maxmemory = 25576\n",
    "vagrant_available = vagrant_maxmemory - os_memory_overhead\n",
    "g = sns.FacetGrid(locnoind, col=\"wflow\")\n",
    "g.map_dataframe(sns.barplot, x=\"scale\", y='mem_usage', hue='ver', palette=palette)\n",
    "g.map(plt.axhline, y=vagrant_available, color='red', label=f'available memory')\n",
    "g.set_axis_labels(\"Scale\", \"Memory Usage\")\n",
    "g.add_legend()"
   ]
  },
  {
   "cell_type": "markdown",
   "metadata": {},
   "source": [
    "## Question time\n",
    "\n",
    "- Should I say how I measured the memory usage?\n",
    "- Is my method for measuring memory usage good enough?\n",
    "- Is it OK to intentionally let pandas run out of memory (e.g. providing a limited amount of memory), so that the reader sees it's not just about optimizing, but also enabling"
   ]
  },
  {
   "cell_type": "code",
   "execution_count": 11,
   "metadata": {},
   "outputs": [
    {
     "data": {
      "text/plain": [
       "<seaborn.axisgrid.FacetGrid at 0x1c7002926d0>"
      ]
     },
     "execution_count": 11,
     "metadata": {},
     "output_type": "execute_result"
    },
    {
     "data": {
      "image/png": "[encoded data removed]",
      "text/plain": [
       "<Figure size 939.6x216 with 4 Axes>"
      ]
     },
     "metadata": {},
     "output_type": "display_data"
    }
   ],
   "source": [
    "#logarithmic scale TODO\n",
    "locnoind = df.query('index==True and net==\"loc\"')\n",
    "g = sns.FacetGrid(locnoind, col=\"wflow\")\n",
    "g.map_dataframe(sns.barplot, x=\"scale\", y='wall_time', hue='ver', palette=palette)\n",
    "g.set_axis_labels(\"Scale\", \"Wall time\")\n",
    "g.add_legend()"
   ]
  },
  {
   "cell_type": "code",
   "execution_count": 12,
   "metadata": {},
   "outputs": [
    {
     "data": {
      "text/plain": [
       "<seaborn.axisgrid.FacetGrid at 0x1c7003a26a0>"
      ]
     },
     "execution_count": 12,
     "metadata": {},
     "output_type": "execute_result"
    },
    {
     "data": {
      "image/png": "[encoded data removed]",
      "text/plain": [
       "<Figure size 723.6x432 with 6 Axes>"
      ]
     },
     "metadata": {},
     "output_type": "display_data"
    }
   ],
   "source": [
    "#logarithmic scale TODO\n",
    "g = sns.FacetGrid(df, col=\"net\",  row=\"index\")\n",
    "g.map_dataframe(sns.barplot, x=\"scale\", y='wall_time', hue='ver')\n",
    "g.set_axis_labels(\"Scale\", \"Wall time\")\n",
    "g.add_legend()"
   ]
  },
  {
   "cell_type": "code",
   "execution_count": 13,
   "metadata": {},
   "outputs": [
    {
     "ename": "NameError",
     "evalue": "name 'overhead' is not defined",
     "output_type": "error",
     "traceback": [
      "\u001b[1;31m---------------------------------------------------------------------------\u001b[0m",
      "\u001b[1;31mNameError\u001b[0m                                 Traceback (most recent call last)",
      "\u001b[1;32m<ipython-input-13-363c00b1b0d6>\u001b[0m in \u001b[0;36m<module>\u001b[1;34m\u001b[0m\n\u001b[0;32m      2\u001b[0m \u001b[0mg\u001b[0m \u001b[1;33m=\u001b[0m \u001b[0msns\u001b[0m\u001b[1;33m.\u001b[0m\u001b[0mFacetGrid\u001b[0m\u001b[1;33m(\u001b[0m\u001b[0mdf_diff\u001b[0m\u001b[1;33m,\u001b[0m \u001b[0mcol\u001b[0m\u001b[1;33m=\u001b[0m\u001b[1;34m\"net\"\u001b[0m\u001b[1;33m,\u001b[0m  \u001b[0mrow\u001b[0m\u001b[1;33m=\u001b[0m\u001b[1;34m\"index\"\u001b[0m\u001b[1;33m)\u001b[0m\u001b[1;33m\u001b[0m\u001b[1;33m\u001b[0m\u001b[0m\n\u001b[0;32m      3\u001b[0m \u001b[0mg\u001b[0m\u001b[1;33m.\u001b[0m\u001b[0mmap_dataframe\u001b[0m\u001b[1;33m(\u001b[0m\u001b[0msns\u001b[0m\u001b[1;33m.\u001b[0m\u001b[0mbarplot\u001b[0m\u001b[1;33m,\u001b[0m \u001b[0mx\u001b[0m\u001b[1;33m=\u001b[0m\u001b[1;34m\"scale\"\u001b[0m\u001b[1;33m,\u001b[0m \u001b[0my\u001b[0m\u001b[1;33m=\u001b[0m\u001b[1;34m'diff_wall_time'\u001b[0m\u001b[1;33m)\u001b[0m\u001b[1;33m\u001b[0m\u001b[1;33m\u001b[0m\u001b[0m\n\u001b[1;32m----> 4\u001b[1;33m \u001b[0mg\u001b[0m\u001b[1;33m.\u001b[0m\u001b[0mmap\u001b[0m\u001b[1;33m(\u001b[0m\u001b[0mplt\u001b[0m\u001b[1;33m.\u001b[0m\u001b[0maxhline\u001b[0m\u001b[1;33m,\u001b[0m \u001b[0my\u001b[0m\u001b[1;33m=\u001b[0m\u001b[0moverhead\u001b[0m\u001b[1;33m.\u001b[0m\u001b[0mmean\u001b[0m\u001b[1;33m(\u001b[0m\u001b[1;33m)\u001b[0m\u001b[1;33m,\u001b[0m \u001b[0mcolor\u001b[0m\u001b[1;33m=\u001b[0m\u001b[1;34m'red'\u001b[0m\u001b[1;33m,\u001b[0m \u001b[0mlabel\u001b[0m\u001b[1;33m=\u001b[0m\u001b[1;34mf'E(overhead)={overhead.mean():.2f}'\u001b[0m\u001b[1;33m)\u001b[0m\u001b[1;33m\u001b[0m\u001b[1;33m\u001b[0m\u001b[0m\n\u001b[0m\u001b[0;32m      5\u001b[0m \u001b[0mg\u001b[0m\u001b[1;33m.\u001b[0m\u001b[0mset_axis_labels\u001b[0m\u001b[1;33m(\u001b[0m\u001b[1;34m\"Scale\"\u001b[0m\u001b[1;33m,\u001b[0m \u001b[1;34m\"Gain\"\u001b[0m\u001b[1;33m)\u001b[0m\u001b[1;33m\u001b[0m\u001b[1;33m\u001b[0m\u001b[0m\n\u001b[0;32m      6\u001b[0m \u001b[0mplt\u001b[0m\u001b[1;33m.\u001b[0m\u001b[0mlegend\u001b[0m\u001b[1;33m(\u001b[0m\u001b[1;33m)\u001b[0m\u001b[1;33m\u001b[0m\u001b[1;33m\u001b[0m\u001b[0m\n",
      "\u001b[1;31mNameError\u001b[0m: name 'overhead' is not defined"
     ]
    },
    {
     "data": {
      "image/png": "[encoded data removed]",
      "text/plain": [
       "<Figure size 648x432 with 6 Axes>"
      ]
     },
     "metadata": {},
     "output_type": "display_data"
    }
   ],
   "source": [
    "#speedup (different story)\n",
    "g = sns.FacetGrid(df_diff, col=\"net\",  row=\"index\")\n",
    "g.map_dataframe(sns.barplot, x=\"scale\", y='diff_wall_time')\n",
    "g.map(plt.axhline, y=overhead.mean(), color='red', label=f'E(overhead)={overhead.mean():.2f}')\n",
    "g.set_axis_labels(\"Scale\", \"Gain\")\n",
    "plt.legend()"
   ]
  },
  {
   "cell_type": "code",
   "execution_count": null,
   "metadata": {},
   "outputs": [],
   "source": [
    "#add overhead on the x-axis\n",
    "df_diff_overhead=df_diff[df_diff['scale']=='1'].copy()\n",
    "df_diff_overhead['scale']='overhead'\n",
    "df_diff_overhead['diff_wall_time']=overhead.mean()\n",
    "df_overhead_x = pandas.concat([df_diff, df_diff_overhead])"
   ]
  },
  {
   "cell_type": "code",
   "execution_count": null,
   "metadata": {},
   "outputs": [],
   "source": [
    "#df_overhead_x=df_overhead_x.sort_values(by=['diff_wall_time'])\n",
    "g = sns.FacetGrid(df_overhead_x, col=\"net\",  row=\"index\")\n",
    "g.map_dataframe(sns.barplot, x=\"scale\", y='diff_wall_time')\n",
    "g.set_axis_labels(\"Scale & Overhead\", \"Gain\")"
   ]
  },
  {
   "cell_type": "code",
   "execution_count": null,
   "metadata": {},
   "outputs": [],
   "source": [
    "f, ax = plt.subplots(figsize=(16, 8))\n",
    "lineplot=sns.lineplot(data=df, x=\"scale\", y=\"wall_time\", hue='vernet', style='index', err_style='bars')"
   ]
  },
  {
   "cell_type": "code",
   "execution_count": null,
   "metadata": {},
   "outputs": [],
   "source": [
    "g = sns.FacetGrid(df, col=\"net\",  row=\"index\")\n",
    "g.map_dataframe(sns.lineplot, x=\"scale\", y='wall_time', hue='ver')\n",
    "g.set_axis_labels(\"Scale\", \"Wall time\")"
   ]
  },
  {
   "cell_type": "code",
   "execution_count": null,
   "metadata": {},
   "outputs": [],
   "source": [
    "#better with the line\n",
    "g = sns.FacetGrid(df_diff, col=\"net\",  row=\"index\")\n",
    "g.map_dataframe(sns.lineplot, x=\"scale\", y='diff_wall_time')\n",
    "g.map(plt.axhline, y=overhead.mean(), color='red', label='overhead')\n",
    "g.set_axis_labels(\"Scale\", \"Wall time\")\n",
    "plt.legend()"
   ]
  },
  {
   "cell_type": "code",
   "execution_count": null,
   "metadata": {},
   "outputs": [],
   "source": [
    "\n",
    "#fig = lineplot.get_figure()\n",
    "#fig.savefig('all.png') "
   ]
  }
 ],
 "metadata": {
  "kernelspec": {
   "display_name": "Python 3",
   "language": "python",
   "name": "python3"
  },
  "language_info": {
   "codemirror_mode": {
    "name": "ipython",
    "version": 3
   },
   "file_extension": ".py",
   "mimetype": "text/x-python",
   "name": "python",
   "nbconvert_exporter": "python",
   "pygments_lexer": "ipython3",
   "version": "3.8.5"
  }
 },
 "nbformat": 4,
 "nbformat_minor": 5
}
