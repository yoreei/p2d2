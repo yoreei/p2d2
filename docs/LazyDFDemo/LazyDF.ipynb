{
 "cells": [
  {
   "cell_type": "code",
   "execution_count": 1,
   "metadata": {},
   "outputs": [],
   "source": [
    "# %load_ext autoreload\n",
    "# %autoreload on"
   ]
  },
  {
   "cell_type": "code",
   "execution_count": 2,
   "metadata": {},
   "outputs": [],
   "source": [
    "# import p2d2 as pandas\n",
    "import pandas\n",
    "import functools\n",
    "import typing\n",
    "import types\n",
    "from types import SimpleNamespace\n",
    "import json\n",
    "\n",
    "import LazyDFDemo.ir2sql as ir2sql\n",
    "import LazyDFDemo.cost_optimizer as cost_optimizer\n",
    "\n",
    "pd = SimpleNamespace()\n",
    "def read_sql(sql):\n",
    "    return LazyDataFrame('sql', sql)\n",
    "\n",
    "pd.read_sql = read_sql\n",
    "\n",
    "class Supported():\n",
    "    def __init__(self, func, lazydf, possible_mappings):\n",
    "        self.func = func\n",
    "        self.lazydf=lazydf\n",
    "        self.possible_mappings = possible_mappings\n",
    "        \n",
    "    def __call__(self, *args, **kwargs):\n",
    "        #print('checking args')\n",
    "        call_argtypes = list(map(lambda x:type(x).__name__, args))\n",
    "        for mapping in self.possible_mappings['mappings']:\n",
    "            #print(f\"{mapping['argtypes']=}\")\n",
    "            #print(f\"{call_argtypes=}\")\n",
    "            if mapping['argtypes'] == call_argtypes:\n",
    "                ir_func = mapping['maps'] # 'PROJECTION'\n",
    "                return LazyDataFrame(self.lazydf.backend,\n",
    "                                    getattr(self.lazydf.ir2backend, ir_func)(*args, self.lazydf.declarative),\n",
    "                                    self.lazydf.df)\n",
    "        print('should not happen')\n",
    "        \n",
    "class Unsupported():\n",
    "    def __init__(self, df, attr):\n",
    "        self.attr=attr\n",
    "    def __call__(self, *args, **kwargs):\n",
    "        df = pandas.DataFrame({'l_lineitem':[1,2,3,4,5], 'l_cost':[1,2,3,4,5]})\n",
    "        return LazyDataFrame('sql', '', df = df)\n",
    "    \n",
    "class LazyDataFrame(SimpleNamespace):\n",
    "    def __init__(self, backend, declarative = '', df = None):\n",
    "        self.backend = backend\n",
    "        self.declarative = declarative\n",
    "        self.df = pandas.DataFrame()\n",
    "        if backend == 'sql':\n",
    "            self.ir2backend = ir2sql\n",
    "        with open('LazyDFDemo/pandas2ir.json') as fp:\n",
    "            self.frontend2ir = json.load(fp)\n",
    "        print('created a lazy data frame')\n",
    "            \n",
    "    def __getattr__(self, attr):\n",
    "        #print('help')\n",
    "        if attr in self.frontend2ir:\n",
    "            #print('optimizing')\n",
    "            return Supported(attr, self, self.frontend2ir[attr])\n",
    "        elif hasattr(self.df, attr) and type(getattr(self.df, attr)) == types.MethodType:\n",
    "            print(f'Unsupported operation detected: {attr}. Evaluated declarative backend')\n",
    "            print(self.ir2backend.commit(self.declarative))\n",
    "            return Unsupported(self.df, attr)\n",
    "        else:\n",
    "            print(f'Unsupported attribute detected: {attr}. Evaluated declarative backend')\n",
    "            print(self.ir2backend.commit(self.declarative))\n",
    "            return getattr(self.df, attr)\n",
    "        print('should not happen')\n",
    "        \n",
    "    def __getitem__(self, getitem):\n",
    "        acallable = self.__getattr__('__getitem__')\n",
    "        return acallable(getitem)\n",
    "\n"
   ]
  },
  {
   "cell_type": "code",
   "execution_count": 3,
   "metadata": {},
   "outputs": [
    {
     "name": "stdout",
     "output_type": "stream",
     "text": [
      "created a lazy data frame\n"
     ]
    }
   ],
   "source": [
    "df = pd.read_sql('SELECT * FROM mytable')"
   ]
  },
  {
   "cell_type": "code",
   "execution_count": 4,
   "metadata": {},
   "outputs": [
    {
     "name": "stdout",
     "output_type": "stream",
     "text": [
      "created a lazy data frame\n"
     ]
    }
   ],
   "source": [
    "df = df.head(5)"
   ]
  },
  {
   "cell_type": "code",
   "execution_count": 5,
   "metadata": {},
   "outputs": [
    {
     "name": "stdout",
     "output_type": "stream",
     "text": [
      "created a lazy data frame\n"
     ]
    }
   ],
   "source": [
    "df = df[['l_lineitem', 'l_cost']]"
   ]
  },
  {
   "cell_type": "code",
   "execution_count": 6,
   "metadata": {},
   "outputs": [
    {
     "data": {
      "text/plain": [
       "'SELECT l_lineitem, l_cost FROM (SELECT * FROM (SELECT * FROM mytable) AS e18c25cd-a2aa-11eb-a910-a0afbd9715b3 LIMIT 5) AS e18e70a3-a2aa-11eb-83a0-a0afbd9715b3'"
      ]
     },
     "execution_count": 6,
     "metadata": {},
     "output_type": "execute_result"
    }
   ],
   "source": [
    "df.declarative"
   ]
  },
  {
   "cell_type": "code",
   "execution_count": 7,
   "metadata": {},
   "outputs": [
    {
     "name": "stdout",
     "output_type": "stream",
     "text": [
      "Unsupported attribute detected: dtypes. Evaluated declarative backend\n",
      "SELECT l_lineitem, l_cost FROM (SELECT * FROM (SELECT * FROM mytable) AS e18c25cd-a2aa-11eb-a910-a0afbd9715b3 LIMIT 5) AS e18e70a3-a2aa-11eb-83a0-a0afbd9715b3;\n"
     ]
    },
    {
     "data": {
      "text/plain": [
       "Series([], dtype: object)"
      ]
     },
     "execution_count": 7,
     "metadata": {},
     "output_type": "execute_result"
    }
   ],
   "source": [
    "# not in IR mapping\n",
    "df.dtypes"
   ]
  },
  {
   "cell_type": "code",
   "execution_count": 8,
   "metadata": {},
   "outputs": [
    {
     "name": "stdout",
     "output_type": "stream",
     "text": [
      "Unsupported operation detected: fillna. Evaluated declarative backend\n",
      "SELECT l_lineitem, l_cost FROM (SELECT * FROM (SELECT * FROM mytable) AS e18c25cd-a2aa-11eb-a910-a0afbd9715b3 LIMIT 5) AS e18e70a3-a2aa-11eb-83a0-a0afbd9715b3;\n",
      "created a lazy data frame\n"
     ]
    }
   ],
   "source": [
    "# not in IR mapping\n",
    "dfunsupp = df.fillna(0)"
   ]
  },
  {
   "cell_type": "markdown",
   "metadata": {},
   "source": [
    "DF is still a lazy data frame after an unsupported operation. This means we can still implement data push to RDBMS after an unsupported operation"
   ]
  },
  {
   "cell_type": "markdown",
   "metadata": {},
   "source": [
    "# Questions\n",
    "\n",
    "- What do I say if they ask me why I used static code analysis? I am myself not convinced anymore\n",
    "- What language __other than SQL__ can I look at in order to build a more generalized IR? Should I create my own __SQL spin-off__ in order to show the flexibility of the IR?\n",
    "\n"
   ]
  },
  {
   "cell_type": "code",
   "execution_count": 10,
   "metadata": {},
   "outputs": [
    {
     "ename": "NameError",
     "evalue": "name 'mapping' is not defined",
     "output_type": "error",
     "traceback": [
      "\u001b[1;31m---------------------------------------------------------------------------\u001b[0m",
      "\u001b[1;31mNameError\u001b[0m                                 Traceback (most recent call last)",
      "\u001b[1;32m<ipython-input-10-603b06cfaa85>\u001b[0m in \u001b[0;36m<module>\u001b[1;34m\u001b[0m\n\u001b[1;32m----> 1\u001b[1;33m \u001b[0mmapping\u001b[0m\u001b[1;33m\u001b[0m\u001b[1;33m\u001b[0m\u001b[0m\n\u001b[0m",
      "\u001b[1;31mNameError\u001b[0m: name 'mapping' is not defined"
     ]
    }
   ],
   "source": [
    "\n",
    "mapping"
   ]
  },
  {
   "cell_type": "code",
   "execution_count": null,
   "metadata": {},
   "outputs": [],
   "source": [
    "'__getitem__' in mapping"
   ]
  },
  {
   "cell_type": "code",
   "execution_count": null,
   "metadata": {},
   "outputs": [],
   "source": [
    "type(int).__dict__\n"
   ]
  },
  {
   "cell_type": "code",
   "execution_count": null,
   "metadata": {},
   "outputs": [],
   "source": [
    "int.__name__"
   ]
  },
  {
   "cell_type": "code",
   "execution_count": null,
   "metadata": {},
   "outputs": [],
   "source": []
  }
 ],
 "metadata": {
  "kernelspec": {
   "display_name": "Python 3",
   "language": "python",
   "name": "python3"
  },
  "language_info": {
   "codemirror_mode": {
    "name": "ipython",
    "version": 3
   },
   "file_extension": ".py",
   "mimetype": "text/x-python",
   "name": "python",
   "nbconvert_exporter": "python",
   "pygments_lexer": "ipython3",
   "version": "3.8.5"
  }
 },
 "nbformat": 4,
 "nbformat_minor": 4
}
