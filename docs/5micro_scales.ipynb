{
 "cells": [
  {
   "cell_type": "code",
   "execution_count": 1,
   "id": "cd839679-32ef-41e1-8200-4367218af581",
   "metadata": {
    "tags": []
   },
   "outputs": [],
   "source": [
    "from plotnine import *\n",
    "import pandas\n",
    "from solarized import *\n",
    "import tikzplotlib\n",
    "pandas.options.display.max_rows=10"
   ]
  },
  {
   "cell_type": "code",
   "execution_count": 2,
   "id": "a512fcc7-3f1b-4959-9f50-ee0ef98065ab",
   "metadata": {},
   "outputs": [],
   "source": [
    "# 1.{5end_to_end} tpch 1,2,3,4,5 with scale 1, 10\n",
    "# 2 {5module4} and 3. module4 | also {5module4mem} and {5module4net}\n",
    "# 3.{5tpchmodin} tpch 1, 4, 5 with modin on scale 10\n",
    "# 4.{5micro_scales} micros with scale 1, 10 | also {5micro_traffic}\n",
    "# 5.{5micro_net} micro join, selection with net=wan and scale 1"
   ]
  },
  {
   "cell_type": "code",
   "execution_count": 4,
   "id": "dffc8df8-011f-4224-ba70-8ed9fc14b693",
   "metadata": {},
   "outputs": [
    {
     "data": {
      "text/plain": [
       "Index(['bytes_memory', 'cpu_percent', 'bytes_sent', 'bytes_recv',\n",
       "       'snapshot_idx', 'proc_time', 'exitcode', 'db_time', 'shared_wall_time',\n",
       "       'wflow', 'optimizer', 'scale', 'net'],\n",
       "      dtype='object')"
      ]
     },
     "execution_count": 4,
     "metadata": {},
     "output_type": "execute_result"
    }
   ],
   "source": [
    "factors= ['wflow', 'optimizer', 'net', 'scale']\n",
    "df=pandas.read_feather('specific-reports/5micro_scales.feather')\n",
    "df.columns"
   ]
  },
  {
   "cell_type": "markdown",
   "id": "45169b47-cd90-426c-91c4-77e5a8fe8c21",
   "metadata": {},
   "source": [
    "# CHECK"
   ]
  },
  {
   "cell_type": "code",
   "execution_count": 5,
   "id": "fa93131e-558c-4a47-9c39-47705fb28ecf",
   "metadata": {},
   "outputs": [
    {
     "data": {
      "text/plain": [
       " 0     35673\n",
       "-15     4461\n",
       "Name: exitcode, dtype: int64"
      ]
     },
     "execution_count": 5,
     "metadata": {},
     "output_type": "execute_result"
    }
   ],
   "source": [
    "df['exitcode'].value_counts()"
   ]
  },
  {
   "cell_type": "code",
   "execution_count": 9,
   "id": "4cec32a3-f9c9-4805-adae-97dfa8bfadd9",
   "metadata": {},
   "outputs": [
    {
     "data": {
      "text/plain": [
       "array(['micro_join.py'], dtype=object)"
      ]
     },
     "execution_count": 9,
     "metadata": {},
     "output_type": "execute_result"
    }
   ],
   "source": [
    "df.query(\"exitcode != 0\")['wflow'].unique()"
   ]
  },
  {
   "cell_type": "code",
   "execution_count": 11,
   "id": "4366db62-fec3-4401-90d4-9543c28057ee",
   "metadata": {},
   "outputs": [
    {
     "data": {
      "text/plain": [
       "array(['optimized'], dtype=object)"
      ]
     },
     "execution_count": 11,
     "metadata": {},
     "output_type": "execute_result"
    }
   ],
   "source": [
    "df.query(\"exitcode != 0\")['optimizer'].unique()"
   ]
  },
  {
   "cell_type": "markdown",
   "id": "84b22d74-8322-4ddd-b7d2-bd89cb446b07",
   "metadata": {},
   "source": [
    "# PREPROCESS"
   ]
  },
  {
   "cell_type": "code",
   "execution_count": 12,
   "id": "85261451-ed99-4d60-bf15-78cc588a9941",
   "metadata": {},
   "outputs": [],
   "source": [
    "df['gb_net'] = df['bytes_recv']/10**9"
   ]
  },
  {
   "cell_type": "code",
   "execution_count": 13,
   "id": "203c3520-f38f-4f7b-9971-933e1c132dd4",
   "metadata": {},
   "outputs": [
    {
     "data": {
      "text/plain": [
       "Index(['wflow', 'optimizer', 'net', 'scale', 'bytes_memory', 'cpu_percent',\n",
       "       'bytes_sent', 'bytes_recv', 'snapshot_idx', 'proc_time', 'exitcode',\n",
       "       'db_time', 'shared_wall_time', 'gb_net'],\n",
       "      dtype='object')"
      ]
     },
     "execution_count": 13,
     "metadata": {},
     "output_type": "execute_result"
    }
   ],
   "source": [
    "overview = df.groupby(by=factors).first().reset_index()\n",
    "overview.columns"
   ]
  },
  {
   "cell_type": "code",
   "execution_count": null,
   "id": "dd322a33-6835-490b-95cf-f9a4f5c1c411",
   "metadata": {},
   "outputs": [],
   "source": [
    "plot_df = overview"
   ]
  },
  {
   "cell_type": "markdown",
   "id": "16cf6420-6e0f-4c89-99e1-1b3ea8ef4a32",
   "metadata": {},
   "source": [
    "# {5micro_scales}"
   ]
  },
  {
   "cell_type": "code",
   "execution_count": null,
   "id": "d40181a7-58a2-4854-aa60-42f47ae4f9c6",
   "metadata": {},
   "outputs": [],
   "source": [
    "plot = (\n",
    "        ggplot(plot_df, aes('wflow', y='shared_wall_time', fill='optimizer'))\n",
    "        + geom_col(width = 0.5, position = \"dodge\")\n",
    "        #+ scale_fill_manual(values=cdict) \n",
    "        + scale_y_sqrt()\n",
    "        + labs(fill=\"Optimization Method\")\n",
    "        + facet_wrap('~ scale', scales='free_y', nrow=1, dir='v')\n",
    "        + xlab(\"Query\")\n",
    "        + ylab(\"Time (in sec.)\")\n",
    "       # + theme(figure_size=(8, 2))\n",
    "               #subplots_adjust={'hspace': 1, 'wspace': 0.25})\n",
    "        + theme(figure_size=(8, 2), subplots_adjust={'wspace': 0.20})\n",
    "    )"
   ]
  },
  {
   "cell_type": "code",
   "execution_count": null,
   "id": "999a3404-236c-42ed-9b58-924719f30a09",
   "metadata": {},
   "outputs": [],
   "source": [
    "plot.save(\"specific-plots/5end_to_end.png\")\n",
    "matplot = plot.draw()\n",
    "tikzplotlib.save('specific-plots/5end_to_end.tikz', figure=matplot)\n",
    "display(plot)"
   ]
  },
  {
   "cell_type": "code",
   "execution_count": null,
   "id": "cf262840-18dc-4ae5-b6ab-466f96f68852",
   "metadata": {},
   "outputs": [],
   "source": []
  }
 ],
 "metadata": {
  "kernelspec": {
   "display_name": "Python 3",
   "language": "python",
   "name": "python3"
  },
  "language_info": {
   "codemirror_mode": {
    "name": "ipython",
    "version": 3
   },
   "file_extension": ".py",
   "mimetype": "text/x-python",
   "name": "python",
   "nbconvert_exporter": "python",
   "pygments_lexer": "ipython3",
   "version": "3.8.10"
  }
 },
 "nbformat": 4,
 "nbformat_minor": 5
}
