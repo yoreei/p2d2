{
 "cells": [
  {
   "cell_type": "code",
   "execution_count": 2,
   "id": "083ad03a",
   "metadata": {},
   "outputs": [],
   "source": [
    "import pandas\n",
    "\n",
    "# find max memory usage\n",
    "df=pandas.read_csv('reports/bench_report6Jul.csv')\n",
    "df['mem_usage']=df['mem_usage'].apply(lambda x: max(eval(x)))\n",
    "\n",
    "# convert to MB\n",
    "df['mem_usage']=df['mem_usage'].apply(lambda x: x//10**6)\n",
    "\n",
    "df.to_csv('reports/bench_report6Jul.csv.max', index=False)"
   ]
  },
  {
   "cell_type": "code",
   "execution_count": null,
   "id": "d08a5a49",
   "metadata": {},
   "outputs": [],
   "source": []
  }
 ],
 "metadata": {
  "kernelspec": {
   "display_name": "Python 3",
   "language": "python",
   "name": "python3"
  },
  "language_info": {
   "codemirror_mode": {
    "name": "ipython",
    "version": 3
   },
   "file_extension": ".py",
   "mimetype": "text/x-python",
   "name": "python",
   "nbconvert_exporter": "python",
   "pygments_lexer": "ipython3",
   "version": "3.8.10"
  }
 },
 "nbformat": 4,
 "nbformat_minor": 5
}
