{
 "cells": [
  {
   "cell_type": "code",
   "execution_count": 1,
   "id": "cd839679-32ef-41e1-8200-4367218af581",
   "metadata": {
    "tags": []
   },
   "outputs": [],
   "source": [
    "from plotnine import *\n",
    "import pandas\n",
    "from solarized import *\n",
    "import tikzplotlib\n",
    "pandas.options.display.max_rows=10"
   ]
  },
  {
   "cell_type": "code",
   "execution_count": 2,
   "id": "a512fcc7-3f1b-4959-9f50-ee0ef98065ab",
   "metadata": {},
   "outputs": [],
   "source": [
    "# 1.{5end_to_end} tpch 1,2,3,4,5 with scale 1, 10\n",
    "# 2 {5module4} and 3. module4 | also {5module4mem} and {5module4net}\n",
    "# 3.{5tpchmodin} tpch 1, 4, 5 with modin on scale 10\n",
    "# 4.{5micro_scales} micros with scale 1, 10 | also {5micro_traffic}\n",
    "# 5.{5micro_net} micro join, selection with net=wan and scale 1"
   ]
  },
  {
   "cell_type": "code",
   "execution_count": 4,
   "id": "8df3cae3-4e71-4b7e-a808-f3810fe144ba",
   "metadata": {},
   "outputs": [
    {
     "data": {
      "text/plain": [
       "Index(['bytes_memory', 'cpu_percent', 'bytes_sent', 'bytes_recv',\n",
       "       'snapshot_idx', 'proc_time', 'exitcode', 'db_time', 'shared_wall_time',\n",
       "       'wflow', 'optimizer', 'scale', 'net'],\n",
       "      dtype='object')"
      ]
     },
     "execution_count": 4,
     "metadata": {},
     "output_type": "execute_result"
    }
   ],
   "source": [
    "factors= ['wflow', 'optimizer', 'net', 'scale']\n",
    "df=pandas.read_feather('specific-reports/5end_to_end.feather')\n",
    "df.columns"
   ]
  },
  {
   "cell_type": "markdown",
   "id": "45169b47-cd90-426c-91c4-77e5a8fe8c21",
   "metadata": {},
   "source": [
    "# CHECK"
   ]
  },
  {
   "cell_type": "code",
   "execution_count": 5,
   "id": "fa93131e-558c-4a47-9c39-47705fb28ecf",
   "metadata": {},
   "outputs": [
    {
     "data": {
      "text/plain": [
       "0    47058\n",
       "Name: exitcode, dtype: int64"
      ]
     },
     "execution_count": 5,
     "metadata": {},
     "output_type": "execute_result"
    }
   ],
   "source": [
    "df['exitcode'].value_counts()"
   ]
  },
  {
   "cell_type": "code",
   "execution_count": 6,
   "id": "4cec32a3-f9c9-4805-adae-97dfa8bfadd9",
   "metadata": {},
   "outputs": [
    {
     "data": {
      "text/plain": [
       "array([], dtype=object)"
      ]
     },
     "execution_count": 6,
     "metadata": {},
     "output_type": "execute_result"
    }
   ],
   "source": [
    "df.query(\"exitcode == 1\")['wflow'].unique()"
   ]
  },
  {
   "cell_type": "markdown",
   "id": "84b22d74-8322-4ddd-b7d2-bd89cb446b07",
   "metadata": {},
   "source": [
    "# PREPROCESS"
   ]
  },
  {
   "cell_type": "code",
   "execution_count": 75,
   "id": "203c3520-f38f-4f7b-9971-933e1c132dd4",
   "metadata": {},
   "outputs": [
    {
     "data": {
      "text/plain": [
       "Index(['wflow', 'optimizer', 'net', 'scale', 'bytes_memory', 'cpu_percent',\n",
       "       'bytes_sent', 'bytes_recv', 'snapshot_idx', 'proc_time', 'exitcode',\n",
       "       'db_time', 'shared_wall_time'],\n",
       "      dtype='object')"
      ]
     },
     "execution_count": 75,
     "metadata": {},
     "output_type": "execute_result"
    }
   ],
   "source": [
    "overview = df.groupby(by=factors).first().reset_index()\n",
    "overview.columns"
   ]
  },
  {
   "cell_type": "code",
   "execution_count": 76,
   "id": "b7813ae9-780e-4d9f-98d3-e7f2e560317e",
   "metadata": {},
   "outputs": [],
   "source": [
    "overview = overview[[\"wflow\", \"optimizer\", \"scale\", \"shared_wall_time\"]]"
   ]
  },
  {
   "cell_type": "code",
   "execution_count": 77,
   "id": "eb0ccd8d-4dac-43d6-84bd-a42371dbafa9",
   "metadata": {},
   "outputs": [],
   "source": [
    "plot_df = overview"
   ]
  },
  {
   "cell_type": "markdown",
   "id": "16cf6420-6e0f-4c89-99e1-1b3ea8ef4a32",
   "metadata": {},
   "source": [
    "# PROCEDURAL AND DB TIME"
   ]
  },
  {
   "cell_type": "code",
   "execution_count": 85,
   "id": "bd362f02-71d9-4cd5-a5e6-91f606a3076f",
   "metadata": {},
   "outputs": [],
   "source": [
    "#plot_df[\"optimizer\"] = plot_df[\"optimizer\"].replace(\"optimized\", \"opt\")\n",
    "plot_df[\"scale\"] = plot_df[\"scale\"].replace(1, \"scale 1\")\n",
    "plot_df[\"scale\"] = plot_df[\"scale\"].replace(10, \"scale 10\")\n",
    "plot_df[\"wflow\"] = plot_df[\"wflow\"].replace(\"tpch1.py\", \"tpch1\")\n",
    "plot_df[\"wflow\"] = plot_df[\"wflow\"].replace(\"tpch2.py\", \"tpch2\")\n",
    "plot_df[\"wflow\"] = plot_df[\"wflow\"].replace(\"tpch3.py\", \"tpch3\")\n",
    "plot_df[\"wflow\"] = plot_df[\"wflow\"].replace(\"tpch4.py\", \"tpch4\")\n",
    "plot_df[\"wflow\"] = plot_df[\"wflow\"].replace(\"tpch5.py\", \"tpch5\")"
   ]
  },
  {
   "cell_type": "code",
   "execution_count": 89,
   "id": "65716eb9-30b3-492f-8320-527c9fba0c9d",
   "metadata": {},
   "outputs": [],
   "source": [
    "plot = (\n",
    "        ggplot(plot_df, aes('wflow', y='shared_wall_time', fill='optimizer'))\n",
    "        + geom_col(width = 0.5, position = \"dodge\")\n",
    "        #+ scale_fill_manual(values=cdict) \n",
    "        + scale_y_sqrt()\n",
    "        + labs(fill=\"Optimization Method\")\n",
    "        + facet_wrap('~ scale', scales='free_y', nrow=1, dir='v')\n",
    "        + xlab(\"Query\")\n",
    "        + ylab(\"Time (in sec.)\")\n",
    "       # + theme(figure_size=(8, 2))\n",
    "               #subplots_adjust={'hspace': 1, 'wspace': 0.25})\n",
    "        + theme(figure_size=(8, 2), subplots_adjust={'wspace': 0.20})\n",
    "    )"
   ]
  },
  {
   "cell_type": "code",
   "execution_count": 90,
   "id": "1f968d33-afd0-4706-8d63-954d8cf57be3",
   "metadata": {},
   "outputs": [
    {
     "name": "stderr",
     "output_type": "stream",
     "text": [
      "E:\\ssdapps\\anaconda\\lib\\site-packages\\plotnine\\ggplot.py:719: PlotnineWarning: Saving 8 x 2 in image.\n",
      "E:\\ssdapps\\anaconda\\lib\\site-packages\\plotnine\\ggplot.py:722: PlotnineWarning: Filename: specific-plots/5end_to_end.png\n",
      "E:\\ssdapps\\anaconda\\lib\\site-packages\\tikzplotlib\\_save.py:390: UserWarning: tikzplotlib: Don't know how to handle object <class 'matplotlib.offsetbox.AnchoredOffsetbox'>.\n"
     ]
    },
    {
     "data": {
      "image/png": "[encoded data removed]",
      "text/plain": [
       "<Figure size 800x200 with 2 Axes>"
      ]
     },
     "metadata": {},
     "output_type": "display_data"
    },
    {
     "data": {
      "image/png": "[encoded data removed]",
      "text/plain": [
       "<Figure size 800x200 with 2 Axes>"
      ]
     },
     "metadata": {},
     "output_type": "display_data"
    },
    {
     "data": {
      "text/plain": [
       "<ggplot: (142160272713)>"
      ]
     },
     "metadata": {},
     "output_type": "display_data"
    }
   ],
   "source": [
    "plot.save(\"specific-plots/5end_to_end.png\")\n",
    "matplot = plot.draw()\n",
    "tikzplotlib.save('specific-plots/5end_to_end.tikz', figure=matplot)\n",
    "display(plot)"
   ]
  },
  {
   "cell_type": "code",
   "execution_count": null,
   "id": "7efede78-eb8e-48ba-b884-359cdb4ef66b",
   "metadata": {},
   "outputs": [],
   "source": []
  }
 ],
 "metadata": {
  "kernelspec": {
   "display_name": "Python 3",
   "language": "python",
   "name": "python3"
  },
  "language_info": {
   "codemirror_mode": {
    "name": "ipython",
    "version": 3
   },
   "file_extension": ".py",
   "mimetype": "text/x-python",
   "name": "python",
   "nbconvert_exporter": "python",
   "pygments_lexer": "ipython3",
   "version": "3.8.10"
  }
 },
 "nbformat": 4,
 "nbformat_minor": 5
}
