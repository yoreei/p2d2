{
 "cells": [
  {
   "cell_type": "code",
   "execution_count": 1,
   "metadata": {},
   "outputs": [],
   "source": [
    "import pandas\n",
    "import psycopg2\n",
    "import inspect\n",
    "def unique_signature(f, *args, **kwargs):\n",
    "    sig=inspect.signature(f)\n",
    "    b=sig.bind(*args, **kwargs)\n",
    "    b.apply_defaults()\n",
    "    return b"
   ]
  },
  {
   "cell_type": "markdown",
   "metadata": {},
   "source": [
    "# Background\n",
    "\n",
    "Python and other C-like languages use a mixture of Infix and Prefix notation:\n",
    "\n",
    "```python\n",
    "a = pandas.read_sql(sql, conn) \n",
    "```\n",
    "\n",
    "__Infix part:__\n",
    "\n",
    "```\n",
    "= - a\n",
    "  \\ pandas.read_sql(...)\n",
    "```\n",
    "\n",
    "__Prefix part:__\n",
    "```\n",
    "pandas.read_sql - sql\n",
    "                \\ conn\n",
    "```\n",
    "\n",
    "My goal is to create a Prefix IR between Python and similar languages which could then be trivially converted to SQL.\n",
    "\n",
    "## Why Prefix IR:\n",
    "\n",
    "\n",
    " - The prefix IR is still valid Python, so we can evaluate it in Python (and get SQL in return):\n",
    " \n",
    "A simple example of Infix to Prefix notation:\n",
    "\n",
    "```python\n",
    "ASSIGN(target=a, source=read_sql(sql,conn)) # not part of the IR\n",
    "```\n",
    " - SQL looks Prefix-ish to me:\n",
    " ```SQL\n",
    "SELECT A.data, B.data\n",
    "FROM B\n",
    "    INNER JOIN A ON B.CustomerID=A.CustomerID; *optional\n",
    "WHERE *optional\n",
    "ORDER BY *optinal\n",
    "```\n",
    "\n",
    "I can reconstruct the above SQL query (using nested queries) if I have the following functions:\n",
    "```python\n",
    ">>> PROJ(from_f, cols_f)\n",
    "'SELECT '+cols_f()+' FROM '+from_f()\n",
    "\n",
    ">>> SEL(from_f, cond_f) \n",
    "'SELECT * FROM '+from_f()+' WHERE '+cond_f()\n",
    "\n",
    ">>> ORDER_BY(from_f, order_by_f) \n",
    "'SELECT * FROM '+from_f()+' ORDER BY '+order_by_f()\n",
    "\n",
    ">>> JOIN(from_f1, from_f2, join_type, cond_f)\n",
    "'SELECT * FROM '+from_f1()+' '+join_type()+' JOIN '+from_f2()+' ON '+cond_f()\n",
    "\n",
    ">>> MAX(from_f, cols_f, group_by=lambda:'') # not \n",
    "'SELECT MAX('+cols_f()+') FROM '+from_f()+' GROUP BY ('+group_by()+')'\n",
    "# note: GROUP BY () means no GROUP BY\n",
    "\n",
    ">>> MIN...\n",
    "\n",
    ">>> FINAL(from_f)\n",
    "from_f()+';'\n",
    "\n",
    "# and other functions\n",
    "```\n",
    "\n",
    "Therefore I need to create a mapping from a Python API (e.g. Pandas) to the functions above"
   ]
  },
  {
   "cell_type": "code",
   "execution_count": 2,
   "metadata": {},
   "outputs": [
    {
     "data": {
      "text/plain": [
       "{'pandas.DataFrame.append': {'args': ['$with'],\n",
       "  'kwargs': {},\n",
       "  'inplace': False,\n",
       "  'maps': 'UNION($self, $with)'},\n",
       " 'pandas.Series.max': {'args': [],\n",
       "  'kwargs': {},\n",
       "  'inplace': False,\n",
       "  'maps': 'MAX($self)'},\n",
       " 'pandas.read_sql': {'args': ['$sql', '$conn'],\n",
       "  'kwargs': {},\n",
       "  'inplace': False,\n",
       "  'maps': 'FROM($sql, $conn)'}}"
      ]
     },
     "execution_count": 2,
     "metadata": {},
     "output_type": "execute_result"
    }
   ],
   "source": [
    "import yaml\n",
    "yaspec=\"\"\"\n",
    "pandas.DataFrame.append:\n",
    "    args: [$with]\n",
    "    kwargs: {}\n",
    "    inplace: False\n",
    "    maps: UNION($self, $with)\n",
    "    \n",
    "pandas.DataFrame.append:\n",
    "    args: [$with, $with2]\n",
    "    kwargs: {}\n",
    "    inplace: False\n",
    "    maps: UNION($self, $with)\n",
    "\n",
    "pandas.Series.max:\n",
    "    args: []\n",
    "    kwargs: {}\n",
    "    inplace: False\n",
    "    maps: MAX($self)\n",
    "\n",
    "pandas.read_sql:\n",
    "    args: [$sql, $conn]\n",
    "    kwargs: {}\n",
    "    inplace: False\n",
    "    maps: FROM($sql, $conn)\n",
    "\"\"\"\n",
    "pyspec = yaml.load(yaspec, Loader=yaml.FullLoader);pyspec"
   ]
  },
  {
   "cell_type": "markdown",
   "metadata": {},
   "source": [
    "# Theory\n",
    "### mapping + code -> optimized code"
   ]
  },
  {
   "cell_type": "code",
   "execution_count": 9,
   "metadata": {},
   "outputs": [
    {
     "name": "stdout",
     "output_type": "stream",
     "text": [
      "Object `handling` not found.\n"
     ]
    }
   ],
   "source": [
    "What about default argument handling?"
   ]
  },
  {
   "cell_type": "code",
   "execution_count": null,
   "metadata": {},
   "outputs": [],
   "source": [
    "What about default argument handling"
   ]
  },
  {
   "cell_type": "code",
   "execution_count": 3,
   "metadata": {},
   "outputs": [
    {
     "data": {
      "text/plain": [
       "<BoundArguments (sql='SELECT...', con='conn', index_col=None, coerce_float=True, params=None, parse_dates=None, columns=None, chunksize=None)>"
      ]
     },
     "execution_count": 3,
     "metadata": {},
     "output_type": "execute_result"
    }
   ],
   "source": [
    "unique_signature(pandas.read_sql, 'SELECT...', 'conn')"
   ]
  },
  {
   "cell_type": "code",
   "execution_count": 8,
   "metadata": {},
   "outputs": [
    {
     "data": {
      "text/plain": [
       "<BoundArguments (sql='SELECT...', con='conn', index_col=None, coerce_float=True, params=None, parse_dates=None, columns=None, chunksize=None)>"
      ]
     },
     "execution_count": 8,
     "metadata": {},
     "output_type": "execute_result"
    }
   ],
   "source": [
    "unique_signature(pandas.read_sql, 'SELECT...', 'conn', None, True, None, None)"
   ]
  },
  {
   "cell_type": "code",
   "execution_count": null,
   "metadata": {},
   "outputs": [],
   "source": [
    "'host=localhost dbname=tpch user=p2d2 password=p2d2'"
   ]
  }
 ],
 "metadata": {
  "kernelspec": {
   "display_name": "Python 3",
   "language": "python",
   "name": "python3"
  },
  "language_info": {
   "codemirror_mode": {
    "name": "ipython",
    "version": 3
   },
   "file_extension": ".py",
   "mimetype": "text/x-python",
   "name": "python",
   "nbconvert_exporter": "python",
   "pygments_lexer": "ipython3",
   "version": "3.8.5"
  }
 },
 "nbformat": 4,
 "nbformat_minor": 4
}
